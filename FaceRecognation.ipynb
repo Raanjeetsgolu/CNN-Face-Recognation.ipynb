{
  "cells": [
    {
      "cell_type": "markdown",
      "metadata": {
        "id": "view-in-github",
        "colab_type": "text"
      },
      "source": [
        "<a href=\"https://colab.research.google.com/github/Raanjeetsgolu/Face-Detections/blob/main/FaceRecognation.ipynb\" target=\"_parent\"><img src=\"https://colab.research.google.com/assets/colab-badge.svg\" alt=\"Open In Colab\"/></a>"
      ]
    },
    {
      "cell_type": "markdown",
      "metadata": {
        "id": "dHocuVuVohbe"
      },
      "source": [
        "# 1. Setup"
      ]
    },
    {
      "cell_type": "markdown",
      "metadata": {
        "id": "ywiwKbNsohbg"
      },
      "source": [
        "## 1.1 Install Dependencies"
      ]
    },
    {
      "cell_type": "code",
      "source": [
        "#getting file\n",
        "from google.colab import drive\n",
        "drive.mount('/content/drive')"
      ],
      "metadata": {
        "id": "g75S67TFzno4",
        "colab": {
          "base_uri": "https://localhost:8080/"
        },
        "outputId": "05bf734b-2b5b-43e5-a277-bd008cac3a34"
      },
      "execution_count": 2,
      "outputs": [
        {
          "output_type": "stream",
          "name": "stdout",
          "text": [
            "Drive already mounted at /content/drive; to attempt to forcibly remount, call drive.mount(\"/content/drive\", force_remount=True).\n"
          ]
        }
      ]
    },
    {
      "cell_type": "code",
      "source": [
        "!cp -r  /content/drive/MyDrive/data /content/data"
      ],
      "metadata": {
        "id": "pH0xAhbG0NsF"
      },
      "execution_count": 3,
      "outputs": []
    },
    {
      "cell_type": "code",
      "source": [
        "!cp -r /content/drive/MyDrive/lfw  /content/lfw"
      ],
      "metadata": {
        "id": "jn3bRC331PJw"
      },
      "execution_count": 4,
      "outputs": []
    },
    {
      "cell_type": "code",
      "execution_count": 5,
      "metadata": {
        "colab": {
          "base_uri": "https://localhost:8080/"
        },
        "id": "lI36zj0Rohbh",
        "outputId": "a2072530-d015-4aeb-8677-82f77cd249f6"
      },
      "outputs": [
        {
          "output_type": "stream",
          "name": "stdout",
          "text": [
            "Requirement already satisfied: tensorflow==2.15.0 in /usr/local/lib/python3.10/dist-packages (2.15.0)\n",
            "Requirement already satisfied: opencv-python in /usr/local/lib/python3.10/dist-packages (4.8.0.76)\n",
            "Requirement already satisfied: matplotlib in /usr/local/lib/python3.10/dist-packages (3.7.1)\n",
            "Requirement already satisfied: absl-py>=1.0.0 in /usr/local/lib/python3.10/dist-packages (from tensorflow==2.15.0) (1.4.0)\n",
            "Requirement already satisfied: astunparse>=1.6.0 in /usr/local/lib/python3.10/dist-packages (from tensorflow==2.15.0) (1.6.3)\n",
            "Requirement already satisfied: flatbuffers>=23.5.26 in /usr/local/lib/python3.10/dist-packages (from tensorflow==2.15.0) (24.3.25)\n",
            "Requirement already satisfied: gast!=0.5.0,!=0.5.1,!=0.5.2,>=0.2.1 in /usr/local/lib/python3.10/dist-packages (from tensorflow==2.15.0) (0.5.4)\n",
            "Requirement already satisfied: google-pasta>=0.1.1 in /usr/local/lib/python3.10/dist-packages (from tensorflow==2.15.0) (0.2.0)\n",
            "Requirement already satisfied: h5py>=2.9.0 in /usr/local/lib/python3.10/dist-packages (from tensorflow==2.15.0) (3.9.0)\n",
            "Requirement already satisfied: libclang>=13.0.0 in /usr/local/lib/python3.10/dist-packages (from tensorflow==2.15.0) (18.1.1)\n",
            "Requirement already satisfied: ml-dtypes~=0.2.0 in /usr/local/lib/python3.10/dist-packages (from tensorflow==2.15.0) (0.2.0)\n",
            "Requirement already satisfied: numpy<2.0.0,>=1.23.5 in /usr/local/lib/python3.10/dist-packages (from tensorflow==2.15.0) (1.25.2)\n",
            "Requirement already satisfied: opt-einsum>=2.3.2 in /usr/local/lib/python3.10/dist-packages (from tensorflow==2.15.0) (3.3.0)\n",
            "Requirement already satisfied: packaging in /usr/local/lib/python3.10/dist-packages (from tensorflow==2.15.0) (24.0)\n",
            "Requirement already satisfied: protobuf!=4.21.0,!=4.21.1,!=4.21.2,!=4.21.3,!=4.21.4,!=4.21.5,<5.0.0dev,>=3.20.3 in /usr/local/lib/python3.10/dist-packages (from tensorflow==2.15.0) (3.20.3)\n",
            "Requirement already satisfied: setuptools in /usr/local/lib/python3.10/dist-packages (from tensorflow==2.15.0) (67.7.2)\n",
            "Requirement already satisfied: six>=1.12.0 in /usr/local/lib/python3.10/dist-packages (from tensorflow==2.15.0) (1.16.0)\n",
            "Requirement already satisfied: termcolor>=1.1.0 in /usr/local/lib/python3.10/dist-packages (from tensorflow==2.15.0) (2.4.0)\n",
            "Requirement already satisfied: typing-extensions>=3.6.6 in /usr/local/lib/python3.10/dist-packages (from tensorflow==2.15.0) (4.10.0)\n",
            "Requirement already satisfied: wrapt<1.15,>=1.11.0 in /usr/local/lib/python3.10/dist-packages (from tensorflow==2.15.0) (1.14.1)\n",
            "Requirement already satisfied: tensorflow-io-gcs-filesystem>=0.23.1 in /usr/local/lib/python3.10/dist-packages (from tensorflow==2.15.0) (0.36.0)\n",
            "Requirement already satisfied: grpcio<2.0,>=1.24.3 in /usr/local/lib/python3.10/dist-packages (from tensorflow==2.15.0) (1.62.1)\n",
            "Requirement already satisfied: tensorboard<2.16,>=2.15 in /usr/local/lib/python3.10/dist-packages (from tensorflow==2.15.0) (2.15.2)\n",
            "Requirement already satisfied: tensorflow-estimator<2.16,>=2.15.0 in /usr/local/lib/python3.10/dist-packages (from tensorflow==2.15.0) (2.15.0)\n",
            "Requirement already satisfied: keras<2.16,>=2.15.0 in /usr/local/lib/python3.10/dist-packages (from tensorflow==2.15.0) (2.15.0)\n",
            "Requirement already satisfied: contourpy>=1.0.1 in /usr/local/lib/python3.10/dist-packages (from matplotlib) (1.2.0)\n",
            "Requirement already satisfied: cycler>=0.10 in /usr/local/lib/python3.10/dist-packages (from matplotlib) (0.12.1)\n",
            "Requirement already satisfied: fonttools>=4.22.0 in /usr/local/lib/python3.10/dist-packages (from matplotlib) (4.50.0)\n",
            "Requirement already satisfied: kiwisolver>=1.0.1 in /usr/local/lib/python3.10/dist-packages (from matplotlib) (1.4.5)\n",
            "Requirement already satisfied: pillow>=6.2.0 in /usr/local/lib/python3.10/dist-packages (from matplotlib) (9.4.0)\n",
            "Requirement already satisfied: pyparsing>=2.3.1 in /usr/local/lib/python3.10/dist-packages (from matplotlib) (3.1.2)\n",
            "Requirement already satisfied: python-dateutil>=2.7 in /usr/local/lib/python3.10/dist-packages (from matplotlib) (2.8.2)\n",
            "Requirement already satisfied: wheel<1.0,>=0.23.0 in /usr/local/lib/python3.10/dist-packages (from astunparse>=1.6.0->tensorflow==2.15.0) (0.43.0)\n",
            "Requirement already satisfied: google-auth<3,>=1.6.3 in /usr/local/lib/python3.10/dist-packages (from tensorboard<2.16,>=2.15->tensorflow==2.15.0) (2.27.0)\n",
            "Requirement already satisfied: google-auth-oauthlib<2,>=0.5 in /usr/local/lib/python3.10/dist-packages (from tensorboard<2.16,>=2.15->tensorflow==2.15.0) (1.2.0)\n",
            "Requirement already satisfied: markdown>=2.6.8 in /usr/local/lib/python3.10/dist-packages (from tensorboard<2.16,>=2.15->tensorflow==2.15.0) (3.6)\n",
            "Requirement already satisfied: requests<3,>=2.21.0 in /usr/local/lib/python3.10/dist-packages (from tensorboard<2.16,>=2.15->tensorflow==2.15.0) (2.31.0)\n",
            "Requirement already satisfied: tensorboard-data-server<0.8.0,>=0.7.0 in /usr/local/lib/python3.10/dist-packages (from tensorboard<2.16,>=2.15->tensorflow==2.15.0) (0.7.2)\n",
            "Requirement already satisfied: werkzeug>=1.0.1 in /usr/local/lib/python3.10/dist-packages (from tensorboard<2.16,>=2.15->tensorflow==2.15.0) (3.0.2)\n",
            "Requirement already satisfied: cachetools<6.0,>=2.0.0 in /usr/local/lib/python3.10/dist-packages (from google-auth<3,>=1.6.3->tensorboard<2.16,>=2.15->tensorflow==2.15.0) (5.3.3)\n",
            "Requirement already satisfied: pyasn1-modules>=0.2.1 in /usr/local/lib/python3.10/dist-packages (from google-auth<3,>=1.6.3->tensorboard<2.16,>=2.15->tensorflow==2.15.0) (0.4.0)\n",
            "Requirement already satisfied: rsa<5,>=3.1.4 in /usr/local/lib/python3.10/dist-packages (from google-auth<3,>=1.6.3->tensorboard<2.16,>=2.15->tensorflow==2.15.0) (4.9)\n",
            "Requirement already satisfied: requests-oauthlib>=0.7.0 in /usr/local/lib/python3.10/dist-packages (from google-auth-oauthlib<2,>=0.5->tensorboard<2.16,>=2.15->tensorflow==2.15.0) (1.3.1)\n",
            "Requirement already satisfied: charset-normalizer<4,>=2 in /usr/local/lib/python3.10/dist-packages (from requests<3,>=2.21.0->tensorboard<2.16,>=2.15->tensorflow==2.15.0) (3.3.2)\n",
            "Requirement already satisfied: idna<4,>=2.5 in /usr/local/lib/python3.10/dist-packages (from requests<3,>=2.21.0->tensorboard<2.16,>=2.15->tensorflow==2.15.0) (3.6)\n",
            "Requirement already satisfied: urllib3<3,>=1.21.1 in /usr/local/lib/python3.10/dist-packages (from requests<3,>=2.21.0->tensorboard<2.16,>=2.15->tensorflow==2.15.0) (2.0.7)\n",
            "Requirement already satisfied: certifi>=2017.4.17 in /usr/local/lib/python3.10/dist-packages (from requests<3,>=2.21.0->tensorboard<2.16,>=2.15->tensorflow==2.15.0) (2024.2.2)\n",
            "Requirement already satisfied: MarkupSafe>=2.1.1 in /usr/local/lib/python3.10/dist-packages (from werkzeug>=1.0.1->tensorboard<2.16,>=2.15->tensorflow==2.15.0) (2.1.5)\n",
            "Requirement already satisfied: pyasn1<0.7.0,>=0.4.6 in /usr/local/lib/python3.10/dist-packages (from pyasn1-modules>=0.2.1->google-auth<3,>=1.6.3->tensorboard<2.16,>=2.15->tensorflow==2.15.0) (0.6.0)\n",
            "Requirement already satisfied: oauthlib>=3.0.0 in /usr/local/lib/python3.10/dist-packages (from requests-oauthlib>=0.7.0->google-auth-oauthlib<2,>=0.5->tensorboard<2.16,>=2.15->tensorflow==2.15.0) (3.2.2)\n"
          ]
        }
      ],
      "source": [
        "!pip install tensorflow==2.15.0  opencv-python matplotlib"
      ]
    },
    {
      "cell_type": "markdown",
      "metadata": {
        "id": "85YIaqdCohbh"
      },
      "source": [
        "## 1.2 Import Dependencies"
      ]
    },
    {
      "cell_type": "code",
      "execution_count": 6,
      "metadata": {
        "id": "LzdD4GwPohbi"
      },
      "outputs": [],
      "source": [
        "# Import standard dependencies\n",
        "import cv2\n",
        "import os\n",
        "import random\n",
        "import numpy as np\n",
        "from matplotlib import pyplot as plt"
      ]
    },
    {
      "cell_type": "code",
      "execution_count": 7,
      "metadata": {
        "id": "hMhybhl1ohbi"
      },
      "outputs": [],
      "source": [
        "# Import tensorflow dependencies - Functional API\n",
        "from tensorflow.keras.models import Model\n",
        "from tensorflow.keras.layers import Layer, Conv2D, Dense, MaxPooling2D, Input, Flatten\n",
        "import tensorflow as tf"
      ]
    },
    {
      "cell_type": "markdown",
      "metadata": {
        "id": "Wn7hrM0dohbi"
      },
      "source": [
        "## 1.3 Set GPU Growth"
      ]
    },
    {
      "cell_type": "code",
      "execution_count": 8,
      "metadata": {
        "id": "gbRZILF1ohbi"
      },
      "outputs": [],
      "source": [
        "# Avoid OOM errors by setting GPU Memory Consumption Growth\n",
        "gpus = tf.config.experimental.list_physical_devices('GPU')\n",
        "for gpu in gpus:\n",
        "    tf.config.experimental.set_memory_growth(gpu, True)"
      ]
    },
    {
      "cell_type": "markdown",
      "metadata": {
        "id": "-LvSeGMWohbi"
      },
      "source": [
        "## 1.4 Create Folder Structures"
      ]
    },
    {
      "cell_type": "code",
      "execution_count": 9,
      "metadata": {
        "id": "fwW-3Endohbj"
      },
      "outputs": [],
      "source": [
        "# Setup paths\n",
        "POS_PATH = os.path.join('data', 'positive')\n",
        "NEG_PATH = os.path.join('data', 'negative')\n",
        "ANC_PATH = os.path.join('data', 'anchor')"
      ]
    },
    {
      "cell_type": "code",
      "execution_count": null,
      "metadata": {
        "id": "4aeaTuW3ohbj"
      },
      "outputs": [],
      "source": [
        "# Make the directories\n",
        "os.makedirs(POS_PATH)\n",
        "os.makedirs(NEG_PATH)\n",
        "os.makedirs(ANC_PATH)"
      ]
    },
    {
      "cell_type": "markdown",
      "metadata": {
        "id": "DjC4WdsLohbj"
      },
      "source": [
        "# 2. Collect Positives and Anchors"
      ]
    },
    {
      "cell_type": "markdown",
      "metadata": {
        "id": "IN4QXspFohbj"
      },
      "source": [
        "## 2.1 Untar Labelled Faces in the Wild Dataset"
      ]
    },
    {
      "cell_type": "code",
      "execution_count": null,
      "metadata": {
        "id": "qYGTEF18ohbj"
      },
      "outputs": [],
      "source": [
        "# http://vis-www.cs.umass.edu/lfw/"
      ]
    },
    {
      "cell_type": "code",
      "execution_count": null,
      "metadata": {
        "id": "dwpQCr2Cohbk"
      },
      "outputs": [],
      "source": [
        "# Uncompress Tar GZ Labelled Faces in the Wild Dataset\n",
        "!tar -xf lfw.tgz"
      ]
    },
    {
      "cell_type": "code",
      "execution_count": null,
      "metadata": {
        "id": "8ID-Yzw-ohbk"
      },
      "outputs": [],
      "source": [
        "# Move LFW Images to the following repository data/negative\n",
        "for directory in os.listdir('lfw'):\n",
        "    for file in os.listdir(os.path.join('lfw', directory)):\n",
        "        EX_PATH = os.path.join('lfw', directory, file)\n",
        "        NEW_PATH = os.path.join(NEG_PATH, file)\n",
        "        os.replace(EX_PATH, NEW_PATH)"
      ]
    },
    {
      "cell_type": "markdown",
      "metadata": {
        "id": "XG-kxsyoohbk"
      },
      "source": [
        "## 2.2 Collect Positive and Anchor Classes"
      ]
    },
    {
      "cell_type": "code",
      "execution_count": 10,
      "metadata": {
        "id": "T8u8TcVCohbk"
      },
      "outputs": [],
      "source": [
        "# Import uuid library to generate unique image names\n",
        "import uuid"
      ]
    },
    {
      "cell_type": "code",
      "execution_count": 11,
      "metadata": {
        "id": "heWnqN7dohbk",
        "outputId": "4f1cf5e6-4fef-456f-fdc2-f5dbda70c617",
        "colab": {
          "base_uri": "https://localhost:8080/",
          "height": 38
        }
      },
      "outputs": [
        {
          "output_type": "execute_result",
          "data": {
            "text/plain": [
              "'data/anchor/060d744c-f433-11ee-ba4e-0242ac1c000c.jpg'"
            ],
            "application/vnd.google.colaboratory.intrinsic+json": {
              "type": "string"
            }
          },
          "metadata": {},
          "execution_count": 11
        }
      ],
      "source": [
        "os.path.join(ANC_PATH, '{}.jpg'.format(uuid.uuid1()))"
      ]
    },
    {
      "cell_type": "code",
      "source": [
        "from IPython.display import display, Javascript\n",
        "from google.colab.output import eval_js\n",
        "from base64 import b64decode\n",
        "\n",
        "def take_photo(output_folder, quality=0.8):\n",
        "  js = Javascript('''\n",
        "    async function takePhoto(quality) {\n",
        "      const div = document.createElement('div');\n",
        "      const capture = document.createElement('button');\n",
        "      capture.textContent = 'Capture';\n",
        "      div.appendChild(capture);\n",
        "\n",
        "      const video = document.createElement('video');\n",
        "      video.style.display = 'block';\n",
        "      const stream = await navigator.mediaDevices.getUserMedia({video: true});\n",
        "\n",
        "      document.body.appendChild(div);\n",
        "      div.appendChild(video);\n",
        "      video.srcObject = stream;\n",
        "      await video.play();\n",
        "\n",
        "      // Resize the output to fit the video element.\n",
        "      google.colab.output.setIframeHeight(document.documentElement.scrollHeight, true);\n",
        "\n",
        "      // Wait for Capture to be clicked.\n",
        "      await new Promise((resolve) => capture.onclick = resolve);\n",
        "\n",
        "      const canvas = document.createElement('canvas');\n",
        "      canvas.width = video.videoWidth;\n",
        "      canvas.height = video.videoHeight;\n",
        "      canvas.getContext('2d').drawImage(video, 0, 0);\n",
        "      stream.getVideoTracks()[0].stop();\n",
        "      div.remove();\n",
        "      return canvas.toDataURL('image/jpeg', quality);\n",
        "    }\n",
        "    ''')\n",
        "  display(js)\n",
        "  data = eval_js('takePhoto({})'.format(quality))\n",
        "  # filename = str(uuid.uuid1()) + '.jpg'\n",
        "  filename = os.path.join(output_folder, '{}.jpg'.format(uuid.uuid1()))\n",
        "  binary = b64decode(data.split(',')[1])\n",
        "  with open(filename, 'wb') as f:\n",
        "    f.write(binary)\n",
        "  # return filename\n",
        "\n",
        "\n",
        "  frame = cv2.imread(filename)\n",
        "\n",
        "  # Crop the image to 250x250 pixels\n",
        "  cropped_frame = frame[120:370, 200:450, :]  # Adjust the slicing indices as needed\n",
        "\n",
        "  # Save the cropped image\n",
        "  cv2.imwrite(filename, cropped_frame)\n",
        "\n",
        "  return filename"
      ],
      "metadata": {
        "id": "huJ8rjx78zUp"
      },
      "execution_count": 150,
      "outputs": []
    },
    {
      "cell_type": "code",
      "source": [
        "from IPython.display import Image\n",
        "for  i in range(3):\n",
        "  try:\n",
        "\n",
        "    filename = take_photo(POS_PATH)\n",
        "    print('Saved to {}'.format(filename))\n",
        "    # imgname = os.path.join(ANC_PATH, '{}.jpg'.format(uuid.uuid1()))\n",
        "    # cv2.imwrite(imgname, filename)\n",
        "\n",
        "    # Show the image which was just taken.\n",
        "    display(Image(filename))\n",
        "  except Exception as err:\n",
        "    # Errors will be thrown if the user does not have a webcam or if they do not\n",
        "    # grant the page permission to access it.\n",
        "    print(str(err))\n",
        "  i +=1"
      ],
      "metadata": {
        "colab": {
          "base_uri": "https://localhost:8080/",
          "height": 821
        },
        "id": "FafYaSBq8zUy",
        "outputId": "526f3028-78f1-4c28-c2ac-c7758ebecc13"
      },
      "execution_count": 13,
      "outputs": [
        {
          "output_type": "display_data",
          "data": {
            "text/plain": [
              "<IPython.core.display.Javascript object>"
            ],
            "application/javascript": [
              "\n",
              "    async function takePhoto(quality) {\n",
              "      const div = document.createElement('div');\n",
              "      const capture = document.createElement('button');\n",
              "      capture.textContent = 'Capture';\n",
              "      div.appendChild(capture);\n",
              "\n",
              "      const video = document.createElement('video');\n",
              "      video.style.display = 'block';\n",
              "      const stream = await navigator.mediaDevices.getUserMedia({video: true});\n",
              "\n",
              "      document.body.appendChild(div);\n",
              "      div.appendChild(video);\n",
              "      video.srcObject = stream;\n",
              "      await video.play();\n",
              "\n",
              "      // Resize the output to fit the video element.\n",
              "      google.colab.output.setIframeHeight(document.documentElement.scrollHeight, true);\n",
              "\n",
              "      // Wait for Capture to be clicked.\n",
              "      await new Promise((resolve) => capture.onclick = resolve);\n",
              "\n",
              "      const canvas = document.createElement('canvas');\n",
              "      canvas.width = video.videoWidth;\n",
              "      canvas.height = video.videoHeight;\n",
              "      canvas.getContext('2d').drawImage(video, 0, 0);\n",
              "      stream.getVideoTracks()[0].stop();\n",
              "      div.remove();\n",
              "      return canvas.toDataURL('image/jpeg', quality);\n",
              "    }\n",
              "    "
            ]
          },
          "metadata": {}
        },
        {
          "output_type": "stream",
          "name": "stdout",
          "text": [
            "Saved to data/positive/1edba430-f433-11ee-ba4e-0242ac1c000c.jpg\n"
          ]
        },
        {
          "output_type": "display_data",
          "data": {
            "image/jpeg": "[encoded data removed]",
            "text/plain": [
              "<IPython.core.display.Image object>"
            ]
          },
          "metadata": {}
        },
        {
          "output_type": "display_data",
          "data": {
            "text/plain": [
              "<IPython.core.display.Javascript object>"
            ],
            "application/javascript": [
              "\n",
              "    async function takePhoto(quality) {\n",
              "      const div = document.createElement('div');\n",
              "      const capture = document.createElement('button');\n",
              "      capture.textContent = 'Capture';\n",
              "      div.appendChild(capture);\n",
              "\n",
              "      const video = document.createElement('video');\n",
              "      video.style.display = 'block';\n",
              "      const stream = await navigator.mediaDevices.getUserMedia({video: true});\n",
              "\n",
              "      document.body.appendChild(div);\n",
              "      div.appendChild(video);\n",
              "      video.srcObject = stream;\n",
              "      await video.play();\n",
              "\n",
              "      // Resize the output to fit the video element.\n",
              "      google.colab.output.setIframeHeight(document.documentElement.scrollHeight, true);\n",
              "\n",
              "      // Wait for Capture to be clicked.\n",
              "      await new Promise((resolve) => capture.onclick = resolve);\n",
              "\n",
              "      const canvas = document.createElement('canvas');\n",
              "      canvas.width = video.videoWidth;\n",
              "      canvas.height = video.videoHeight;\n",
              "      canvas.getContext('2d').drawImage(video, 0, 0);\n",
              "      stream.getVideoTracks()[0].stop();\n",
              "      div.remove();\n",
              "      return canvas.toDataURL('image/jpeg', quality);\n",
              "    }\n",
              "    "
            ]
          },
          "metadata": {}
        },
        {
          "output_type": "stream",
          "name": "stdout",
          "text": [
            "Saved to data/positive/22782afa-f433-11ee-ba4e-0242ac1c000c.jpg\n"
          ]
        },
        {
          "output_type": "display_data",
          "data": {
            "image/jpeg": "[encoded data removed]",
            "text/plain": [
              "<IPython.core.display.Image object>"
            ]
          },
          "metadata": {}
        },
        {
          "output_type": "display_data",
          "data": {
            "text/plain": [
              "<IPython.core.display.Javascript object>"
            ],
            "application/javascript": [
              "\n",
              "    async function takePhoto(quality) {\n",
              "      const div = document.createElement('div');\n",
              "      const capture = document.createElement('button');\n",
              "      capture.textContent = 'Capture';\n",
              "      div.appendChild(capture);\n",
              "\n",
              "      const video = document.createElement('video');\n",
              "      video.style.display = 'block';\n",
              "      const stream = await navigator.mediaDevices.getUserMedia({video: true});\n",
              "\n",
              "      document.body.appendChild(div);\n",
              "      div.appendChild(video);\n",
              "      video.srcObject = stream;\n",
              "      await video.play();\n",
              "\n",
              "      // Resize the output to fit the video element.\n",
              "      google.colab.output.setIframeHeight(document.documentElement.scrollHeight, true);\n",
              "\n",
              "      // Wait for Capture to be clicked.\n",
              "      await new Promise((resolve) => capture.onclick = resolve);\n",
              "\n",
              "      const canvas = document.createElement('canvas');\n",
              "      canvas.width = video.videoWidth;\n",
              "      canvas.height = video.videoHeight;\n",
              "      canvas.getContext('2d').drawImage(video, 0, 0);\n",
              "      stream.getVideoTracks()[0].stop();\n",
              "      div.remove();\n",
              "      return canvas.toDataURL('image/jpeg', quality);\n",
              "    }\n",
              "    "
            ]
          },
          "metadata": {}
        },
        {
          "output_type": "stream",
          "name": "stdout",
          "text": [
            "Saved to data/positive/2535473c-f433-11ee-ba4e-0242ac1c000c.jpg\n"
          ]
        },
        {
          "output_type": "display_data",
          "data": {
            "image/jpeg": "[encoded data removed]",
            "text/plain": [
              "<IPython.core.display.Image object>"
            ]
          },
          "metadata": {}
        }
      ]
    },
    {
      "cell_type": "markdown",
      "metadata": {
        "id": "kJUdyF4Aohbk"
      },
      "source": [
        "# 2.x NEW - Data Augmentation"
      ]
    },
    {
      "cell_type": "code",
      "execution_count": 15,
      "metadata": {
        "id": "evAeRDgvohbk"
      },
      "outputs": [],
      "source": [
        "def data_aug(img):\n",
        "    data = []\n",
        "    for i in range(9):\n",
        "        img = tf.image.stateless_random_brightness(img, max_delta=0.02, seed=(1,2))\n",
        "        img = tf.image.stateless_random_contrast(img, lower=0.6, upper=1, seed=(1,3))\n",
        "        # img = tf.image.stateless_random_crop(img, size=(20,20,3), seed=(1,2))\n",
        "        img = tf.image.stateless_random_flip_left_right(img, seed=(np.random.randint(100),np.random.randint(100)))\n",
        "        img = tf.image.stateless_random_jpeg_quality(img, min_jpeg_quality=90, max_jpeg_quality=100, seed=(np.random.randint(100),np.random.randint(100)))\n",
        "        img = tf.image.stateless_random_saturation(img, lower=0.9,upper=1, seed=(np.random.randint(100),np.random.randint(100)))\n",
        "\n",
        "        data.append(img)\n",
        "\n",
        "    return data"
      ]
    },
    {
      "cell_type": "code",
      "execution_count": 16,
      "metadata": {
        "id": "Vmjaw55Nohbl"
      },
      "outputs": [],
      "source": [
        "import os\n",
        "import uuid"
      ]
    },
    {
      "cell_type": "code",
      "execution_count": 17,
      "metadata": {
        "id": "k-8co16bohbl"
      },
      "outputs": [],
      "source": [
        "img_path = os.path.join(ANC_PATH, '20b2c7b8-f05d-11ee-b446-0242ac1c000c.jpg')\n",
        "img = cv2.imread(img_path)\n",
        "augmented_images = data_aug(img)\n",
        "\n",
        "for image in augmented_images:\n",
        "    cv2.imwrite(os.path.join(ANC_PATH, '{}.jpg'.format(uuid.uuid1())), image.numpy())"
      ]
    },
    {
      "cell_type": "code",
      "execution_count": 18,
      "metadata": {
        "tags": [],
        "id": "2NtnuAKfohbl"
      },
      "outputs": [],
      "source": [
        "for file_name in os.listdir(os.path.join(POS_PATH)):\n",
        "    img_path = os.path.join(POS_PATH, file_name)\n",
        "    img = cv2.imread(img_path)\n",
        "    augmented_images = data_aug(img)\n",
        "\n",
        "    for image in augmented_images:\n",
        "        cv2.imwrite(os.path.join(POS_PATH, '{}.jpg'.format(uuid.uuid1())), image.numpy())"
      ]
    },
    {
      "cell_type": "markdown",
      "metadata": {
        "id": "z9shoNFEohbl"
      },
      "source": [
        "# 3. Load and Preprocess Images"
      ]
    },
    {
      "cell_type": "markdown",
      "metadata": {
        "id": "gtd_gEf3ohbl"
      },
      "source": [
        "## 3.1 Get Image Directories"
      ]
    },
    {
      "cell_type": "code",
      "execution_count": 19,
      "metadata": {
        "id": "hjOqpy8zohbl"
      },
      "outputs": [],
      "source": [
        "anchor = tf.data.Dataset.list_files(ANC_PATH+'/*.jpg').take(30)\n",
        "positive = tf.data.Dataset.list_files(POS_PATH+'/*.jpg').take(30)\n",
        "negative = tf.data.Dataset.list_files(NEG_PATH+'/*.jpg').take(30)"
      ]
    },
    {
      "cell_type": "code",
      "execution_count": 20,
      "metadata": {
        "id": "9cNPbGDDohbl"
      },
      "outputs": [],
      "source": [
        "dir_test = anchor.as_numpy_iterator()"
      ]
    },
    {
      "cell_type": "code",
      "execution_count": 21,
      "metadata": {
        "id": "KsNEzXVIohbl",
        "colab": {
          "base_uri": "https://localhost:8080/"
        },
        "outputId": "0f0a698c-554b-42b1-87b6-33301453a127"
      },
      "outputs": [
        {
          "output_type": "stream",
          "name": "stdout",
          "text": [
            "b'data/anchor/1c3fa7bc-f05f-11ee-b446-0242ac1c000c.jpg'\n"
          ]
        }
      ],
      "source": [
        "print(dir_test.next())"
      ]
    },
    {
      "cell_type": "markdown",
      "metadata": {
        "id": "FEobUNCdohbl"
      },
      "source": [
        "## 3.2 Preprocessing - Scale and Resize"
      ]
    },
    {
      "cell_type": "code",
      "execution_count": 22,
      "metadata": {
        "id": "71BL7xlYohbm"
      },
      "outputs": [],
      "source": [
        "def preprocess(file_path):\n",
        "\n",
        "    # Read in image from file path\n",
        "    byte_img = tf.io.read_file(file_path)\n",
        "    # Load in the image\n",
        "    img = tf.io.decode_jpeg(byte_img)\n",
        "\n",
        "    # Preprocessing steps - resizing the image to be 100x100x3\n",
        "    img = tf.image.resize(img, (100,100))\n",
        "    # Scale image to be between 0 and 1\n",
        "    img = img / 255.0\n",
        "\n",
        "    # Return image\n",
        "    return img"
      ]
    },
    {
      "cell_type": "code",
      "execution_count": 23,
      "metadata": {
        "scrolled": true,
        "tags": [],
        "id": "Flg8h_kaohbm"
      },
      "outputs": [],
      "source": [
        "img = preprocess('data/anchor/329a991a-f05d-11ee-b446-0242ac1c000c.jpg')"
      ]
    },
    {
      "cell_type": "code",
      "source": [
        "plt.imshow(img)"
      ],
      "metadata": {
        "colab": {
          "base_uri": "https://localhost:8080/",
          "height": 451
        },
        "id": "Qqmg1ugZNmuC",
        "outputId": "3cf7c859-a9e4-4f5f-c592-ebdb49e8d784"
      },
      "execution_count": 24,
      "outputs": [
        {
          "output_type": "execute_result",
          "data": {
            "text/plain": [
              "<matplotlib.image.AxesImage at 0x7d8318937370>"
            ]
          },
          "metadata": {},
          "execution_count": 24
        },
        {
          "output_type": "display_data",
          "data": {
            "text/plain": [
              "<Figure size 640x480 with 1 Axes>"
            ],
            "image/png": "[encoded data removed]"
          },
          "metadata": {}
        }
      ]
    },
    {
      "cell_type": "code",
      "execution_count": 25,
      "metadata": {
        "id": "9FS37aC-ohbm",
        "colab": {
          "base_uri": "https://localhost:8080/"
        },
        "outputId": "e4ab0739-99f2-48ab-a34d-74cd5c30850f"
      },
      "outputs": [
        {
          "output_type": "execute_result",
          "data": {
            "text/plain": [
              "1.0"
            ]
          },
          "metadata": {},
          "execution_count": 25
        }
      ],
      "source": [
        "img.numpy().max()"
      ]
    },
    {
      "cell_type": "code",
      "execution_count": null,
      "metadata": {
        "id": "tXenjL5qohbm",
        "colab": {
          "base_uri": "https://localhost:8080/",
          "height": 145
        },
        "outputId": "e8be2555-574d-40a7-9b4f-b5fa2dd790c0"
      },
      "outputs": [
        {
          "output_type": "error",
          "ename": "NameError",
          "evalue": "name 'dataset' is not defined",
          "traceback": [
            "\u001b[0;31m---------------------------------------------------------------------------\u001b[0m",
            "\u001b[0;31mNameError\u001b[0m                                 Traceback (most recent call last)",
            "\u001b[0;32m<ipython-input-24-5ba82976c081>\u001b[0m in \u001b[0;36m<cell line: 1>\u001b[0;34m()\u001b[0m\n\u001b[0;32m----> 1\u001b[0;31m \u001b[0mdataset\u001b[0m\u001b[0;34m.\u001b[0m\u001b[0mmap\u001b[0m\u001b[0;34m(\u001b[0m\u001b[0mpreprocess\u001b[0m\u001b[0;34m)\u001b[0m\u001b[0;34m\u001b[0m\u001b[0;34m\u001b[0m\u001b[0m\n\u001b[0m",
            "\u001b[0;31mNameError\u001b[0m: name 'dataset' is not defined"
          ]
        }
      ],
      "source": [
        "dataset.map(preprocess)"
      ]
    },
    {
      "cell_type": "markdown",
      "metadata": {
        "id": "0qtvZo7hohbm"
      },
      "source": [
        "## 3.3 Create Labelled Dataset"
      ]
    },
    {
      "cell_type": "code",
      "execution_count": null,
      "metadata": {
        "id": "TJujdIW8ohbp"
      },
      "outputs": [],
      "source": [
        "# (anchor, positive) => 1,1,1,1,1\n",
        "# (anchor, negative) => 0,0,0,0,0"
      ]
    },
    {
      "cell_type": "code",
      "execution_count": 26,
      "metadata": {
        "id": "kGgAvZVvohbp"
      },
      "outputs": [],
      "source": [
        "positives = tf.data.Dataset.zip((anchor, positive, tf.data.Dataset.from_tensor_slices(tf.ones(len(anchor)))))\n",
        "negatives = tf.data.Dataset.zip((anchor, negative, tf.data.Dataset.from_tensor_slices(tf.zeros(len(anchor)))))\n",
        "data = positives.concatenate(negatives)"
      ]
    },
    {
      "cell_type": "code",
      "source": [
        "data"
      ],
      "metadata": {
        "colab": {
          "base_uri": "https://localhost:8080/"
        },
        "id": "CB8loAnrO0u6",
        "outputId": "1dd3a01a-d6ed-409d-831e-81573e3724c9"
      },
      "execution_count": 27,
      "outputs": [
        {
          "output_type": "execute_result",
          "data": {
            "text/plain": [
              "<_ConcatenateDataset element_spec=(TensorSpec(shape=(), dtype=tf.string, name=None), TensorSpec(shape=(), dtype=tf.string, name=None), TensorSpec(shape=(), dtype=tf.float32, name=None))>"
            ]
          },
          "metadata": {},
          "execution_count": 27
        }
      ]
    },
    {
      "cell_type": "code",
      "execution_count": 28,
      "metadata": {
        "id": "jxiFeHWpohbp"
      },
      "outputs": [],
      "source": [
        "samples = data.as_numpy_iterator()"
      ]
    },
    {
      "cell_type": "code",
      "execution_count": 29,
      "metadata": {
        "id": "Nf7gEXZLohbp"
      },
      "outputs": [],
      "source": [
        "example = samples.next()"
      ]
    },
    {
      "cell_type": "code",
      "execution_count": 30,
      "metadata": {
        "tags": [],
        "id": "5SKFuhK1ohbq",
        "colab": {
          "base_uri": "https://localhost:8080/"
        },
        "outputId": "d6f93375-97bb-470f-8c12-241242483e4d"
      },
      "outputs": [
        {
          "output_type": "execute_result",
          "data": {
            "text/plain": [
              "(b'data/anchor/b1833214-f05d-11ee-b446-0242ac1c000c.jpg',\n",
              " b'data/positive/63a8705c-f433-11ee-ba4e-0242ac1c000c.jpg',\n",
              " 1.0)"
            ]
          },
          "metadata": {},
          "execution_count": 30
        }
      ],
      "source": [
        "example"
      ]
    },
    {
      "cell_type": "markdown",
      "metadata": {
        "id": "7HwWhwjAohbq"
      },
      "source": [
        "## 3.4 Build Train and Test Partition"
      ]
    },
    {
      "cell_type": "code",
      "execution_count": 31,
      "metadata": {
        "id": "wHjMMqgCohbq"
      },
      "outputs": [],
      "source": [
        "def preprocess_twin(input_img, validation_img, label):\n",
        "    return(preprocess(input_img), preprocess(validation_img), label)"
      ]
    },
    {
      "cell_type": "code",
      "execution_count": 32,
      "metadata": {
        "id": "Q5DQV8wcohbq"
      },
      "outputs": [],
      "source": [
        "res = preprocess_twin(*example)"
      ]
    },
    {
      "cell_type": "code",
      "execution_count": 33,
      "metadata": {
        "id": "7HmF-eFIohbq",
        "colab": {
          "base_uri": "https://localhost:8080/",
          "height": 451
        },
        "outputId": "5ed2e446-d2b8-4692-bacb-0d4ccd09fbb4"
      },
      "outputs": [
        {
          "output_type": "execute_result",
          "data": {
            "text/plain": [
              "<matplotlib.image.AxesImage at 0x7d82f854c9d0>"
            ]
          },
          "metadata": {},
          "execution_count": 33
        },
        {
          "output_type": "display_data",
          "data": {
            "text/plain": [
              "<Figure size 640x480 with 1 Axes>"
            ],
            "image/png": "[encoded data removed]"
          },
          "metadata": {}
        }
      ],
      "source": [
        "plt.imshow(res[1])"
      ]
    },
    {
      "cell_type": "code",
      "execution_count": 34,
      "metadata": {
        "id": "mJMgQkFpohbq",
        "outputId": "e05e14e7-2579-44cd-ed61-56ac2beea1ed",
        "colab": {
          "base_uri": "https://localhost:8080/"
        }
      },
      "outputs": [
        {
          "output_type": "execute_result",
          "data": {
            "text/plain": [
              "1.0"
            ]
          },
          "metadata": {},
          "execution_count": 34
        }
      ],
      "source": [
        "res[2]"
      ]
    },
    {
      "cell_type": "code",
      "execution_count": 35,
      "metadata": {
        "id": "XY3cKAwrohbq"
      },
      "outputs": [],
      "source": [
        "# Build dataloader pipeline\n",
        "data = data.map(preprocess_twin)\n",
        "data = data.cache()\n",
        "data = data.shuffle(buffer_size=10000)"
      ]
    },
    {
      "cell_type": "code",
      "execution_count": 36,
      "metadata": {
        "id": "jx_vFL4Qohbq"
      },
      "outputs": [],
      "source": [
        "# Training partition\n",
        "train_data = data.take(round(len(data)*.7))\n",
        "train_data = train_data.batch(16)\n",
        "train_data = train_data.prefetch(8)"
      ]
    },
    {
      "cell_type": "code",
      "source": [
        "train_samples = train_data.as_numpy_iterator()"
      ],
      "metadata": {
        "id": "gMIj3HymTfLR"
      },
      "execution_count": 37,
      "outputs": []
    },
    {
      "cell_type": "code",
      "source": [],
      "metadata": {
        "id": "YGmldTkxUerz"
      },
      "execution_count": null,
      "outputs": []
    },
    {
      "cell_type": "code",
      "source": [
        "train_samples.next()"
      ],
      "metadata": {
        "colab": {
          "base_uri": "https://localhost:8080/"
        },
        "id": "A6FHGSLUUNnQ",
        "outputId": "e5b178d9-2f77-49b8-cde2-b1a7ab002dad"
      },
      "execution_count": 38,
      "outputs": [
        {
          "output_type": "execute_result",
          "data": {
            "text/plain": [
              "(array([[[[0.9911765 , 0.9911765 , 0.85588235],\n",
              "          [0.9980392 , 0.9990196 , 0.90931374],\n",
              "          [0.99313724, 1.        , 0.95392156],\n",
              "          ...,\n",
              "          [0.17745098, 0.18921569, 0.16176471],\n",
              "          [0.18431373, 0.19607843, 0.16862746],\n",
              "          [0.19142157, 0.21102941, 0.18357843]],\n",
              " \n",
              "         [[0.9911765 , 0.9911765 , 0.85588235],\n",
              "          [0.99215686, 0.9990196 , 0.9107843 ],\n",
              "          [0.99215686, 1.        , 0.95416665],\n",
              "          ...,\n",
              "          [0.1764706 , 0.1882353 , 0.15490197],\n",
              "          [0.18137255, 0.19901961, 0.17230392],\n",
              "          [0.19044118, 0.21004902, 0.18848039]],\n",
              " \n",
              "         [[0.9911765 , 0.9889706 , 0.8617647 ],\n",
              "          [0.99215686, 0.9990196 , 0.9127451 ],\n",
              "          [0.99215686, 1.        , 0.95490193],\n",
              "          ...,\n",
              "          [0.1629902 , 0.1747549 , 0.14142157],\n",
              "          [0.17892157, 0.18995099, 0.16764706],\n",
              "          [0.1889706 , 0.20833333, 0.19338235]],\n",
              " \n",
              "         ...,\n",
              " \n",
              "         [[0.5448529 , 0.42083332, 0.31862745],\n",
              "          [0.5735294 , 0.45196077, 0.34901962],\n",
              "          [0.63039213, 0.50980395, 0.40098038],\n",
              "          ...,\n",
              "          [0.32205883, 0.2367647 , 0.18088235],\n",
              "          [0.3272059 , 0.22598039, 0.1629902 ],\n",
              "          [0.40882352, 0.30759802, 0.24019608]],\n",
              " \n",
              "         [[0.48161766, 0.36593136, 0.30710784],\n",
              "          [0.56102943, 0.44534314, 0.3865196 ],\n",
              "          [0.6095588 , 0.49509802, 0.43480393],\n",
              "          ...,\n",
              "          [0.30588236, 0.2254902 , 0.18235295],\n",
              "          [0.32058823, 0.22573529, 0.17867647],\n",
              "          [0.31789216, 0.22254902, 0.17254902]],\n",
              " \n",
              "         [[0.4884804 , 0.37696078, 0.3389706 ],\n",
              "          [0.51715684, 0.40612745, 0.36789215],\n",
              "          [0.52892154, 0.42303923, 0.38039216],\n",
              "          ...,\n",
              "          [0.32083333, 0.23112746, 0.19705883],\n",
              "          [0.30490196, 0.21078432, 0.16568628],\n",
              "          [0.29803923, 0.21176471, 0.16078432]]],\n",
              " \n",
              " \n",
              "        [[[0.99215686, 0.9735294 , 0.7980392 ],\n",
              "          [0.99509805, 1.        , 0.84607846],\n",
              "          [0.9843137 , 0.9970588 , 0.87941176],\n",
              "          ...,\n",
              "          [0.65294117, 0.5176471 , 0.37058824],\n",
              "          [0.6392157 , 0.49803922, 0.35686275],\n",
              "          [0.6382353 , 0.4970588 , 0.36372548]],\n",
              " \n",
              "         [[0.99191177, 0.9703431 , 0.8036765 ],\n",
              "          [0.99607843, 0.9992647 , 0.8482843 ],\n",
              "          [0.9845588 , 1.        , 0.8843137 ],\n",
              "          ...,\n",
              "          [0.66838235, 0.53161764, 0.3882353 ],\n",
              "          [0.65710783, 0.51740193, 0.3754902 ],\n",
              "          [0.65392154, 0.5147059 , 0.37843138]],\n",
              " \n",
              "         [[0.9882353 , 0.96666664, 0.8       ],\n",
              "          [0.99534315, 0.9963235 , 0.85269606],\n",
              "          [0.9852941 , 1.        , 0.8960784 ],\n",
              "          ...,\n",
              "          [0.6764706 , 0.5367647 , 0.39485294],\n",
              "          [0.6637255 , 0.529902  , 0.38504902],\n",
              "          [0.65392154, 0.5205882 , 0.3754902 ]],\n",
              " \n",
              "         ...,\n",
              " \n",
              "         [[0.6862745 , 0.5568628 , 0.39607844],\n",
              "          [0.6882353 , 0.5627451 , 0.4019608 ],\n",
              "          [0.69803923, 0.57254905, 0.4117647 ],\n",
              "          ...,\n",
              "          [0.6142157 , 0.49019608, 0.32647058],\n",
              "          [0.61495095, 0.49534315, 0.3227941 ],\n",
              "          [0.6166667 , 0.5029412 , 0.33039215]],\n",
              " \n",
              "         [[0.6901961 , 0.5637255 , 0.40294117],\n",
              "          [0.69509804, 0.56960785, 0.40882352],\n",
              "          [0.70490193, 0.57941175, 0.41862744],\n",
              "          ...,\n",
              "          [0.6134804 , 0.4894608 , 0.3257353 ],\n",
              "          [0.6098039 , 0.49019608, 0.31764707],\n",
              "          [0.6166667 , 0.5029412 , 0.33039215]],\n",
              " \n",
              "         [[0.69509804, 0.5656863 , 0.3970588 ],\n",
              "          [0.6862745 , 0.5647059 , 0.39215687],\n",
              "          [0.6862745 , 0.5647059 , 0.39215687],\n",
              "          ...,\n",
              "          [0.6156863 , 0.4862745 , 0.32352942],\n",
              "          [0.61960787, 0.49019608, 0.32156864],\n",
              "          [0.6306372 , 0.5026961 , 0.33333334]]],\n",
              " \n",
              " \n",
              "        [[[0.14509805, 0.18431373, 0.19215687],\n",
              "          [0.14509805, 0.18431373, 0.19215687],\n",
              "          [0.1487745 , 0.18210784, 0.19289216],\n",
              "          ...,\n",
              "          [0.7470588 , 0.6137255 , 0.4372549 ],\n",
              "          [0.7411765 , 0.60490197, 0.4372549 ],\n",
              "          [0.73063725, 0.59338236, 0.42867646]],\n",
              " \n",
              "         [[0.15      , 0.18921569, 0.19705883],\n",
              "          [0.15073529, 0.18651961, 0.19607843],\n",
              "          [0.15      , 0.18137255, 0.19313726],\n",
              "          ...,\n",
              "          [0.76004905, 0.6313726 , 0.45343137],\n",
              "          [0.73946077, 0.610049  , 0.43357843],\n",
              "          [0.74019605, 0.6107843 , 0.44019607]],\n",
              " \n",
              "         [[0.16053921, 0.19387256, 0.20465687],\n",
              "          [0.15588236, 0.1872549 , 0.19901961],\n",
              "          [0.15      , 0.18137255, 0.19313726],\n",
              "          ...,\n",
              "          [0.76666665, 0.63504905, 0.45416668],\n",
              "          [0.75147057, 0.6191176 , 0.44191176],\n",
              "          [0.74313724, 0.6107843 , 0.4343137 ]],\n",
              " \n",
              "         ...,\n",
              " \n",
              "         [[0.77794117, 0.7002451 , 0.5745098 ],\n",
              "          [0.797549  , 0.7132353 , 0.5720588 ],\n",
              "          [0.7987745 , 0.7056373 , 0.5625    ],\n",
              "          ...,\n",
              "          [0.44558823, 0.3480392 , 0.32181373],\n",
              "          [0.51053923, 0.41887254, 0.39411765],\n",
              "          [0.5686275 , 0.48137254, 0.45686275]],\n",
              " \n",
              "         [[0.89215684, 0.8245098 , 0.74215686],\n",
              "          [0.8715686 , 0.79901963, 0.7019608 ],\n",
              "          [0.84387255, 0.7642157 , 0.6730392 ],\n",
              "          ...,\n",
              "          [0.36568627, 0.26813725, 0.24044117],\n",
              "          [0.40784314, 0.31176472, 0.28333333],\n",
              "          [0.5012255 , 0.40735295, 0.37990198]],\n",
              " \n",
              "         [[0.82009804, 0.7651961 , 0.71617645],\n",
              "          [0.8502451 , 0.7862745 , 0.72843134],\n",
              "          [0.84313726, 0.7732843 , 0.71838236],\n",
              "          ...,\n",
              "          [0.35563725, 0.24632353, 0.22058824],\n",
              "          [0.37083334, 0.26446077, 0.2372549 ],\n",
              "          [0.38921568, 0.28333333, 0.25588235]]],\n",
              " \n",
              " \n",
              "        ...,\n",
              " \n",
              " \n",
              "        [[[0.21176471, 0.2627451 , 0.28627452],\n",
              "          [0.22132353, 0.26446077, 0.28799018],\n",
              "          [0.22426471, 0.26740196, 0.29093137],\n",
              "          ...,\n",
              "          [0.73137254, 0.60784316, 0.45882353],\n",
              "          [0.722549  , 0.6107843 , 0.45882353],\n",
              "          [0.72156864, 0.62352943, 0.46666667]],\n",
              " \n",
              "         [[0.20784314, 0.25882354, 0.28431374],\n",
              "          [0.2129902 , 0.2620098 , 0.2855392 ],\n",
              "          [0.21960784, 0.2620098 , 0.2877451 ],\n",
              "          ...,\n",
              "          [0.72990197, 0.60882354, 0.45784312],\n",
              "          [0.7232843 , 0.6110294 , 0.45784312],\n",
              "          [0.7205882 , 0.6107843 , 0.45686275]],\n",
              " \n",
              "         [[0.20465687, 0.25563726, 0.2870098 ],\n",
              "          [0.20980392, 0.25808823, 0.2882353 ],\n",
              "          [0.21446079, 0.2605392 , 0.29289216],\n",
              "          ...,\n",
              "          [0.7254902 , 0.6117647 , 0.45490196],\n",
              "          [0.7254902 , 0.6117647 , 0.45490196],\n",
              "          [0.7237745 , 0.6110294 , 0.45416668]],\n",
              " \n",
              "         ...,\n",
              " \n",
              "         [[0.21691176, 0.16593137, 0.14044118],\n",
              "          [0.2389706 , 0.17745098, 0.15661764],\n",
              "          [0.2627451 , 0.18946078, 0.17156863],\n",
              "          ...,\n",
              "          [0.27794117, 0.20906863, 0.17181373],\n",
              "          [0.28088236, 0.21642157, 0.18431373],\n",
              "          [0.26960784, 0.21078432, 0.18333334]],\n",
              " \n",
              "         [[0.22352941, 0.17254902, 0.14117648],\n",
              "          [0.24117647, 0.18039216, 0.15294118],\n",
              "          [0.25906864, 0.18651961, 0.1620098 ],\n",
              "          ...,\n",
              "          [0.27254903, 0.20588236, 0.17303921],\n",
              "          [0.27058825, 0.2127451 , 0.17843138],\n",
              "          [0.25612745, 0.19730392, 0.16985294]],\n",
              " \n",
              "         [[0.22843137, 0.17745098, 0.14607844],\n",
              "          [0.24803922, 0.1872549 , 0.15980393],\n",
              "          [0.2529412 , 0.18039216, 0.15588236],\n",
              "          ...,\n",
              "          [0.27058825, 0.20686275, 0.17450981],\n",
              "          [0.26764706, 0.2127451 , 0.17745098],\n",
              "          [0.24313726, 0.18431373, 0.15686275]]],\n",
              " \n",
              " \n",
              "        [[[0.89411765, 0.8980392 , 0.8352941 ],\n",
              "          [0.889951  , 0.9026961 , 0.8379902 ],\n",
              "          [0.89681375, 0.9125    , 0.8566176 ],\n",
              "          ...,\n",
              "          [0.29681373, 0.30661765, 0.25073528],\n",
              "          [0.2767157 , 0.30122548, 0.23946078],\n",
              "          [0.2627451 , 0.29803923, 0.23137255]],\n",
              " \n",
              "         [[0.89117646, 0.89509803, 0.8245098 ],\n",
              "          [0.89436275, 0.90710783, 0.842402  ],\n",
              "          [0.89730394, 0.9129902 , 0.8571078 ],\n",
              "          ...,\n",
              "          [0.29681373, 0.30661765, 0.25073528],\n",
              "          [0.27818626, 0.30269608, 0.24093138],\n",
              "          [0.27058825, 0.30588236, 0.23921569]],\n",
              " \n",
              "         [[0.89411765, 0.8980392 , 0.827451  ],\n",
              "          [0.8933824 , 0.90612745, 0.84142154],\n",
              "          [0.89142156, 0.90710783, 0.8512255 ],\n",
              "          ...,\n",
              "          [0.2990196 , 0.3110294 , 0.24705882],\n",
              "          [0.28039217, 0.30490196, 0.24166666],\n",
              "          [0.27745098, 0.30686274, 0.24313726]],\n",
              " \n",
              "         ...,\n",
              " \n",
              "         [[0.4490196 , 0.4       , 0.33235294],\n",
              "          [0.45294118, 0.4019608 , 0.3392157 ],\n",
              "          [0.48161766, 0.42769608, 0.3737745 ],\n",
              "          ...,\n",
              "          [0.52867645, 0.5012255 , 0.42671567],\n",
              "          [0.5254902 , 0.49803922, 0.42352942],\n",
              "          [0.53039217, 0.5029412 , 0.42843136]],\n",
              " \n",
              "         [[0.4387255 , 0.39558825, 0.325     ],\n",
              "          [0.4389706 , 0.39019608, 0.327451  ],\n",
              "          [0.4622549 , 0.40833333, 0.35441175],\n",
              "          ...,\n",
              "          [0.53137255, 0.5009804 , 0.42647058],\n",
              "          [0.5262255 , 0.49583334, 0.42132354],\n",
              "          [0.5362745 , 0.5058824 , 0.43137255]],\n",
              " \n",
              "         [[0.43235293, 0.38921568, 0.31862745],\n",
              "          [0.43039215, 0.38235295, 0.31960785],\n",
              "          [0.44607842, 0.39215687, 0.3382353 ],\n",
              "          ...,\n",
              "          [0.53137255, 0.5       , 0.41764706],\n",
              "          [0.5264706 , 0.49509802, 0.4127451 ],\n",
              "          [0.54509807, 0.5137255 , 0.43137255]]],\n",
              " \n",
              " \n",
              "        [[[0.88235295, 0.9019608 , 0.8156863 ],\n",
              "          [0.8960784 , 0.9078431 , 0.8352941 ],\n",
              "          [0.90882355, 0.9147059 , 0.8568627 ],\n",
              "          ...,\n",
              "          [0.29852942, 0.30882353, 0.23700981],\n",
              "          [0.28995097, 0.30171567, 0.23504902],\n",
              "          [0.28627452, 0.29411766, 0.23921569]],\n",
              " \n",
              "         [[0.89142156, 0.90906864, 0.8237745 ],\n",
              "          [0.9007353 , 0.9125    , 0.839951  ],\n",
              "          [0.90416664, 0.9115196 , 0.84705883],\n",
              "          ...,\n",
              "          [0.29485294, 0.30857843, 0.23308824],\n",
              "          [0.2857843 , 0.30539215, 0.22696078],\n",
              "          [0.28039217, 0.29705882, 0.22745098]],\n",
              " \n",
              "         [[0.90416664, 0.91593134, 0.8394608 ],\n",
              "          [0.9080882 , 0.9198529 , 0.8473039 ],\n",
              "          [0.9019608 , 0.9137255 , 0.84705883],\n",
              "          ...,\n",
              "          [0.30318627, 0.3154412 , 0.24068627],\n",
              "          [0.29191175, 0.30563724, 0.23014706],\n",
              "          [0.2901961 , 0.30980393, 0.23137255]],\n",
              " \n",
              "         ...,\n",
              " \n",
              "         [[0.43333334, 0.38235295, 0.31960785],\n",
              "          [0.43995097, 0.39166668, 0.32696077],\n",
              "          [0.47230393, 0.42622548, 0.3615196 ],\n",
              "          ...,\n",
              "          [0.5421569 , 0.4990196 , 0.42843136],\n",
              "          [0.5362745 , 0.49313724, 0.422549  ],\n",
              "          [0.5411765 , 0.49803922, 0.42745098]],\n",
              " \n",
              "         [[0.43357843, 0.3855392 , 0.3227941 ],\n",
              "          [0.4272059 , 0.38333333, 0.31789216],\n",
              "          [0.45343137, 0.41617647, 0.3485294 ],\n",
              "          ...,\n",
              "          [0.5323529 , 0.48921567, 0.41862744],\n",
              "          [0.5276961 , 0.48455882, 0.4139706 ],\n",
              "          [0.54019606, 0.4970588 , 0.42647058]],\n",
              " \n",
              "         [[0.4245098 , 0.37745097, 0.31470588],\n",
              "          [0.41568628, 0.38137254, 0.3127451 ],\n",
              "          [0.41470587, 0.38039216, 0.31176472],\n",
              "          ...,\n",
              "          [0.5411765 , 0.49019608, 0.42352942],\n",
              "          [0.54901963, 0.49803922, 0.43137255],\n",
              "          [0.5382353 , 0.4872549 , 0.42058823]]]], dtype=float32),\n",
              " array([[[[8.00000012e-01, 8.70588243e-01, 7.76470602e-01],\n",
              "          [8.09803903e-01, 8.77451003e-01, 7.86274493e-01],\n",
              "          [8.11274529e-01, 8.70098054e-01, 7.87745118e-01],\n",
              "          ...,\n",
              "          [7.22549021e-01, 7.46078432e-01, 6.36274517e-01],\n",
              "          [7.24754930e-01, 7.45343149e-01, 6.29656851e-01],\n",
              "          [7.06862748e-01, 7.26470590e-01, 6.08823538e-01]],\n",
              " \n",
              "         [[8.06127429e-01, 8.63970578e-01, 7.73774505e-01],\n",
              "          [8.07107866e-01, 8.64705861e-01, 7.76715696e-01],\n",
              "          [8.12500000e-01, 8.69362772e-01, 7.87990212e-01],\n",
              "          ...,\n",
              "          [7.31862724e-01, 7.55392134e-01, 6.45588219e-01],\n",
              "          [7.21568644e-01, 7.42156863e-01, 6.26470566e-01],\n",
              "          [7.14705884e-01, 7.34313726e-01, 6.16666675e-01]],\n",
              " \n",
              "         [[8.20833325e-01, 8.69852960e-01, 7.82598019e-01],\n",
              "          [8.26960802e-01, 8.75735283e-01, 7.90686250e-01],\n",
              "          [8.17156851e-01, 8.65196049e-01, 7.86764681e-01],\n",
              "          ...,\n",
              "          [7.40931392e-01, 7.64460802e-01, 6.54656887e-01],\n",
              "          [7.21568644e-01, 7.42156863e-01, 6.26470566e-01],\n",
              "          [7.16911793e-01, 7.36519635e-01, 6.18872523e-01]],\n",
              " \n",
              "         ...,\n",
              " \n",
              "         [[5.62745094e-01, 5.74509799e-01, 5.00000000e-01],\n",
              "          [5.68382382e-01, 5.80147088e-01, 5.03676474e-01],\n",
              "          [5.68872571e-01, 5.86519599e-01, 5.01225471e-01],\n",
              "          ...,\n",
              "          [6.42156839e-01, 6.36274517e-01, 5.66666663e-01],\n",
              "          [6.50980413e-01, 6.45098031e-01, 5.69607854e-01],\n",
              "          [6.29411757e-01, 6.37254894e-01, 5.54901958e-01]],\n",
              " \n",
              "         [[5.55882335e-01, 5.67647040e-01, 4.93137240e-01],\n",
              "          [5.63480377e-01, 5.75245082e-01, 4.98774499e-01],\n",
              "          [5.65931380e-01, 5.83578408e-01, 4.98284310e-01],\n",
              "          ...,\n",
              "          [6.41421556e-01, 6.35539234e-01, 5.65931380e-01],\n",
              "          [6.51715696e-01, 6.45833313e-01, 5.70343137e-01],\n",
              "          [6.39215708e-01, 6.47058845e-01, 5.64705908e-01]],\n",
              " \n",
              "         [[5.72549045e-01, 5.84313750e-01, 5.09803951e-01],\n",
              "          [5.60784340e-01, 5.72549045e-01, 4.96078432e-01],\n",
              "          [5.61764717e-01, 5.79411745e-01, 4.94117647e-01],\n",
              "          ...,\n",
              "          [6.48039222e-01, 6.42156839e-01, 5.72549045e-01],\n",
              "          [6.45098031e-01, 6.39215708e-01, 5.63725471e-01],\n",
              "          [6.46078408e-01, 6.53921545e-01, 5.71568608e-01]]],\n",
              " \n",
              " \n",
              "        [[[0.00000000e+00, 0.00000000e+00, 0.00000000e+00],\n",
              "          [0.00000000e+00, 0.00000000e+00, 0.00000000e+00],\n",
              "          [0.00000000e+00, 0.00000000e+00, 0.00000000e+00],\n",
              "          ...,\n",
              "          [0.00000000e+00, 0.00000000e+00, 0.00000000e+00],\n",
              "          [0.00000000e+00, 0.00000000e+00, 0.00000000e+00],\n",
              "          [0.00000000e+00, 0.00000000e+00, 0.00000000e+00]],\n",
              " \n",
              "         [[0.00000000e+00, 0.00000000e+00, 0.00000000e+00],\n",
              "          [0.00000000e+00, 0.00000000e+00, 0.00000000e+00],\n",
              "          [0.00000000e+00, 0.00000000e+00, 0.00000000e+00],\n",
              "          ...,\n",
              "          [0.00000000e+00, 0.00000000e+00, 0.00000000e+00],\n",
              "          [0.00000000e+00, 0.00000000e+00, 0.00000000e+00],\n",
              "          [0.00000000e+00, 0.00000000e+00, 0.00000000e+00]],\n",
              " \n",
              "         [[0.00000000e+00, 0.00000000e+00, 0.00000000e+00],\n",
              "          [0.00000000e+00, 0.00000000e+00, 0.00000000e+00],\n",
              "          [0.00000000e+00, 0.00000000e+00, 0.00000000e+00],\n",
              "          ...,\n",
              "          [0.00000000e+00, 0.00000000e+00, 0.00000000e+00],\n",
              "          [0.00000000e+00, 0.00000000e+00, 0.00000000e+00],\n",
              "          [0.00000000e+00, 0.00000000e+00, 0.00000000e+00]],\n",
              " \n",
              "         ...,\n",
              " \n",
              "         [[0.00000000e+00, 0.00000000e+00, 0.00000000e+00],\n",
              "          [0.00000000e+00, 0.00000000e+00, 0.00000000e+00],\n",
              "          [0.00000000e+00, 0.00000000e+00, 0.00000000e+00],\n",
              "          ...,\n",
              "          [0.00000000e+00, 0.00000000e+00, 0.00000000e+00],\n",
              "          [0.00000000e+00, 0.00000000e+00, 0.00000000e+00],\n",
              "          [0.00000000e+00, 0.00000000e+00, 0.00000000e+00]],\n",
              " \n",
              "         [[0.00000000e+00, 0.00000000e+00, 0.00000000e+00],\n",
              "          [0.00000000e+00, 0.00000000e+00, 0.00000000e+00],\n",
              "          [0.00000000e+00, 0.00000000e+00, 0.00000000e+00],\n",
              "          ...,\n",
              "          [0.00000000e+00, 0.00000000e+00, 0.00000000e+00],\n",
              "          [0.00000000e+00, 0.00000000e+00, 0.00000000e+00],\n",
              "          [0.00000000e+00, 0.00000000e+00, 0.00000000e+00]],\n",
              " \n",
              "         [[0.00000000e+00, 0.00000000e+00, 0.00000000e+00],\n",
              "          [0.00000000e+00, 0.00000000e+00, 0.00000000e+00],\n",
              "          [0.00000000e+00, 0.00000000e+00, 0.00000000e+00],\n",
              "          ...,\n",
              "          [0.00000000e+00, 0.00000000e+00, 0.00000000e+00],\n",
              "          [0.00000000e+00, 0.00000000e+00, 0.00000000e+00],\n",
              "          [0.00000000e+00, 0.00000000e+00, 0.00000000e+00]]],\n",
              " \n",
              " \n",
              "        [[[9.20588255e-01, 9.40196097e-01, 8.14705908e-01],\n",
              "          [9.34313715e-01, 9.56862748e-01, 8.53431344e-01],\n",
              "          [9.35294092e-01, 9.54166651e-01, 8.75980377e-01],\n",
              "          ...,\n",
              "          [7.22549021e-01, 6.32352948e-01, 4.71568614e-01],\n",
              "          [6.99019611e-01, 6.11764729e-01, 4.50980395e-01],\n",
              "          [6.87254906e-01, 6.12745106e-01, 4.48039204e-01]],\n",
              " \n",
              "         [[9.16666687e-01, 9.35294092e-01, 8.08823526e-01],\n",
              "          [9.27941203e-01, 9.48039234e-01, 8.34558845e-01],\n",
              "          [9.30147052e-01, 9.48039234e-01, 8.67401958e-01],\n",
              "          ...,\n",
              "          [7.16666639e-01, 6.26470566e-01, 4.65686262e-01],\n",
              "          [7.03186274e-01, 6.15931392e-01, 4.55147058e-01],\n",
              "          [6.89215660e-01, 6.14705861e-01, 4.49999988e-01]],\n",
              " \n",
              "         [[9.18872535e-01, 9.32352960e-01, 7.97794104e-01],\n",
              "          [9.23284292e-01, 9.36764717e-01, 8.16911757e-01],\n",
              "          [9.35294092e-01, 9.49509799e-01, 8.57352912e-01],\n",
              "          ...,\n",
              "          [7.16666639e-01, 6.26470566e-01, 4.65686262e-01],\n",
              "          [7.06862748e-01, 6.19607866e-01, 4.58823532e-01],\n",
              "          [6.92156851e-01, 6.17647052e-01, 4.52941179e-01]],\n",
              " \n",
              "         ...,\n",
              " \n",
              "         [[4.75245088e-01, 3.81127447e-01, 3.41911763e-01],\n",
              "          [5.05637228e-01, 4.12499994e-01, 3.75245094e-01],\n",
              "          [5.28431356e-01, 4.47058827e-01, 4.12745088e-01],\n",
              "          ...,\n",
              "          [4.10784304e-01, 3.00980389e-01, 2.57843137e-01],\n",
              "          [4.03921574e-01, 2.94117659e-01, 2.50980407e-01],\n",
              "          [4.02941167e-01, 2.93137252e-01, 2.50000000e-01]],\n",
              " \n",
              "         [[4.61029410e-01, 3.66911769e-01, 3.27696085e-01],\n",
              "          [4.88235295e-01, 3.95098031e-01, 3.57843131e-01],\n",
              "          [5.16176462e-01, 4.34803933e-01, 4.00490195e-01],\n",
              "          ...,\n",
              "          [4.01715696e-01, 2.91911751e-01, 2.48774514e-01],\n",
              "          [3.97058815e-01, 2.87254900e-01, 2.44117647e-01],\n",
              "          [4.00000006e-01, 2.90196091e-01, 2.47058824e-01]],\n",
              " \n",
              "         [[4.33333337e-01, 3.27450991e-01, 2.92156875e-01],\n",
              "          [4.54901963e-01, 3.58823538e-01, 3.30392152e-01],\n",
              "          [5.03921568e-01, 4.22549009e-01, 3.88235301e-01],\n",
              "          ...,\n",
              "          [4.02941167e-01, 2.93137252e-01, 2.50000000e-01],\n",
              "          [3.97058815e-01, 2.87254900e-01, 2.44117647e-01],\n",
              "          [4.03921574e-01, 2.94117659e-01, 2.50980407e-01]]],\n",
              " \n",
              " \n",
              "        ...,\n",
              " \n",
              " \n",
              "        [[[5.31127453e-01, 5.74264705e-01, 5.19362748e-01],\n",
              "          [5.21323502e-01, 5.64460814e-01, 5.01715660e-01],\n",
              "          [5.11764705e-01, 5.54901958e-01, 4.92156863e-01],\n",
              "          ...,\n",
              "          [7.20588207e-01, 7.16666639e-01, 5.99019587e-01],\n",
              "          [6.99999988e-01, 6.96078420e-01, 5.78431368e-01],\n",
              "          [6.95098042e-01, 6.91176474e-01, 5.73529422e-01]],\n",
              " \n",
              "         [[4.78921562e-01, 5.24019599e-01, 4.60294127e-01],\n",
              "          [4.99754906e-01, 5.44852912e-01, 4.81127441e-01],\n",
              "          [4.80637252e-01, 5.30147076e-01, 4.64215696e-01],\n",
              "          ...,\n",
              "          [7.15686262e-01, 7.13725507e-01, 5.94117641e-01],\n",
              "          [7.02696085e-01, 7.00735271e-01, 5.81127465e-01],\n",
              "          [7.01960802e-01, 6.98039234e-01, 5.79411745e-01]],\n",
              " \n",
              "         [[4.57107842e-01, 5.08088231e-01, 4.41421568e-01],\n",
              "          [4.44607854e-01, 4.95588243e-01, 4.28921580e-01],\n",
              "          [4.50490206e-01, 5.01470566e-01, 4.32598025e-01],\n",
              "          ...,\n",
              "          [7.05882370e-01, 7.09803939e-01, 5.87254882e-01],\n",
              "          [6.87009811e-01, 6.90931380e-01, 5.68382382e-01],\n",
              "          [6.96078420e-01, 6.98039234e-01, 5.76470613e-01]],\n",
              " \n",
              "         ...,\n",
              " \n",
              "         [[6.52941167e-01, 6.64705873e-01, 5.90196073e-01],\n",
              "          [6.55392170e-01, 6.56372547e-01, 5.88725507e-01],\n",
              "          [6.43137276e-01, 6.37499988e-01, 5.72058797e-01],\n",
              "          ...,\n",
              "          [5.30147076e-01, 5.06617665e-01, 4.43872541e-01],\n",
              "          [5.45098066e-01, 5.21568656e-01, 4.58823532e-01],\n",
              "          [5.39215684e-01, 5.15686274e-01, 4.52941179e-01]],\n",
              " \n",
              "         [[5.77696085e-01, 5.89460790e-01, 5.20833313e-01],\n",
              "          [5.82598031e-01, 5.83578408e-01, 5.20343125e-01],\n",
              "          [5.71813703e-01, 5.63970566e-01, 5.05147040e-01],\n",
              "          ...,\n",
              "          [5.30882359e-01, 5.04411757e-01, 4.41666663e-01],\n",
              "          [5.35294116e-01, 5.08823514e-01, 4.46078420e-01],\n",
              "          [5.42156875e-01, 5.15686274e-01, 4.52941179e-01]],\n",
              " \n",
              "         [[5.75490177e-01, 5.87254882e-01, 5.20588219e-01],\n",
              "          [6.02941155e-01, 6.03921592e-01, 5.42156875e-01],\n",
              "          [6.16666675e-01, 6.08823538e-01, 5.50000012e-01],\n",
              "          ...,\n",
              "          [5.39215684e-01, 5.11764705e-01, 4.49019611e-01],\n",
              "          [5.49019635e-01, 5.21568656e-01, 4.58823532e-01],\n",
              "          [5.49019635e-01, 5.21568656e-01, 4.58823532e-01]]],\n",
              " \n",
              " \n",
              "        [[[0.00000000e+00, 2.20588245e-03, 1.20098041e-02],\n",
              "          [0.00000000e+00, 2.94117653e-03, 1.27450982e-02],\n",
              "          [0.00000000e+00, 2.94117653e-03, 1.27450982e-02],\n",
              "          ...,\n",
              "          [0.00000000e+00, 0.00000000e+00, 0.00000000e+00],\n",
              "          [0.00000000e+00, 2.94117653e-03, 0.00000000e+00],\n",
              "          [0.00000000e+00, 3.92156886e-03, 0.00000000e+00]],\n",
              " \n",
              "         [[2.45098054e-04, 2.94117653e-03, 0.00000000e+00],\n",
              "          [2.45098054e-04, 2.94117653e-03, 0.00000000e+00],\n",
              "          [0.00000000e+00, 2.94117653e-03, 0.00000000e+00],\n",
              "          ...,\n",
              "          [1.22549024e-03, 3.92156886e-03, 0.00000000e+00],\n",
              "          [1.71568629e-03, 1.96078443e-03, 0.00000000e+00],\n",
              "          [1.96078443e-03, 1.71568629e-03, 0.00000000e+00]],\n",
              " \n",
              "         [[2.35294122e-02, 0.00000000e+00, 0.00000000e+00],\n",
              "          [2.05882359e-02, 0.00000000e+00, 0.00000000e+00],\n",
              "          [1.54411765e-02, 7.35294132e-04, 0.00000000e+00],\n",
              "          ...,\n",
              "          [1.32352943e-02, 0.00000000e+00, 0.00000000e+00],\n",
              "          [1.34803923e-02, 0.00000000e+00, 0.00000000e+00],\n",
              "          [1.76470596e-02, 0.00000000e+00, 0.00000000e+00]],\n",
              " \n",
              "         ...,\n",
              " \n",
              "         [[9.75490212e-01, 8.93137276e-01, 7.71568656e-01],\n",
              "          [9.90931392e-01, 9.15441155e-01, 8.10539186e-01],\n",
              "          [1.00000000e+00, 9.38480377e-01, 8.28431368e-01],\n",
              "          ...,\n",
              "          [1.29166663e-01, 1.22058824e-01, 1.31127447e-01],\n",
              "          [1.74264699e-01, 1.72549024e-01, 1.47794113e-01],\n",
              "          [3.63725483e-01, 3.55147064e-01, 3.07352930e-01]],\n",
              " \n",
              "         [[9.87745106e-01, 9.03921545e-01, 7.82352924e-01],\n",
              "          [1.00000000e+00, 9.22794104e-01, 8.18872571e-01],\n",
              "          [9.92647052e-01, 9.23774481e-01, 8.16666663e-01],\n",
              "          ...,\n",
              "          [1.27450988e-01, 1.17401958e-01, 1.40931368e-01],\n",
              "          [1.25980392e-01, 1.21078432e-01, 1.14705883e-01],\n",
              "          [2.77450979e-01, 2.63480395e-01, 2.46323526e-01]],\n",
              " \n",
              "         [[9.79166687e-01, 8.85539234e-01, 7.63970613e-01],\n",
              "          [9.66176450e-01, 8.81617665e-01, 7.70588219e-01],\n",
              "          [9.54166651e-01, 8.75490189e-01, 7.69607842e-01],\n",
              "          ...,\n",
              "          [1.14705883e-01, 1.02941178e-01, 1.36764705e-01],\n",
              "          [1.10784315e-01, 1.02941178e-01, 1.18137255e-01],\n",
              "          [1.71323523e-01, 1.54656857e-01, 1.61519602e-01]]],\n",
              " \n",
              " \n",
              "        [[[9.41421568e-01, 9.53186274e-01, 8.70833337e-01],\n",
              "          [9.50245082e-01, 9.67892170e-01, 9.05637264e-01],\n",
              "          [9.37500000e-01, 9.61764693e-01, 9.22058821e-01],\n",
              "          ...,\n",
              "          [7.19852924e-01, 6.45343125e-01, 4.89460796e-01],\n",
              "          [7.14705884e-01, 6.26470566e-01, 4.60784316e-01],\n",
              "          [7.18627453e-01, 6.24509811e-01, 4.44117635e-01]],\n",
              " \n",
              "         [[9.44362760e-01, 9.56372559e-01, 8.73529434e-01],\n",
              "          [9.51225519e-01, 9.66176450e-01, 9.01470602e-01],\n",
              "          [9.46323514e-01, 9.66911793e-01, 9.26715672e-01],\n",
              "          ...,\n",
              "          [7.27450967e-01, 6.52941167e-01, 4.95098025e-01],\n",
              "          [7.12990224e-01, 6.24754906e-01, 4.59068626e-01],\n",
              "          [7.21568644e-01, 6.27451003e-01, 4.49019611e-01]],\n",
              " \n",
              "         [[9.47303951e-01, 9.57107842e-01, 8.68382335e-01],\n",
              "          [9.49019611e-01, 9.61029410e-01, 8.84558797e-01],\n",
              "          [9.53676462e-01, 9.66421545e-01, 9.19607818e-01],\n",
              "          ...,\n",
              "          [7.25735307e-01, 6.51225507e-01, 4.93382365e-01],\n",
              "          [7.15931356e-01, 6.26715660e-01, 4.62990195e-01],\n",
              "          [7.21568644e-01, 6.30392134e-01, 4.57843125e-01]],\n",
              " \n",
              "         ...,\n",
              " \n",
              "         [[3.37254912e-01, 2.62745112e-01, 2.35294119e-01],\n",
              "          [3.53676468e-01, 2.78186262e-01, 2.48774514e-01],\n",
              "          [3.74509811e-01, 2.96078444e-01, 2.60784328e-01],\n",
              "          ...,\n",
              "          [5.11764705e-01, 4.62745100e-01, 3.95098031e-01],\n",
              "          [5.05882382e-01, 4.62745100e-01, 3.92156869e-01],\n",
              "          [5.09803951e-01, 4.66666669e-01, 3.96078438e-01]],\n",
              " \n",
              "         [[3.37990195e-01, 2.63480395e-01, 2.36029416e-01],\n",
              "          [3.51470590e-01, 2.73774505e-01, 2.39950985e-01],\n",
              "          [3.75245094e-01, 2.96813726e-01, 2.61519611e-01],\n",
              "          ...,\n",
              "          [5.10294139e-01, 4.65686262e-01, 3.95833343e-01],\n",
              "          [5.05882382e-01, 4.62745100e-01, 3.92156869e-01],\n",
              "          [5.09803951e-01, 4.66666669e-01, 3.96078438e-01]],\n",
              " \n",
              "         [[3.44117641e-01, 2.65686274e-01, 2.30392158e-01],\n",
              "          [3.48039210e-01, 2.69607842e-01, 2.34313726e-01],\n",
              "          [3.64705890e-01, 2.86274523e-01, 2.50980407e-01],\n",
              "          ...,\n",
              "          [5.17647088e-01, 4.66666669e-01, 4.00000006e-01],\n",
              "          [5.15686274e-01, 4.64705884e-01, 3.98039222e-01],\n",
              "          [5.13725519e-01, 4.62745100e-01, 3.96078438e-01]]]],\n",
              "       dtype=float32),\n",
              " array([1., 0., 1., 1., 0., 0., 1., 0., 0., 1., 0., 0., 0., 1., 0., 1.],\n",
              "       dtype=float32))"
            ]
          },
          "metadata": {},
          "execution_count": 38
        }
      ]
    },
    {
      "cell_type": "code",
      "source": [
        "train_sample =train_samples.next()"
      ],
      "metadata": {
        "id": "G20-wgSBUiEW"
      },
      "execution_count": 39,
      "outputs": []
    },
    {
      "cell_type": "code",
      "source": [
        "len(train_sample[0])"
      ],
      "metadata": {
        "colab": {
          "base_uri": "https://localhost:8080/"
        },
        "id": "ELRvRtdaUqyl",
        "outputId": "3f55f965-fd71-4c7b-986d-5d434b2b22cb"
      },
      "execution_count": 40,
      "outputs": [
        {
          "output_type": "execute_result",
          "data": {
            "text/plain": [
              "16"
            ]
          },
          "metadata": {},
          "execution_count": 40
        }
      ]
    },
    {
      "cell_type": "code",
      "source": [
        "round(len(data)*.3)"
      ],
      "metadata": {
        "colab": {
          "base_uri": "https://localhost:8080/"
        },
        "id": "2HYhMAPXVEab",
        "outputId": "a4e6e40c-4386-4204-df03-e7db2c628bf3"
      },
      "execution_count": 41,
      "outputs": [
        {
          "output_type": "execute_result",
          "data": {
            "text/plain": [
              "18"
            ]
          },
          "metadata": {},
          "execution_count": 41
        }
      ]
    },
    {
      "cell_type": "code",
      "execution_count": 42,
      "metadata": {
        "id": "vYzpZorWohbq"
      },
      "outputs": [],
      "source": [
        "# Testing partition\n",
        "test_data = data.skip(round(len(data)*.7))\n",
        "test_data = test_data.take(round(len(data)*.3))\n",
        "test_data = test_data.batch(10)\n",
        "test_data = test_data.prefetch(5)"
      ]
    },
    {
      "cell_type": "markdown",
      "metadata": {
        "id": "DIP5MiQjohbq"
      },
      "source": [
        "# 4. Model Engineering"
      ]
    },
    {
      "cell_type": "markdown",
      "metadata": {
        "id": "8SrfLnlCohbr"
      },
      "source": [
        "## 4.1 Build Embedding Layer"
      ]
    },
    {
      "cell_type": "code",
      "execution_count": null,
      "metadata": {
        "id": "jNptiKdCohbr"
      },
      "outputs": [],
      "source": [
        "inp = Input(shape=(100,100,3), name='input_image')"
      ]
    },
    {
      "cell_type": "code",
      "execution_count": null,
      "metadata": {
        "id": "1fYdSL2Eohbr"
      },
      "outputs": [],
      "source": [
        "c1 = Conv2D(64, (10,10), activation='relu')(inp)"
      ]
    },
    {
      "cell_type": "code",
      "execution_count": null,
      "metadata": {
        "id": "s6EYBwxLohbr"
      },
      "outputs": [],
      "source": [
        "m1 = MaxPooling2D(64, (2,2), padding='same')(c1)"
      ]
    },
    {
      "cell_type": "code",
      "execution_count": null,
      "metadata": {
        "id": "h0DMvTUAohbr"
      },
      "outputs": [],
      "source": [
        "c2 = Conv2D(128, (7,7), activation='relu')(m1)\n",
        "m2 = MaxPooling2D(64, (2,2), padding='same')(c2)"
      ]
    },
    {
      "cell_type": "code",
      "execution_count": null,
      "metadata": {
        "id": "z7CXebKjohbr"
      },
      "outputs": [],
      "source": [
        "c3 = Conv2D(128, (4,4), activation='relu')(m2)\n",
        "m3 = MaxPooling2D(64, (2,2), padding='same')(c3)"
      ]
    },
    {
      "cell_type": "code",
      "execution_count": null,
      "metadata": {
        "id": "Gi-Ijcbpohbr"
      },
      "outputs": [],
      "source": [
        "c4 = Conv2D(256, (4,4), activation='relu')(m3)\n",
        "f1 = Flatten()(c4)\n",
        "d1 = Dense(4096, activation='sigmoid')(f1)"
      ]
    },
    {
      "cell_type": "code",
      "execution_count": null,
      "metadata": {
        "id": "eqL8rQJ5ohbr"
      },
      "outputs": [],
      "source": [
        "mod = Model(inputs=[inp], outputs=[d1], name='embedding')"
      ]
    },
    {
      "cell_type": "code",
      "execution_count": null,
      "metadata": {
        "id": "0ALnTjKwohbr"
      },
      "outputs": [],
      "source": [
        "mod.summary()"
      ]
    },
    {
      "cell_type": "code",
      "source": [
        "inp = Input(shape=(105,105,3), name='input_image')\n"
      ],
      "metadata": {
        "id": "7u0f_dHcXjU3"
      },
      "execution_count": null,
      "outputs": []
    },
    {
      "cell_type": "code",
      "source": [
        "c1 = Conv2D(64, (10,10), activation='relu')(inp)\n"
      ],
      "metadata": {
        "id": "lTvWaOEWYHL4"
      },
      "execution_count": null,
      "outputs": []
    },
    {
      "cell_type": "code",
      "source": [
        "m1 = MaxPooling2D(64, (2,2), padding='same')(c1)\n"
      ],
      "metadata": {
        "id": "Q6LNLg1BXnhy"
      },
      "execution_count": null,
      "outputs": []
    },
    {
      "cell_type": "code",
      "source": [
        "c2 = Conv2D(128, (7,7), activation='relu')(m1)\n",
        "m2 = MaxPooling2D(64, (2,2), padding='same')(c2)"
      ],
      "metadata": {
        "id": "xB6xa1tKZUv1"
      },
      "execution_count": null,
      "outputs": []
    },
    {
      "cell_type": "code",
      "source": [
        "c3 = Conv2D(128, (4,4), activation='relu')(m2)\n",
        "m3 = MaxPooling2D(64, (2,2), padding='same')(c3)"
      ],
      "metadata": {
        "id": "hvX2rQ1MYtge"
      },
      "execution_count": null,
      "outputs": []
    },
    {
      "cell_type": "code",
      "source": [
        "c4 = Conv2D(256, (4,4), activation='relu')(m3)\n",
        "f1 = Flatten()(c4)\n",
        "d1 = Dense(4096, activation='sigmoid')(f1)"
      ],
      "metadata": {
        "id": "FrdNs0TsZifY"
      },
      "execution_count": null,
      "outputs": []
    },
    {
      "cell_type": "code",
      "source": [
        "mod = Model(inputs=[inp], outputs=[d1], name='embedding')"
      ],
      "metadata": {
        "id": "4bi2qga_aPV0"
      },
      "execution_count": null,
      "outputs": []
    },
    {
      "cell_type": "code",
      "source": [
        "mod.summary()"
      ],
      "metadata": {
        "colab": {
          "base_uri": "https://localhost:8080/"
        },
        "id": "j8-53V8wbf_z",
        "outputId": "1c606e1c-ae39-48c9-d00c-48806437ba4e"
      },
      "execution_count": null,
      "outputs": [
        {
          "output_type": "stream",
          "name": "stdout",
          "text": [
            "Model: \"embedding\"\n",
            "_________________________________________________________________\n",
            " Layer (type)                Output Shape              Param #   \n",
            "=================================================================\n",
            " input_image (InputLayer)    [(None, 105, 105, 3)]     0         \n",
            "                                                                 \n",
            " conv2d_3 (Conv2D)           (None, 96, 96, 64)        19264     \n",
            "                                                                 \n",
            " max_pooling2d_1 (MaxPoolin  (None, 48, 48, 64)        0         \n",
            " g2D)                                                            \n",
            "                                                                 \n",
            " conv2d_4 (Conv2D)           (None, 42, 42, 128)       401536    \n",
            "                                                                 \n",
            " max_pooling2d_2 (MaxPoolin  (None, 21, 21, 128)       0         \n",
            " g2D)                                                            \n",
            "                                                                 \n",
            " conv2d_5 (Conv2D)           (None, 18, 18, 128)       262272    \n",
            "                                                                 \n",
            " max_pooling2d_3 (MaxPoolin  (None, 9, 9, 128)         0         \n",
            " g2D)                                                            \n",
            "                                                                 \n",
            " conv2d_6 (Conv2D)           (None, 6, 6, 256)         524544    \n",
            "                                                                 \n",
            " flatten (Flatten)           (None, 9216)              0         \n",
            "                                                                 \n",
            " dense (Dense)               (None, 4096)              37752832  \n",
            "                                                                 \n",
            "=================================================================\n",
            "Total params: 38960448 (148.62 MB)\n",
            "Trainable params: 38960448 (148.62 MB)\n",
            "Non-trainable params: 0 (0.00 Byte)\n",
            "_________________________________________________________________\n"
          ]
        }
      ]
    },
    {
      "cell_type": "code",
      "execution_count": 85,
      "metadata": {
        "id": "qMlRPuOrohbr"
      },
      "outputs": [],
      "source": [
        "def make_embedding():\n",
        "    inp = Input(shape=(100,100,3), name='input_image')\n",
        "\n",
        "    # First block\n",
        "    c1 = Conv2D(64, (10,10), activation='relu')(inp)\n",
        "    m1 = MaxPooling2D(64, (2,2), padding='same')(c1)\n",
        "\n",
        "    # Second block\n",
        "    c2 = Conv2D(128, (7,7), activation='relu')(m1)\n",
        "    m2 = MaxPooling2D(64, (2,2), padding='same')(c2)\n",
        "\n",
        "    # Third block\n",
        "    c3 = Conv2D(128, (4,4), activation='relu')(m2)\n",
        "    m3 = MaxPooling2D(64, (2,2), padding='same')(c3)\n",
        "\n",
        "    # Final embedding block\n",
        "    c4 = Conv2D(256, (4,4), activation='relu')(m3)\n",
        "    f1 = Flatten()(c4)\n",
        "    d1 = Dense(4096, activation='sigmoid')(f1)\n",
        "\n",
        "\n",
        "    return Model(inputs=[inp], outputs=[d1], name='embedding')"
      ]
    },
    {
      "cell_type": "code",
      "execution_count": 86,
      "metadata": {
        "id": "lVLceyaNohbs"
      },
      "outputs": [],
      "source": [
        "embedding = make_embedding()"
      ]
    },
    {
      "cell_type": "code",
      "execution_count": 87,
      "metadata": {
        "id": "Mf7mWFEUohbs",
        "colab": {
          "base_uri": "https://localhost:8080/"
        },
        "outputId": "3970e313-d377-4fb6-ff7e-eb1a3760403a"
      },
      "outputs": [
        {
          "output_type": "stream",
          "name": "stdout",
          "text": [
            "Model: \"embedding\"\n",
            "_________________________________________________________________\n",
            " Layer (type)                Output Shape              Param #   \n",
            "=================================================================\n",
            " input_image (InputLayer)    [(None, 100, 100, 3)]     0         \n",
            "                                                                 \n",
            " conv2d_8 (Conv2D)           (None, 91, 91, 64)        19264     \n",
            "                                                                 \n",
            " max_pooling2d_6 (MaxPoolin  (None, 46, 46, 64)        0         \n",
            " g2D)                                                            \n",
            "                                                                 \n",
            " conv2d_9 (Conv2D)           (None, 40, 40, 128)       401536    \n",
            "                                                                 \n",
            " max_pooling2d_7 (MaxPoolin  (None, 20, 20, 128)       0         \n",
            " g2D)                                                            \n",
            "                                                                 \n",
            " conv2d_10 (Conv2D)          (None, 17, 17, 128)       262272    \n",
            "                                                                 \n",
            " max_pooling2d_8 (MaxPoolin  (None, 9, 9, 128)         0         \n",
            " g2D)                                                            \n",
            "                                                                 \n",
            " conv2d_11 (Conv2D)          (None, 6, 6, 256)         524544    \n",
            "                                                                 \n",
            " flatten_2 (Flatten)         (None, 9216)              0         \n",
            "                                                                 \n",
            " dense_4 (Dense)             (None, 4096)              37752832  \n",
            "                                                                 \n",
            "=================================================================\n",
            "Total params: 38960448 (148.62 MB)\n",
            "Trainable params: 38960448 (148.62 MB)\n",
            "Non-trainable params: 0 (0.00 Byte)\n",
            "_________________________________________________________________\n"
          ]
        }
      ],
      "source": [
        "embedding.summary()"
      ]
    },
    {
      "cell_type": "markdown",
      "metadata": {
        "id": "o8j1Pk7Pohbs"
      },
      "source": [
        "## 4.2 Build Distance Layer"
      ]
    },
    {
      "cell_type": "code",
      "execution_count": 88,
      "metadata": {
        "id": "UnzNTYlMohbs"
      },
      "outputs": [],
      "source": [
        "# Siamese L1 Distance class\n",
        "class L1Dist(Layer):\n",
        "\n",
        "    # Init method - inheritance\n",
        "    def __init__(self, **kwargs):\n",
        "        super().__init__()\n",
        "\n",
        "    # Magic happens here - similarity calculation\n",
        "    def call(self, input_embedding, validation_embedding):\n",
        "        return tf.math.abs(input_embedding - validation_embedding)"
      ]
    },
    {
      "cell_type": "code",
      "execution_count": 89,
      "metadata": {
        "id": "Xh_OF1R8ohbs"
      },
      "outputs": [],
      "source": [
        "l1 = L1Dist()"
      ]
    },
    {
      "cell_type": "code",
      "source": [
        "l1"
      ],
      "metadata": {
        "colab": {
          "base_uri": "https://localhost:8080/"
        },
        "id": "XCQmQNbOUKvC",
        "outputId": "59a0864a-5fd4-4222-b59f-2829a0eeac9a"
      },
      "execution_count": 90,
      "outputs": [
        {
          "output_type": "execute_result",
          "data": {
            "text/plain": [
              "<__main__.L1Dist at 0x7d82f817f8e0>"
            ]
          },
          "metadata": {},
          "execution_count": 90
        }
      ]
    },
    {
      "cell_type": "code",
      "execution_count": 57,
      "metadata": {
        "tags": [],
        "id": "lkYGSxlBohbs",
        "colab": {
          "base_uri": "https://localhost:8080/",
          "height": 145
        },
        "outputId": "c900f96b-518b-4bfd-ba6f-7eb11e0cb47a"
      },
      "outputs": [
        {
          "output_type": "error",
          "ename": "NameError",
          "evalue": "name 'anchor_embedding' is not defined",
          "traceback": [
            "\u001b[0;31m---------------------------------------------------------------------------\u001b[0m",
            "\u001b[0;31mNameError\u001b[0m                                 Traceback (most recent call last)",
            "\u001b[0;32m<ipython-input-57-48b6f0b2098a>\u001b[0m in \u001b[0;36m<cell line: 1>\u001b[0;34m()\u001b[0m\n\u001b[0;32m----> 1\u001b[0;31m \u001b[0ml1\u001b[0m\u001b[0;34m(\u001b[0m\u001b[0manchor_embedding\u001b[0m\u001b[0;34m,\u001b[0m \u001b[0mvalidation_embedding\u001b[0m\u001b[0;34m)\u001b[0m\u001b[0;34m\u001b[0m\u001b[0;34m\u001b[0m\u001b[0m\n\u001b[0m",
            "\u001b[0;31mNameError\u001b[0m: name 'anchor_embedding' is not defined"
          ]
        }
      ],
      "source": [
        "l1(anchor_embedding, validation_embedding)"
      ]
    },
    {
      "cell_type": "markdown",
      "metadata": {
        "id": "Yzly7jTzohbs"
      },
      "source": [
        "## 4.3 Make Siamese Model"
      ]
    },
    {
      "cell_type": "code",
      "execution_count": 91,
      "metadata": {
        "id": "4R6OSbLRohbs"
      },
      "outputs": [],
      "source": [
        "input_image = Input(name='input_img', shape=(100,100,3))\n",
        "validation_image = Input(name='validation_img', shape=(100,100,3))"
      ]
    },
    {
      "cell_type": "code",
      "execution_count": 92,
      "metadata": {
        "id": "JII1z-fYohbs"
      },
      "outputs": [],
      "source": [
        "inp_embedding = embedding(input_image)\n",
        "val_embedding = embedding(validation_image)"
      ]
    },
    {
      "cell_type": "markdown",
      "source": [],
      "metadata": {
        "id": "YayGNcsofAVh"
      }
    },
    {
      "cell_type": "code",
      "source": [
        "val_embedding"
      ],
      "metadata": {
        "colab": {
          "base_uri": "https://localhost:8080/"
        },
        "id": "U0FMp9Rze1rm",
        "outputId": "b117e097-f10f-400b-9ce2-3124a50b9d0f"
      },
      "execution_count": 93,
      "outputs": [
        {
          "output_type": "execute_result",
          "data": {
            "text/plain": [
              "<KerasTensor: shape=(None, 4096) dtype=float32 (created by layer 'embedding')>"
            ]
          },
          "metadata": {},
          "execution_count": 93
        }
      ]
    },
    {
      "cell_type": "code",
      "source": [
        "siamese_layer = L1Dist()\n",
        "siamese_layer._name = 'distance'"
      ],
      "metadata": {
        "id": "mFIz3GLofLEy"
      },
      "execution_count": 94,
      "outputs": []
    },
    {
      "cell_type": "code",
      "source": [
        "distances = siamese_layer(inp_embedding, val_embedding)\n"
      ],
      "metadata": {
        "id": "GcnBgtHYfyzU"
      },
      "execution_count": 95,
      "outputs": []
    },
    {
      "cell_type": "code",
      "execution_count": 96,
      "metadata": {
        "id": "jvlAyhY7ohbt"
      },
      "outputs": [],
      "source": [
        "classifier = Dense(1, activation='sigmoid')(distances)"
      ]
    },
    {
      "cell_type": "code",
      "execution_count": 97,
      "metadata": {
        "id": "Ne36Kv-Sohbt",
        "colab": {
          "base_uri": "https://localhost:8080/"
        },
        "outputId": "e4dfeda4-8d5f-4bd0-c2d1-6c258fe21a24"
      },
      "outputs": [
        {
          "output_type": "execute_result",
          "data": {
            "text/plain": [
              "<KerasTensor: shape=(None, 1) dtype=float32 (created by layer 'dense_5')>"
            ]
          },
          "metadata": {},
          "execution_count": 97
        }
      ],
      "source": [
        "classifier"
      ]
    },
    {
      "cell_type": "code",
      "execution_count": 98,
      "metadata": {
        "id": "PewFtcxPohbt"
      },
      "outputs": [],
      "source": [
        "siamese_network = Model(inputs=[input_image, validation_image], outputs=classifier, name='SiameseNetwork')"
      ]
    },
    {
      "cell_type": "code",
      "execution_count": 99,
      "metadata": {
        "id": "tm4m56kpohbt",
        "colab": {
          "base_uri": "https://localhost:8080/"
        },
        "outputId": "49029e9f-1aaa-4d4c-cf6e-14fa3f5e6a2d"
      },
      "outputs": [
        {
          "output_type": "stream",
          "name": "stdout",
          "text": [
            "Model: \"SiameseNetwork\"\n",
            "__________________________________________________________________________________________________\n",
            " Layer (type)                Output Shape                 Param #   Connected to                  \n",
            "==================================================================================================\n",
            " input_img (InputLayer)      [(None, 100, 100, 3)]        0         []                            \n",
            "                                                                                                  \n",
            " validation_img (InputLayer  [(None, 100, 100, 3)]        0         []                            \n",
            " )                                                                                                \n",
            "                                                                                                  \n",
            " embedding (Functional)      (None, 4096)                 3896044   ['input_img[0][0]',           \n",
            "                                                          8          'validation_img[0][0]']      \n",
            "                                                                                                  \n",
            " distance (L1Dist)           (None, 4096)                 0         ['embedding[0][0]',           \n",
            "                                                                     'embedding[1][0]']           \n",
            "                                                                                                  \n",
            " dense_5 (Dense)             (None, 1)                    4097      ['distance[0][0]']            \n",
            "                                                                                                  \n",
            "==================================================================================================\n",
            "Total params: 38964545 (148.64 MB)\n",
            "Trainable params: 38964545 (148.64 MB)\n",
            "Non-trainable params: 0 (0.00 Byte)\n",
            "__________________________________________________________________________________________________\n"
          ]
        }
      ],
      "source": [
        "siamese_network.summary()"
      ]
    },
    {
      "cell_type": "code",
      "execution_count": 100,
      "metadata": {
        "id": "t6eHx3Kcohbt"
      },
      "outputs": [],
      "source": [
        "def make_siamese_model():\n",
        "\n",
        "    # Anchor image input in the network\n",
        "    input_image = Input(name='input_img', shape=(100,100,3))\n",
        "\n",
        "    # Validation image in the network\n",
        "    validation_image = Input(name='validation_img', shape=(100,100,3))\n",
        "\n",
        "    # Combine siamese distance components\n",
        "    siamese_layer = L1Dist()\n",
        "    siamese_layer._name = 'distance'\n",
        "    distances = siamese_layer(embedding(input_image), embedding(validation_image))\n",
        "\n",
        "    # Classification layer\n",
        "    classifier = Dense(1, activation='sigmoid')(distances)\n",
        "\n",
        "    return Model(inputs=[input_image, validation_image], outputs=classifier, name='SiameseNetwork')"
      ]
    },
    {
      "cell_type": "code",
      "execution_count": 101,
      "metadata": {
        "id": "5EXib3Coohbt"
      },
      "outputs": [],
      "source": [
        "siamese_model = make_siamese_model()"
      ]
    },
    {
      "cell_type": "code",
      "execution_count": 102,
      "metadata": {
        "tags": [],
        "id": "j-4XjOneohbt",
        "colab": {
          "base_uri": "https://localhost:8080/"
        },
        "outputId": "8cda9176-f255-4b9f-a90a-bb06aa09b715"
      },
      "outputs": [
        {
          "output_type": "stream",
          "name": "stdout",
          "text": [
            "Model: \"SiameseNetwork\"\n",
            "__________________________________________________________________________________________________\n",
            " Layer (type)                Output Shape                 Param #   Connected to                  \n",
            "==================================================================================================\n",
            " input_img (InputLayer)      [(None, 100, 100, 3)]        0         []                            \n",
            "                                                                                                  \n",
            " validation_img (InputLayer  [(None, 100, 100, 3)]        0         []                            \n",
            " )                                                                                                \n",
            "                                                                                                  \n",
            " embedding (Functional)      (None, 4096)                 3896044   ['input_img[0][0]',           \n",
            "                                                          8          'validation_img[0][0]']      \n",
            "                                                                                                  \n",
            " distance (L1Dist)           (None, 4096)                 0         ['embedding[2][0]',           \n",
            "                                                                     'embedding[3][0]']           \n",
            "                                                                                                  \n",
            " dense_6 (Dense)             (None, 1)                    4097      ['distance[0][0]']            \n",
            "                                                                                                  \n",
            "==================================================================================================\n",
            "Total params: 38964545 (148.64 MB)\n",
            "Trainable params: 38964545 (148.64 MB)\n",
            "Non-trainable params: 0 (0.00 Byte)\n",
            "__________________________________________________________________________________________________\n"
          ]
        }
      ],
      "source": [
        "siamese_model.summary()"
      ]
    },
    {
      "cell_type": "markdown",
      "metadata": {
        "id": "Fbf1M0baohbt"
      },
      "source": [
        "# 5. Training"
      ]
    },
    {
      "cell_type": "markdown",
      "metadata": {
        "id": "vq-_rEZNohbt"
      },
      "source": [
        "## 5.1 Setup Loss and Optimizer"
      ]
    },
    {
      "cell_type": "code",
      "execution_count": 103,
      "metadata": {
        "id": "JszwqAYfohbt"
      },
      "outputs": [],
      "source": [
        "binary_cross_loss = tf.losses.BinaryCrossentropy()"
      ]
    },
    {
      "cell_type": "code",
      "execution_count": 104,
      "metadata": {
        "id": "WKlz-jExohbu"
      },
      "outputs": [],
      "source": [
        "opt = tf.keras.optimizers.Adam(1e-4) # 0.0001"
      ]
    },
    {
      "cell_type": "markdown",
      "metadata": {
        "id": "2XruuRC0ohbu"
      },
      "source": [
        "## 5.2 Establish Checkpoints"
      ]
    },
    {
      "cell_type": "code",
      "execution_count": 105,
      "metadata": {
        "id": "6cqeHEeLohbu"
      },
      "outputs": [],
      "source": [
        "checkpoint_dir = '/content/training_checkpoints'\n",
        "checkpoint_prefix = os.path.join(checkpoint_dir, 'ckpt')\n",
        "checkpoint = tf.train.Checkpoint(opt=opt, siamese_model=siamese_model)"
      ]
    },
    {
      "cell_type": "markdown",
      "metadata": {
        "id": "kUD291ZLohbu"
      },
      "source": [
        "## 5.3 Build Train Step Function"
      ]
    },
    {
      "cell_type": "code",
      "execution_count": 106,
      "metadata": {
        "id": "qI4A9XFcohbu"
      },
      "outputs": [],
      "source": [
        "test_batch = train_data.as_numpy_iterator()"
      ]
    },
    {
      "cell_type": "code",
      "execution_count": 107,
      "metadata": {
        "id": "Qz91_VqZohbu"
      },
      "outputs": [],
      "source": [
        "batch_1 = test_batch.next()"
      ]
    },
    {
      "cell_type": "code",
      "execution_count": 108,
      "metadata": {
        "id": "oEHIn5Wbohbu"
      },
      "outputs": [],
      "source": [
        "X = batch_1[:2]"
      ]
    },
    {
      "cell_type": "code",
      "execution_count": 109,
      "metadata": {
        "id": "2NzQ5dX9ohbu"
      },
      "outputs": [],
      "source": [
        "y = batch_1[2]"
      ]
    },
    {
      "cell_type": "code",
      "execution_count": 110,
      "metadata": {
        "id": "eEj5OE6wohbu",
        "colab": {
          "base_uri": "https://localhost:8080/"
        },
        "outputId": "b33c05af-5a93-4178-e21f-83f565e1bb14"
      },
      "outputs": [
        {
          "output_type": "execute_result",
          "data": {
            "text/plain": [
              "array([1., 1., 0., 1., 0., 1., 0., 1., 0., 0., 0., 1., 1., 1., 0., 0.],\n",
              "      dtype=float32)"
            ]
          },
          "metadata": {},
          "execution_count": 110
        }
      ],
      "source": [
        "y"
      ]
    },
    {
      "cell_type": "code",
      "execution_count": null,
      "metadata": {
        "tags": [],
        "id": "qnU0Sow4ohbu"
      },
      "outputs": [],
      "source": [
        "tf.losses.BinaryCrossentropy??"
      ]
    },
    {
      "cell_type": "code",
      "execution_count": 111,
      "metadata": {
        "tags": [],
        "id": "acdsvHdDohbu"
      },
      "outputs": [],
      "source": [
        "@tf.function\n",
        "def train_step(batch):\n",
        "\n",
        "    # Record all of our operations\n",
        "    with tf.GradientTape() as tape:\n",
        "        # Get anchor and positive/negative image\n",
        "        X = batch[:2]\n",
        "        # Get label\n",
        "        y = batch[2]\n",
        "\n",
        "        # Forward pass\n",
        "        yhat = siamese_model(X, training=True)\n",
        "        # Calculate loss\n",
        "        loss = binary_cross_loss(y, yhat)\n",
        "    print(loss)\n",
        "\n",
        "    # Calculate gradients\n",
        "    grad = tape.gradient(loss, siamese_model.trainable_variables)\n",
        "\n",
        "    # Calculate updated weights and apply to siamese model\n",
        "    opt.apply_gradients(zip(grad, siamese_model.trainable_variables))\n",
        "\n",
        "    # Return loss\n",
        "    return loss"
      ]
    },
    {
      "cell_type": "markdown",
      "metadata": {
        "id": "FZbhic3eohbu"
      },
      "source": [
        "## 5.4 Build Training Loop"
      ]
    },
    {
      "cell_type": "code",
      "execution_count": 112,
      "metadata": {
        "id": "qc60787Johbu"
      },
      "outputs": [],
      "source": [
        "# Import metric calculations\n",
        "from tensorflow.keras.metrics import Precision, Recall"
      ]
    },
    {
      "cell_type": "code",
      "execution_count": 113,
      "metadata": {
        "id": "63vrFSWmohbv"
      },
      "outputs": [],
      "source": [
        "def train(data, EPOCHS):\n",
        "    # Loop through epochs\n",
        "    for epoch in range(1, EPOCHS+1):\n",
        "        print('\\n Epoch {}/{}'.format(epoch, EPOCHS))\n",
        "        progbar = tf.keras.utils.Progbar(len(data))\n",
        "\n",
        "        # Creating a metric object\n",
        "        r = Recall()\n",
        "        p = Precision()\n",
        "\n",
        "        # Loop through each batch\n",
        "        for idx, batch in enumerate(data):\n",
        "            # Run train step here\n",
        "            loss = train_step(batch)\n",
        "            yhat = siamese_model.predict(batch[:2])\n",
        "            r.update_state(batch[2], yhat)\n",
        "            p.update_state(batch[2], yhat)\n",
        "            progbar.update(idx+1)\n",
        "        print(loss.numpy(), r.result().numpy(), p.result().numpy())\n",
        "\n",
        "        # Save checkpoints\n",
        "        if epoch % 10 == 0:\n",
        "            checkpoint.save(file_prefix=checkpoint_prefix)"
      ]
    },
    {
      "cell_type": "markdown",
      "metadata": {
        "id": "c8fsVvLoohbv"
      },
      "source": [
        "## 5.5 Train the model"
      ]
    },
    {
      "cell_type": "code",
      "execution_count": 114,
      "metadata": {
        "id": "DVPgyNl3ohbv"
      },
      "outputs": [],
      "source": [
        "EPOCHS = 50"
      ]
    },
    {
      "cell_type": "code",
      "execution_count": 115,
      "metadata": {
        "scrolled": true,
        "tags": [],
        "id": "06NLz53fohbv",
        "colab": {
          "base_uri": "https://localhost:8080/"
        },
        "outputId": "e0a7d173-dd5d-4fec-9dc5-189f6630e9d3"
      },
      "outputs": [
        {
          "output_type": "stream",
          "name": "stdout",
          "text": [
            "\n",
            " Epoch 1/50\n",
            "Tensor(\"binary_crossentropy/weighted_loss/value:0\", shape=(), dtype=float32)\n",
            "Tensor(\"binary_crossentropy/weighted_loss/value:0\", shape=(), dtype=float32)\n",
            "1/1 [==============================] - 0s 152ms/step\n",
            "1/1 [==============================] - 0s 269ms/step\n",
            "2/3 [===================>..........] - ETA: 0s Tensor(\"binary_crossentropy/weighted_loss/value:0\", shape=(), dtype=float32)\n",
            "1/1 [==============================] - 0s 21ms/step\n",
            "3/3 [==============================] - 12s 934ms/step\n",
            "0.6812295 0.15 1.0\n",
            "\n",
            " Epoch 2/50\n",
            "1/1 [==============================] - 0s 127ms/step\n",
            "1/1 [==============================] - 0s 133ms/step\n",
            "1/1 [==============================] - 0s 75ms/step\n",
            "3/3 [==============================] - 1s 231ms/step\n",
            "0.5278803 0.05263158 1.0\n",
            "\n",
            " Epoch 3/50\n",
            "1/1 [==============================] - 0s 125ms/step\n",
            "1/1 [==============================] - 0s 131ms/step\n",
            "1/1 [==============================] - 0s 75ms/step\n",
            "3/3 [==============================] - 1s 204ms/step\n",
            "0.31512696 0.36842105 1.0\n",
            "\n",
            " Epoch 4/50\n",
            "1/1 [==============================] - 0s 124ms/step\n",
            "1/1 [==============================] - 0s 128ms/step\n",
            "1/1 [==============================] - 0s 76ms/step\n",
            "3/3 [==============================] - 1s 227ms/step\n",
            "0.19656637 0.8095238 1.0\n",
            "\n",
            " Epoch 5/50\n",
            "1/1 [==============================] - 0s 123ms/step\n",
            "1/1 [==============================] - 0s 122ms/step\n",
            "1/1 [==============================] - 0s 65ms/step\n",
            "3/3 [==============================] - 1s 304ms/step\n",
            "0.2790932 0.85714287 1.0\n",
            "\n",
            " Epoch 6/50\n",
            "1/1 [==============================] - 0s 124ms/step\n",
            "1/1 [==============================] - 0s 130ms/step\n",
            "1/1 [==============================] - 0s 73ms/step\n",
            "3/3 [==============================] - 1s 206ms/step\n",
            "0.19370706 1.0 1.0\n",
            "\n",
            " Epoch 7/50\n",
            "1/1 [==============================] - 0s 125ms/step\n",
            "1/1 [==============================] - 0s 127ms/step\n",
            "1/1 [==============================] - 0s 75ms/step\n",
            "3/3 [==============================] - 1s 229ms/step\n",
            "0.1144491 0.8333333 1.0\n",
            "\n",
            " Epoch 8/50\n",
            "1/1 [==============================] - 0s 114ms/step\n",
            "1/1 [==============================] - 0s 99ms/step\n",
            "1/1 [==============================] - 0s 52ms/step\n",
            "3/3 [==============================] - 1s 212ms/step\n",
            "0.14184894 1.0 1.0\n",
            "\n",
            " Epoch 9/50\n",
            "1/1 [==============================] - 0s 97ms/step\n",
            "1/1 [==============================] - 0s 106ms/step\n",
            "1/1 [==============================] - 0s 38ms/step\n",
            "3/3 [==============================] - 1s 221ms/step\n",
            "0.099185035 1.0 1.0\n",
            "\n",
            " Epoch 10/50\n",
            "1/1 [==============================] - 0s 124ms/step\n",
            "1/1 [==============================] - 0s 114ms/step\n",
            "1/1 [==============================] - 0s 68ms/step\n",
            "3/3 [==============================] - 1s 204ms/step\n",
            "0.023208417 1.0 1.0\n",
            "\n",
            " Epoch 11/50\n",
            "1/1 [==============================] - 0s 112ms/step\n",
            "1/1 [==============================] - 0s 125ms/step\n",
            "1/1 [==============================] - 0s 72ms/step\n",
            "3/3 [==============================] - 1s 230ms/step\n",
            "0.02042377 1.0 1.0\n",
            "\n",
            " Epoch 12/50\n",
            "1/1 [==============================] - 0s 126ms/step\n",
            "1/1 [==============================] - 0s 134ms/step\n",
            "1/1 [==============================] - 0s 70ms/step\n",
            "3/3 [==============================] - 1s 296ms/step\n",
            "0.0941439 1.0 1.0\n",
            "\n",
            " Epoch 13/50\n",
            "1/1 [==============================] - 0s 126ms/step\n",
            "1/1 [==============================] - 0s 124ms/step\n",
            "1/1 [==============================] - 0s 71ms/step\n",
            "3/3 [==============================] - 1s 200ms/step\n",
            "0.024021566 1.0 1.0\n",
            "\n",
            " Epoch 14/50\n",
            "1/1 [==============================] - 0s 119ms/step\n",
            "1/1 [==============================] - 0s 124ms/step\n",
            "1/1 [==============================] - 0s 71ms/step\n",
            "3/3 [==============================] - 1s 203ms/step\n",
            "0.0031493236 1.0 1.0\n",
            "\n",
            " Epoch 15/50\n",
            "1/1 [==============================] - 0s 124ms/step\n",
            "1/1 [==============================] - 0s 124ms/step\n",
            "1/1 [==============================] - 0s 73ms/step\n",
            "3/3 [==============================] - 1s 199ms/step\n",
            "0.005586011 1.0 1.0\n",
            "\n",
            " Epoch 16/50\n",
            "1/1 [==============================] - 0s 104ms/step\n",
            "1/1 [==============================] - 0s 126ms/step\n",
            "1/1 [==============================] - 0s 68ms/step\n",
            "3/3 [==============================] - 1s 299ms/step\n",
            "0.009363632 1.0 1.0\n",
            "\n",
            " Epoch 17/50\n",
            "1/1 [==============================] - 0s 119ms/step\n",
            "1/1 [==============================] - 0s 126ms/step\n",
            "1/1 [==============================] - 0s 68ms/step\n",
            "3/3 [==============================] - 1s 300ms/step\n",
            "0.0091954935 1.0 1.0\n",
            "\n",
            " Epoch 18/50\n",
            "1/1 [==============================] - 0s 111ms/step\n",
            "1/1 [==============================] - 0s 97ms/step\n",
            "1/1 [==============================] - 0s 30ms/step\n",
            "3/3 [==============================] - 1s 227ms/step\n",
            "0.00210589 1.0 1.0\n",
            "\n",
            " Epoch 19/50\n",
            "1/1 [==============================] - 0s 111ms/step\n",
            "1/1 [==============================] - 0s 96ms/step\n",
            "1/1 [==============================] - 0s 44ms/step\n",
            "3/3 [==============================] - 1s 214ms/step\n",
            "0.0013312368 1.0 1.0\n",
            "\n",
            " Epoch 20/50\n",
            "1/1 [==============================] - 0s 127ms/step\n",
            "1/1 [==============================] - 0s 125ms/step\n",
            "1/1 [==============================] - 0s 71ms/step\n",
            "3/3 [==============================] - 1s 200ms/step\n",
            "0.0005541726 1.0 1.0\n",
            "\n",
            " Epoch 21/50\n",
            "1/1 [==============================] - 0s 228ms/step\n",
            "1/1 [==============================] - 0s 117ms/step\n",
            "1/1 [==============================] - 0s 57ms/step\n",
            "3/3 [==============================] - 1s 314ms/step\n",
            "0.000752228 1.0 1.0\n",
            "\n",
            " Epoch 22/50\n",
            "1/1 [==============================] - 0s 100ms/step\n",
            "1/1 [==============================] - 0s 113ms/step\n",
            "1/1 [==============================] - 0s 57ms/step\n",
            "3/3 [==============================] - 1s 205ms/step\n",
            "0.0016316898 1.0 1.0\n",
            "\n",
            " Epoch 23/50\n",
            "1/1 [==============================] - 0s 104ms/step\n",
            "1/1 [==============================] - 0s 105ms/step\n",
            "1/1 [==============================] - 0s 69ms/step\n",
            "3/3 [==============================] - 1s 201ms/step\n",
            "0.00026287252 1.0 1.0\n",
            "\n",
            " Epoch 24/50\n",
            "1/1 [==============================] - 0s 119ms/step\n",
            "1/1 [==============================] - 0s 129ms/step\n",
            "1/1 [==============================] - 0s 68ms/step\n",
            "3/3 [==============================] - 1s 271ms/step\n",
            "0.0006081875 1.0 1.0\n",
            "\n",
            " Epoch 25/50\n",
            "1/1 [==============================] - 0s 127ms/step\n",
            "1/1 [==============================] - 0s 125ms/step\n",
            "1/1 [==============================] - 0s 68ms/step\n",
            "3/3 [==============================] - 1s 203ms/step\n",
            "0.00046604435 1.0 1.0\n",
            "\n",
            " Epoch 26/50\n",
            "1/1 [==============================] - 0s 123ms/step\n",
            "1/1 [==============================] - 0s 105ms/step\n",
            "1/1 [==============================] - 0s 43ms/step\n",
            "3/3 [==============================] - 1s 211ms/step\n",
            "0.000673322 1.0 1.0\n",
            "\n",
            " Epoch 27/50\n",
            "1/1 [==============================] - 0s 109ms/step\n",
            "1/1 [==============================] - 0s 113ms/step\n",
            "1/1 [==============================] - 0s 58ms/step\n",
            "3/3 [==============================] - 1s 245ms/step\n",
            "0.000384984 1.0 1.0\n",
            "\n",
            " Epoch 28/50\n",
            "1/1 [==============================] - 0s 121ms/step\n",
            "1/1 [==============================] - 0s 122ms/step\n",
            "1/1 [==============================] - 0s 69ms/step\n",
            "3/3 [==============================] - 1s 234ms/step\n",
            "0.00032195766 1.0 1.0\n",
            "\n",
            " Epoch 29/50\n",
            "1/1 [==============================] - 0s 116ms/step\n",
            "1/1 [==============================] - 0s 116ms/step\n",
            "1/1 [==============================] - 0s 69ms/step\n",
            "3/3 [==============================] - 1s 231ms/step\n",
            "5.2125437e-05 1.0 1.0\n",
            "\n",
            " Epoch 30/50\n",
            "1/1 [==============================] - 0s 126ms/step\n",
            "1/1 [==============================] - 0s 125ms/step\n",
            "1/1 [==============================] - 0s 57ms/step\n",
            "3/3 [==============================] - 1s 239ms/step\n",
            "0.0005854824 1.0 1.0\n",
            "\n",
            " Epoch 31/50\n",
            "1/1 [==============================] - 0s 253ms/step\n",
            "1/1 [==============================] - 0s 123ms/step\n",
            "1/1 [==============================] - 0s 68ms/step\n",
            "3/3 [==============================] - 1s 208ms/step\n",
            "9.043144e-05 1.0 1.0\n",
            "\n",
            " Epoch 32/50\n",
            "1/1 [==============================] - 0s 119ms/step\n",
            "1/1 [==============================] - 0s 124ms/step\n",
            "1/1 [==============================] - 0s 69ms/step\n",
            "3/3 [==============================] - 1s 207ms/step\n",
            "6.404044e-05 1.0 1.0\n",
            "\n",
            " Epoch 33/50\n",
            "1/1 [==============================] - 0s 125ms/step\n",
            "1/1 [==============================] - 0s 129ms/step\n",
            "1/1 [==============================] - 0s 71ms/step\n",
            "3/3 [==============================] - 1s 204ms/step\n",
            "0.00044615375 1.0 1.0\n",
            "\n",
            " Epoch 34/50\n",
            "1/1 [==============================] - 0s 104ms/step\n",
            "1/1 [==============================] - 0s 116ms/step\n",
            "1/1 [==============================] - 0s 68ms/step\n",
            "3/3 [==============================] - 1s 205ms/step\n",
            "0.00056776503 1.0 1.0\n",
            "\n",
            " Epoch 35/50\n",
            "1/1 [==============================] - 0s 126ms/step\n",
            "1/1 [==============================] - 0s 127ms/step\n",
            "1/1 [==============================] - 0s 43ms/step\n",
            "3/3 [==============================] - 1s 212ms/step\n",
            "0.00018130899 1.0 1.0\n",
            "\n",
            " Epoch 36/50\n",
            "1/1 [==============================] - 0s 100ms/step\n",
            "1/1 [==============================] - 0s 104ms/step\n",
            "1/1 [==============================] - 0s 53ms/step\n",
            "3/3 [==============================] - 1s 209ms/step\n",
            "0.00040650298 1.0 1.0\n",
            "\n",
            " Epoch 37/50\n",
            "1/1 [==============================] - 0s 92ms/step\n",
            "1/1 [==============================] - 0s 95ms/step\n",
            "1/1 [==============================] - 0s 56ms/step\n",
            "3/3 [==============================] - 1s 207ms/step\n",
            "0.00013400614 1.0 1.0\n",
            "\n",
            " Epoch 38/50\n",
            "1/1 [==============================] - 0s 126ms/step\n",
            "1/1 [==============================] - 0s 122ms/step\n",
            "1/1 [==============================] - 0s 70ms/step\n",
            "3/3 [==============================] - 1s 231ms/step\n",
            "0.00015521991 1.0 1.0\n",
            "\n",
            " Epoch 39/50\n",
            "1/1 [==============================] - 0s 125ms/step\n",
            "1/1 [==============================] - 0s 126ms/step\n",
            "1/1 [==============================] - 0s 72ms/step\n",
            "3/3 [==============================] - 1s 205ms/step\n",
            "0.00019158018 1.0 1.0\n",
            "\n",
            " Epoch 40/50\n",
            "1/1 [==============================] - 0s 126ms/step\n",
            "1/1 [==============================] - 0s 124ms/step\n",
            "1/1 [==============================] - 0s 70ms/step\n",
            "3/3 [==============================] - 1s 233ms/step\n",
            "0.00020041654 1.0 1.0\n",
            "\n",
            " Epoch 41/50\n",
            "1/1 [==============================] - 0s 196ms/step\n",
            "1/1 [==============================] - 0s 129ms/step\n",
            "1/1 [==============================] - 0s 66ms/step\n",
            "3/3 [==============================] - 1s 204ms/step\n",
            "0.00021690314 1.0 1.0\n",
            "\n",
            " Epoch 42/50\n",
            "1/1 [==============================] - 0s 121ms/step\n",
            "1/1 [==============================] - 0s 129ms/step\n",
            "1/1 [==============================] - 0s 63ms/step\n",
            "3/3 [==============================] - 1s 236ms/step\n",
            "7.559793e-05 1.0 1.0\n",
            "\n",
            " Epoch 43/50\n",
            "1/1 [==============================] - 0s 129ms/step\n",
            "1/1 [==============================] - 0s 119ms/step\n",
            "1/1 [==============================] - 0s 74ms/step\n",
            "3/3 [==============================] - 1s 204ms/step\n",
            "0.00019377576 1.0 1.0\n",
            "\n",
            " Epoch 44/50\n",
            "1/1 [==============================] - 0s 121ms/step\n",
            "1/1 [==============================] - 0s 128ms/step\n",
            "1/1 [==============================] - 0s 70ms/step\n",
            "3/3 [==============================] - 1s 207ms/step\n",
            "9.626314e-06 1.0 1.0\n",
            "\n",
            " Epoch 45/50\n",
            "1/1 [==============================] - 0s 125ms/step\n",
            "1/1 [==============================] - 0s 125ms/step\n",
            "1/1 [==============================] - 0s 70ms/step\n",
            "3/3 [==============================] - 1s 208ms/step\n",
            "3.1062365e-05 1.0 1.0\n",
            "\n",
            " Epoch 46/50\n",
            "1/1 [==============================] - 0s 107ms/step\n",
            "1/1 [==============================] - 0s 104ms/step\n",
            "1/1 [==============================] - 0s 59ms/step\n",
            "3/3 [==============================] - 1s 245ms/step\n",
            "0.00019931044 1.0 1.0\n",
            "\n",
            " Epoch 47/50\n",
            "1/1 [==============================] - 0s 107ms/step\n",
            "1/1 [==============================] - 0s 96ms/step\n",
            "1/1 [==============================] - 0s 46ms/step\n",
            "3/3 [==============================] - 1s 217ms/step\n",
            "1.236822e-05 1.0 1.0\n",
            "\n",
            " Epoch 48/50\n",
            "1/1 [==============================] - 0s 124ms/step\n",
            "1/1 [==============================] - 0s 132ms/step\n",
            "1/1 [==============================] - 0s 70ms/step\n",
            "3/3 [==============================] - 1s 231ms/step\n",
            "8.872281e-05 1.0 1.0\n",
            "\n",
            " Epoch 49/50\n",
            "1/1 [==============================] - 0s 126ms/step\n",
            "1/1 [==============================] - 0s 127ms/step\n",
            "1/1 [==============================] - 0s 61ms/step\n",
            "3/3 [==============================] - 1s 305ms/step\n",
            "1.659439e-05 1.0 1.0\n",
            "\n",
            " Epoch 50/50\n",
            "1/1 [==============================] - 0s 126ms/step\n",
            "1/1 [==============================] - 0s 130ms/step\n",
            "1/1 [==============================] - 0s 75ms/step\n",
            "3/3 [==============================] - 1s 207ms/step\n",
            "0.00022245376 1.0 1.0\n"
          ]
        }
      ],
      "source": [
        "train(train_data, EPOCHS)"
      ]
    },
    {
      "cell_type": "markdown",
      "metadata": {
        "tags": [],
        "id": "wvfT_R_zohbv"
      },
      "source": [
        "# 6. Evaluate Model"
      ]
    },
    {
      "cell_type": "markdown",
      "metadata": {
        "id": "6dD5J1RGohbv"
      },
      "source": [
        "## 6.1 Import Metrics"
      ]
    },
    {
      "cell_type": "code",
      "execution_count": 116,
      "metadata": {
        "id": "AaA8nr5fohbv"
      },
      "outputs": [],
      "source": [
        "# Import metric calculations\n",
        "from tensorflow.keras.metrics import Precision, Recall"
      ]
    },
    {
      "cell_type": "markdown",
      "metadata": {
        "id": "PnZg1l3Nohbv"
      },
      "source": [
        "## 6.2 Make Predictions"
      ]
    },
    {
      "cell_type": "code",
      "execution_count": 117,
      "metadata": {
        "id": "S28373nCohbv"
      },
      "outputs": [],
      "source": [
        "# Get a batch of test data\n",
        "test_input, test_val, y_true = test_data.as_numpy_iterator().next()"
      ]
    },
    {
      "cell_type": "code",
      "source": [
        "test_input"
      ],
      "metadata": {
        "colab": {
          "base_uri": "https://localhost:8080/"
        },
        "id": "O8dNL3uKyhTj",
        "outputId": "9f9f3c89-020d-49d8-a11e-2307e7098bd5"
      },
      "execution_count": 118,
      "outputs": [
        {
          "output_type": "execute_result",
          "data": {
            "text/plain": [
              "array([[[[0.24901961, 0.2372549 , 0.20980392],\n",
              "         [0.21666667, 0.20490196, 0.17745098],\n",
              "         [0.2129902 , 0.20122549, 0.16789216],\n",
              "         ...,\n",
              "         [0.70980394, 0.58137256, 0.43235293],\n",
              "         [0.7147059 , 0.5686275 , 0.41470587],\n",
              "         [0.7088235 , 0.5637255 , 0.39019608]],\n",
              "\n",
              "        [[0.24313726, 0.23137255, 0.19607843],\n",
              "         [0.21666667, 0.20588236, 0.16764706],\n",
              "         [0.20686275, 0.19534314, 0.15931372],\n",
              "         ...,\n",
              "         [0.72745097, 0.5990196 , 0.45      ],\n",
              "         [0.72843134, 0.58235294, 0.42843136],\n",
              "         [0.7058824 , 0.57254905, 0.39509803]],\n",
              "\n",
              "        [[0.2529412 , 0.24411765, 0.2       ],\n",
              "         [0.23333333, 0.2254902 , 0.17843138],\n",
              "         [0.21764706, 0.20906863, 0.16421568],\n",
              "         ...,\n",
              "         [0.7370098 , 0.60857844, 0.45735294],\n",
              "         [0.72794116, 0.5884804 , 0.43235293],\n",
              "         [0.70980394, 0.5764706 , 0.3990196 ]],\n",
              "\n",
              "        ...,\n",
              "\n",
              "        [[0.4776961 , 0.36789215, 0.35220587],\n",
              "         [0.4747549 , 0.36666667, 0.34583333],\n",
              "         [0.38333333, 0.27745098, 0.25      ],\n",
              "         ...,\n",
              "         [0.32009804, 0.23382352, 0.18480392],\n",
              "         [0.32941177, 0.2372549 , 0.19117647],\n",
              "         [0.32254902, 0.22843137, 0.18333334]],\n",
              "\n",
              "        [[0.43357843, 0.32671568, 0.3022059 ],\n",
              "         [0.46985295, 0.36397058, 0.3365196 ],\n",
              "         [0.40759805, 0.30171567, 0.2742647 ],\n",
              "         ...,\n",
              "         [0.3127451 , 0.22647059, 0.18333334],\n",
              "         [0.32941177, 0.2372549 , 0.19705883],\n",
              "         [0.31862745, 0.2245098 , 0.18529412]],\n",
              "\n",
              "        [[0.3992647 , 0.29338235, 0.26593137],\n",
              "         [0.4627451 , 0.35686275, 0.32941177],\n",
              "         [0.42156863, 0.3156863 , 0.2882353 ],\n",
              "         ...,\n",
              "         [0.30980393, 0.21960784, 0.1882353 ],\n",
              "         [0.3137255 , 0.21764706, 0.18921569],\n",
              "         [0.30588236, 0.21176471, 0.17254902]]],\n",
              "\n",
              "\n",
              "       [[[0.9882353 , 1.        , 0.8843137 ],\n",
              "         [0.99509805, 1.        , 0.93284315],\n",
              "         [0.99607843, 1.        , 0.9745098 ],\n",
              "         ...,\n",
              "         [0.12377451, 0.12377451, 0.12720588],\n",
              "         [0.12156863, 0.12156863, 0.12794118],\n",
              "         [0.1254902 , 0.1254902 , 0.13186274]],\n",
              "\n",
              "        [[0.9879902 , 0.9997549 , 0.8860294 ],\n",
              "         [0.99509805, 1.        , 0.9343137 ],\n",
              "         [0.99607843, 1.        , 0.9745098 ],\n",
              "         ...,\n",
              "         [0.12083333, 0.13088235, 0.11789215],\n",
              "         [0.12156863, 0.12941177, 0.11568628],\n",
              "         [0.12156863, 0.12941177, 0.11568628]],\n",
              "\n",
              "        [[0.9872549 , 0.9990196 , 0.89117646],\n",
              "         [0.99509805, 1.        , 0.9362745 ],\n",
              "         [0.99215686, 0.99607843, 0.9735294 ],\n",
              "         ...,\n",
              "         [0.12401961, 0.13406862, 0.11519608],\n",
              "         [0.12230392, 0.13014705, 0.11053921],\n",
              "         [0.12156863, 0.12941177, 0.10980392]],\n",
              "\n",
              "        ...,\n",
              "\n",
              "        [[0.4105392 , 0.30171567, 0.25563726],\n",
              "         [0.4132353 , 0.30441177, 0.25833333],\n",
              "         [0.41029412, 0.30147058, 0.25539216],\n",
              "         ...,\n",
              "         [0.31862745, 0.25490198, 0.21470588],\n",
              "         [0.31764707, 0.25392157, 0.21372549],\n",
              "         [0.3156863 , 0.25196078, 0.21960784]],\n",
              "\n",
              "        [[0.3647059 , 0.25808823, 0.23137255],\n",
              "         [0.36421567, 0.25759804, 0.23088235],\n",
              "         [0.3987745 , 0.29068628, 0.26936275],\n",
              "         ...,\n",
              "         [0.32769608, 0.27279413, 0.22965686],\n",
              "         [0.3254902 , 0.27058825, 0.22745098],\n",
              "         [0.3127451 , 0.25784314, 0.22254902]],\n",
              "\n",
              "        [[0.3512255 , 0.2531863 , 0.23357843],\n",
              "         [0.38137254, 0.28333333, 0.2637255 ],\n",
              "         [0.42058823, 0.32254902, 0.30294117],\n",
              "         ...,\n",
              "         [0.32941177, 0.27450982, 0.23137255],\n",
              "         [0.3262255 , 0.27132353, 0.22818628],\n",
              "         [0.3137255 , 0.25882354, 0.22352941]]],\n",
              "\n",
              "\n",
              "       [[[0.99607843, 0.99607843, 0.9647059 ],\n",
              "         [0.99607843, 0.99607843, 0.95686275],\n",
              "         [0.99607843, 0.99607843, 0.95686275],\n",
              "         ...,\n",
              "         [0.50710785, 0.37254903, 0.33848038],\n",
              "         [0.5203431 , 0.35220587, 0.32647058],\n",
              "         [0.49142158, 0.31666666, 0.28799018]],\n",
              "\n",
              "        [[0.99607843, 0.99607843, 0.9647059 ],\n",
              "         [0.99607843, 0.99607843, 0.9647059 ],\n",
              "         [0.99607843, 0.99607843, 0.9602941 ],\n",
              "         ...,\n",
              "         [0.51691175, 0.4105392 , 0.3740196 ],\n",
              "         [0.53063726, 0.38431373, 0.35465688],\n",
              "         [0.5259804 , 0.35588235, 0.32916668]],\n",
              "\n",
              "        [[0.99313724, 0.99607843, 0.9647059 ],\n",
              "         [0.99607843, 0.99607843, 0.9647059 ],\n",
              "         [0.99607843, 0.99607843, 0.9647059 ],\n",
              "         ...,\n",
              "         [0.52254903, 0.4379902 , 0.39460784],\n",
              "         [0.54387254, 0.41813725, 0.38112745],\n",
              "         [0.5541667 , 0.40539217, 0.37107843]],\n",
              "\n",
              "        ...,\n",
              "\n",
              "        [[0.34779412, 0.27328432, 0.2497549 ],\n",
              "         [0.3382353 , 0.2529412 , 0.23431373],\n",
              "         [0.3492647 , 0.24485295, 0.23137255],\n",
              "         ...,\n",
              "         [0.3372549 , 0.24705882, 0.21764706],\n",
              "         [0.3409314 , 0.25073528, 0.22132353],\n",
              "         [0.35196078, 0.2617647 , 0.23235294]],\n",
              "\n",
              "        [[0.36372548, 0.28627452, 0.25980392],\n",
              "         [0.34730393, 0.2620098 , 0.24338235],\n",
              "         [0.34705883, 0.25      , 0.23431373],\n",
              "         ...,\n",
              "         [0.33431372, 0.24411765, 0.22058824],\n",
              "         [0.34019607, 0.25      , 0.22647059],\n",
              "         [0.34019607, 0.25882354, 0.23235294]],\n",
              "\n",
              "        [[0.3647059 , 0.28627452, 0.25882354],\n",
              "         [0.34313726, 0.2637255 , 0.2382353 ],\n",
              "         [0.34607843, 0.25490198, 0.2382353 ],\n",
              "         ...,\n",
              "         [0.33112746, 0.24093138, 0.21740197],\n",
              "         [0.34019607, 0.25      , 0.22647059],\n",
              "         [0.34313726, 0.2647059 , 0.2372549 ]]],\n",
              "\n",
              "\n",
              "       ...,\n",
              "\n",
              "\n",
              "       [[[0.30612746, 0.34534314, 0.38455883],\n",
              "         [0.3019608 , 0.3392157 , 0.37941176],\n",
              "         [0.30245098, 0.34019607, 0.38014707],\n",
              "         ...,\n",
              "         [0.78455883, 0.65906864, 0.5061275 ],\n",
              "         [0.7823529 , 0.66568625, 0.50980395],\n",
              "         [0.77254903, 0.6627451 , 0.5058824 ]],\n",
              "\n",
              "        [[0.3009804 , 0.3392157 , 0.3745098 ],\n",
              "         [0.30906862, 0.34313726, 0.38014707],\n",
              "         [0.2990196 , 0.33063725, 0.3732843 ],\n",
              "         ...,\n",
              "         [0.7884804 , 0.65416664, 0.50514704],\n",
              "         [0.7852941 , 0.6578431 , 0.5058824 ],\n",
              "         [0.7754902 , 0.66862744, 0.5107843 ]],\n",
              "\n",
              "        [[0.28970587, 0.33088234, 0.35735294],\n",
              "         [0.28921568, 0.3240196 , 0.35514706],\n",
              "         [0.2875    , 0.32205883, 0.35882354],\n",
              "         ...,\n",
              "         [0.7852941 , 0.6509804 , 0.5019608 ],\n",
              "         [0.78210783, 0.6546569 , 0.5026961 ],\n",
              "         [0.77254903, 0.66568625, 0.50784314]],\n",
              "\n",
              "        ...,\n",
              "\n",
              "        [[0.32181373, 0.23946078, 0.21985294],\n",
              "         [0.33210784, 0.24779412, 0.22720589],\n",
              "         [0.34411764, 0.25392157, 0.23039216],\n",
              "         ...,\n",
              "         [0.4107843 , 0.29411766, 0.2627451 ],\n",
              "         [0.4107843 , 0.29411766, 0.2627451 ],\n",
              "         [0.40686274, 0.2901961 , 0.25882354]],\n",
              "\n",
              "        [[0.33014706, 0.24779412, 0.22818628],\n",
              "         [0.32843137, 0.24632353, 0.22132353],\n",
              "         [0.34411764, 0.25392157, 0.23039216],\n",
              "         ...,\n",
              "         [0.40784314, 0.29411766, 0.26862746],\n",
              "         [0.40784314, 0.29411766, 0.26421568],\n",
              "         [0.4       , 0.28627452, 0.25490198]],\n",
              "\n",
              "        [[0.33431372, 0.25588235, 0.22843137],\n",
              "         [0.32941177, 0.2509804 , 0.22352941],\n",
              "         [0.3392157 , 0.25196078, 0.22745098],\n",
              "         ...,\n",
              "         [0.39607844, 0.28235295, 0.25882354],\n",
              "         [0.39509803, 0.28137255, 0.25784314],\n",
              "         [0.40392157, 0.2901961 , 0.26666668]]],\n",
              "\n",
              "\n",
              "       [[[0.32083333, 0.36397058, 0.29730392],\n",
              "         [0.3372549 , 0.36764705, 0.29509804],\n",
              "         [0.36495098, 0.37769607, 0.30514705],\n",
              "         ...,\n",
              "         [0.8566176 , 0.8892157 , 0.825     ],\n",
              "         [0.8519608 , 0.87941176, 0.8093137 ],\n",
              "         [0.8607843 , 0.88039213, 0.80196077]],\n",
              "\n",
              "        [[0.3372549 , 0.37254903, 0.30588236],\n",
              "         [0.34411764, 0.36862746, 0.3004902 ],\n",
              "         [0.3627451 , 0.3754902 , 0.30294117],\n",
              "         ...,\n",
              "         [0.8595588 , 0.8906863 , 0.8240196 ],\n",
              "         [0.8573529 , 0.8781863 , 0.80196077],\n",
              "         [0.85490197, 0.872549  , 0.79509807]],\n",
              "\n",
              "        [[0.3394608 , 0.36887255, 0.30514705],\n",
              "         [0.34779412, 0.37230393, 0.30269608],\n",
              "         [0.37156862, 0.38504902, 0.31029412],\n",
              "         ...,\n",
              "         [0.8595588 , 0.8840686 , 0.8144608 ],\n",
              "         [0.8642157 , 0.87916666, 0.8036765 ],\n",
              "         [0.8666667 , 0.8784314 , 0.7980392 ]],\n",
              "\n",
              "        ...,\n",
              "\n",
              "        [[0.55539215, 0.5468137 , 0.45686275],\n",
              "         [0.5441176 , 0.5416667 , 0.4512255 ],\n",
              "         [0.5477941 , 0.54093134, 0.45857844],\n",
              "         ...,\n",
              "         [0.5107843 , 0.48333332, 0.4117647 ],\n",
              "         [0.4894608 , 0.46200982, 0.3875    ],\n",
              "         [0.4882353 , 0.46078432, 0.38627452]],\n",
              "\n",
              "        [[0.55808824, 0.5384804 , 0.4522059 ],\n",
              "         [0.54387254, 0.5362745 , 0.4480392 ],\n",
              "         [0.5446078 , 0.5370098 , 0.45465687],\n",
              "         ...,\n",
              "         [0.5004902 , 0.4730392 , 0.4014706 ],\n",
              "         [0.4732843 , 0.44583333, 0.37132353],\n",
              "         [0.4735294 , 0.44607842, 0.37156862]],\n",
              "\n",
              "        [[0.5742647 , 0.5529412 , 0.46666667],\n",
              "         [0.55196077, 0.5352941 , 0.45588234],\n",
              "         [0.55      , 0.5421569 , 0.4598039 ],\n",
              "         ...,\n",
              "         [0.4852941 , 0.46568626, 0.39019608],\n",
              "         [0.46470588, 0.44509804, 0.36666667],\n",
              "         [0.4745098 , 0.45490196, 0.3764706 ]]],\n",
              "\n",
              "\n",
              "       [[[0.9857843 , 1.        , 0.8598039 ],\n",
              "         [0.98137254, 0.9992647 , 0.8455882 ],\n",
              "         [0.9622549 , 0.9818627 , 0.8213235 ],\n",
              "         ...,\n",
              "         [0.7879902 , 0.6546569 , 0.5095588 ],\n",
              "         [0.7921569 , 0.6647059 , 0.5137255 ],\n",
              "         [0.777451  , 0.67058825, 0.5127451 ]],\n",
              "\n",
              "        [[0.9794118 , 0.99828434, 0.84362745],\n",
              "         [0.9818627 , 0.9995098 , 0.8357843 ],\n",
              "         [0.9772059 , 0.9987745 , 0.8093137 ],\n",
              "         ...,\n",
              "         [0.7968137 , 0.6634804 , 0.51666665],\n",
              "         [0.7892157 , 0.6617647 , 0.50980395],\n",
              "         [0.7862745 , 0.6764706 , 0.51960784]],\n",
              "\n",
              "        [[0.9759804 , 0.99485296, 0.83504903],\n",
              "         [0.967402  , 0.9823529 , 0.79509807],\n",
              "         [0.98137254, 0.9963235 , 0.77867645],\n",
              "         ...,\n",
              "         [0.7794118 , 0.6519608 , 0.5       ],\n",
              "         [0.77181375, 0.6551471 , 0.49926472],\n",
              "         [0.77254903, 0.6627451 , 0.5058824 ]],\n",
              "\n",
              "        ...,\n",
              "\n",
              "        [[0.26666668, 0.20784314, 0.18039216],\n",
              "         [0.26789215, 0.2129902 , 0.17769608],\n",
              "         [0.2882353 , 0.23406863, 0.19877452],\n",
              "         ...,\n",
              "         [0.37009802, 0.27941176, 0.24093138],\n",
              "         [0.37230393, 0.2742647 , 0.24681373],\n",
              "         [0.3764706 , 0.2784314 , 0.2509804 ]],\n",
              "\n",
              "        [[0.27867648, 0.21985294, 0.19240196],\n",
              "         [0.2889706 , 0.23406863, 0.19877452],\n",
              "         [0.2997549 , 0.24558823, 0.21029411],\n",
              "         ...,\n",
              "         [0.37156862, 0.2764706 , 0.24019608],\n",
              "         [0.36862746, 0.27058825, 0.24313726],\n",
              "         [0.3764706 , 0.2784314 , 0.2509804 ]],\n",
              "\n",
              "        [[0.27965686, 0.22083333, 0.19338235],\n",
              "         [0.29509804, 0.24019608, 0.20490196],\n",
              "         [0.3019608 , 0.24705882, 0.21176471],\n",
              "         ...,\n",
              "         [0.3754902 , 0.28039217, 0.24411765],\n",
              "         [0.37254903, 0.27450982, 0.24705882],\n",
              "         [0.37941176, 0.28137255, 0.25392157]]]], dtype=float32)"
            ]
          },
          "metadata": {},
          "execution_count": 118
        }
      ]
    },
    {
      "cell_type": "code",
      "source": [
        "test_var =  test_data.as_numpy_iterator().next()"
      ],
      "metadata": {
        "id": "o7GeT-DEw-sk"
      },
      "execution_count": 119,
      "outputs": []
    },
    {
      "cell_type": "code",
      "execution_count": 120,
      "metadata": {
        "tags": [],
        "id": "2aqWZz5Oohbv",
        "colab": {
          "base_uri": "https://localhost:8080/"
        },
        "outputId": "8b4f5d38-fd01-458e-cf7a-c0d056cde342"
      },
      "outputs": [
        {
          "output_type": "stream",
          "name": "stdout",
          "text": [
            "1/1 [==============================] - 0s 22ms/step\n"
          ]
        }
      ],
      "source": [
        "y_hat = siamese_model.predict([test_input, test_val])"
      ]
    },
    {
      "cell_type": "code",
      "source": [
        "y_hat"
      ],
      "metadata": {
        "colab": {
          "base_uri": "https://localhost:8080/"
        },
        "id": "KNC17PDgy2Jb",
        "outputId": "ede0c4b2-3c25-4c08-c9b2-f67327187425"
      },
      "execution_count": 121,
      "outputs": [
        {
          "output_type": "execute_result",
          "data": {
            "text/plain": [
              "array([[1.0000000e+00],\n",
              "       [2.7074699e-07],\n",
              "       [9.9999988e-01],\n",
              "       [9.9906117e-01],\n",
              "       [9.9940145e-01],\n",
              "       [8.5424754e-06],\n",
              "       [9.9981707e-01],\n",
              "       [1.0000000e+00],\n",
              "       [1.5913950e-04],\n",
              "       [9.9999857e-01]], dtype=float32)"
            ]
          },
          "metadata": {},
          "execution_count": 121
        }
      ]
    },
    {
      "cell_type": "code",
      "execution_count": 122,
      "metadata": {
        "tags": [],
        "id": "CKIfB0xSohbw",
        "colab": {
          "base_uri": "https://localhost:8080/"
        },
        "outputId": "71762b2d-e55e-4051-cdcd-640c20c11b63"
      },
      "outputs": [
        {
          "output_type": "execute_result",
          "data": {
            "text/plain": [
              "[1, 0, 1, 1, 1, 0, 1, 1, 0, 1]"
            ]
          },
          "metadata": {},
          "execution_count": 122
        }
      ],
      "source": [
        "# Post processing the results\n",
        "[1 if prediction > 0.5 else 0 for prediction in y_hat ]"
      ]
    },
    {
      "cell_type": "code",
      "execution_count": 123,
      "metadata": {
        "tags": [],
        "id": "fxuKyDg5ohbw",
        "colab": {
          "base_uri": "https://localhost:8080/"
        },
        "outputId": "6b6e0d05-557e-4ead-fe02-b2168754337f"
      },
      "outputs": [
        {
          "output_type": "execute_result",
          "data": {
            "text/plain": [
              "array([1., 0., 1., 1., 1., 0., 1., 1., 0., 1.], dtype=float32)"
            ]
          },
          "metadata": {},
          "execution_count": 123
        }
      ],
      "source": [
        "y_true"
      ]
    },
    {
      "cell_type": "markdown",
      "metadata": {
        "id": "3cVh4I8cohbw"
      },
      "source": [
        "## 6.3 Calculate Metrics"
      ]
    },
    {
      "cell_type": "code",
      "execution_count": 124,
      "metadata": {
        "id": "aAuYdb_Wohbw",
        "colab": {
          "base_uri": "https://localhost:8080/"
        },
        "outputId": "8b486b07-7a8d-464b-f25a-3d5c88adbcb4"
      },
      "outputs": [
        {
          "output_type": "execute_result",
          "data": {
            "text/plain": [
              "1.0"
            ]
          },
          "metadata": {},
          "execution_count": 124
        }
      ],
      "source": [
        "# Creating a metric object\n",
        "m = Recall()\n",
        "\n",
        "# Calculating the recall value\n",
        "m.update_state(y_true, y_hat)\n",
        "\n",
        "# Return Recall Result\n",
        "m.result().numpy()"
      ]
    },
    {
      "cell_type": "code",
      "execution_count": 125,
      "metadata": {
        "id": "gXJ8Mg3aohbw",
        "colab": {
          "base_uri": "https://localhost:8080/"
        },
        "outputId": "5ff560f3-75cd-4a37-fa0e-787f7de4a884"
      },
      "outputs": [
        {
          "output_type": "execute_result",
          "data": {
            "text/plain": [
              "1.0"
            ]
          },
          "metadata": {},
          "execution_count": 125
        }
      ],
      "source": [
        "# Creating a metric object\n",
        "m = Precision()\n",
        "\n",
        "# Calculating the recall value\n",
        "m.update_state(y_true, y_hat)\n",
        "\n",
        "# Return Recall Result\n",
        "m.result().numpy()"
      ]
    },
    {
      "cell_type": "code",
      "execution_count": 126,
      "metadata": {
        "id": "1d3FQCQSohbw",
        "colab": {
          "base_uri": "https://localhost:8080/"
        },
        "outputId": "a35574e5-7a13-4be8-d0a0-999556f736f7"
      },
      "outputs": [
        {
          "output_type": "stream",
          "name": "stdout",
          "text": [
            "1/1 [==============================] - 0s 35ms/step\n",
            "1/1 [==============================] - 1s 522ms/step\n",
            "1.0 1.0\n"
          ]
        }
      ],
      "source": [
        "r = Recall()\n",
        "p = Precision()\n",
        "\n",
        "for test_input, test_val, y_true in test_data.as_numpy_iterator():\n",
        "    yhat = siamese_model.predict([test_input, test_val])\n",
        "    r.update_state(y_true, yhat)\n",
        "    p.update_state(y_true,yhat)\n",
        "\n",
        "print(r.result().numpy(), p.result().numpy())"
      ]
    },
    {
      "cell_type": "markdown",
      "metadata": {
        "id": "5KAZsA15ohbw"
      },
      "source": [
        "## 6.4 Viz Results"
      ]
    },
    {
      "cell_type": "code",
      "execution_count": 127,
      "metadata": {
        "id": "S8YBlss3ohbw",
        "colab": {
          "base_uri": "https://localhost:8080/",
          "height": 416
        },
        "outputId": "b64ae1a7-69f9-4f99-b4be-9a4ef180578c"
      },
      "outputs": [
        {
          "output_type": "display_data",
          "data": {
            "text/plain": [
              "<Figure size 1000x800 with 2 Axes>"
            ],
            "image/png": "[encoded data removed]"
          },
          "metadata": {}
        }
      ],
      "source": [
        "# Set plot size\n",
        "plt.figure(figsize=(10,8))\n",
        "\n",
        "# Set first subplot\n",
        "plt.subplot(1,2,1)\n",
        "plt.imshow(test_input[3])\n",
        "\n",
        "# Set second subplot\n",
        "plt.subplot(1,2,2)\n",
        "plt.imshow(test_val[3])\n",
        "\n",
        "# Renders cleanly\n",
        "plt.show()"
      ]
    },
    {
      "cell_type": "markdown",
      "metadata": {
        "id": "nL4jx73dohbw"
      },
      "source": [
        "# 7. Save Model"
      ]
    },
    {
      "cell_type": "code",
      "execution_count": 128,
      "metadata": {
        "id": "qwBnC3lGohbw",
        "colab": {
          "base_uri": "https://localhost:8080/"
        },
        "outputId": "aee006fc-8d7b-4975-eef6-9ec9bf778245"
      },
      "outputs": [
        {
          "output_type": "stream",
          "name": "stderr",
          "text": [
            "WARNING:tensorflow:Compiled the loaded model, but the compiled metrics have yet to be built. `model.compile_metrics` will be empty until you train or evaluate the model.\n"
          ]
        }
      ],
      "source": [
        "# Save weights\n",
        "siamese_model.save('siamesemodelv1.h1')"
      ]
    },
    {
      "cell_type": "code",
      "execution_count": null,
      "metadata": {
        "id": "7B0caPaxohbw",
        "colab": {
          "base_uri": "https://localhost:8080/",
          "height": 186
        },
        "outputId": "b12f6eac-e81c-448f-8fa6-e1c28c279290"
      },
      "outputs": [
        {
          "output_type": "execute_result",
          "data": {
            "text/plain": [
              "__main__.L1Dist"
            ],
            "text/html": [
              "<div style=\"max-width:800px; border: 1px solid var(--colab-border-color);\"><style>\n",
              "      pre.function-repr-contents {\n",
              "        overflow-x: auto;\n",
              "        padding: 8px 12px;\n",
              "        max-height: 500px;\n",
              "      }\n",
              "\n",
              "      pre.function-repr-contents.function-repr-contents-collapsed {\n",
              "        cursor: pointer;\n",
              "        max-height: 100px;\n",
              "      }\n",
              "    </style>\n",
              "    <pre style=\"white-space: initial; background:\n",
              "         var(--colab-secondary-surface-color); padding: 8px 12px;\n",
              "         border-bottom: 1px solid var(--colab-border-color);\"><b>L1Dist</b><br/>def error_handler(*args, **kwargs)</pre><pre class=\"function-repr-contents function-repr-contents-collapsed\" style=\"\"><a class=\"filepath\" style=\"display:none\" href=\"#\"></a>This is the class from which all layers inherit.\n",
              "\n",
              "A layer is a callable object that takes as input one or more tensors and\n",
              "that outputs one or more tensors. It involves *computation*, defined\n",
              "in the `call()` method, and a *state* (weight variables). State can be\n",
              "created in various places, at the convenience of the subclass implementer:\n",
              "\n",
              "* in `__init__()`;\n",
              "* in the optional `build()` method, which is invoked by the first\n",
              "  `__call__()` to the layer, and supplies the shape(s) of the input(s),\n",
              "  which may not have been known at initialization time;\n",
              "* in the first invocation of `call()`, with some caveats discussed\n",
              "  below.\n",
              "\n",
              "Layers are recursively composable: If you assign a Layer instance as an\n",
              "attribute of another Layer, the outer layer will start tracking the weights\n",
              "created by the inner layer. Nested layers should be instantiated in the\n",
              "`__init__()` method.\n",
              "\n",
              "Users will just instantiate a layer and then treat it as a callable.\n",
              "\n",
              "Args:\n",
              "  trainable: Boolean, whether the layer&#x27;s variables should be trainable.\n",
              "  name: String name of the layer.\n",
              "  dtype: The dtype of the layer&#x27;s computations and weights. Can also be a\n",
              "    `tf.keras.mixed_precision.Policy`, which allows the computation and\n",
              "    weight dtype to differ. Default of `None` means to use\n",
              "    `tf.keras.mixed_precision.global_policy()`, which is a float32 policy\n",
              "    unless set to different value.\n",
              "  dynamic: Set this to `True` if your layer should only be run eagerly, and\n",
              "    should not be used to generate a static computation graph.\n",
              "    This would be the case for a Tree-RNN or a recursive network,\n",
              "    for example, or generally for any layer that manipulates tensors\n",
              "    using Python control flow. If `False`, we assume that the layer can\n",
              "    safely be used to generate a static computation graph.\n",
              "\n",
              "Attributes:\n",
              "  name: The name of the layer (string).\n",
              "  dtype: The dtype of the layer&#x27;s weights.\n",
              "  variable_dtype: Alias of `dtype`.\n",
              "  compute_dtype: The dtype of the layer&#x27;s computations. Layers automatically\n",
              "    cast inputs to this dtype which causes the computations and output to\n",
              "    also be in this dtype. When mixed precision is used with a\n",
              "    `tf.keras.mixed_precision.Policy`, this will be different than\n",
              "    `variable_dtype`.\n",
              "  dtype_policy: The layer&#x27;s dtype policy. See the\n",
              "    `tf.keras.mixed_precision.Policy` documentation for details.\n",
              "  trainable_weights: List of variables to be included in backprop.\n",
              "  non_trainable_weights: List of variables that should not be\n",
              "    included in backprop.\n",
              "  weights: The concatenation of the lists trainable_weights and\n",
              "    non_trainable_weights (in this order).\n",
              "  trainable: Whether the layer should be trained (boolean), i.e. whether\n",
              "    its potentially-trainable weights should be returned as part of\n",
              "    `layer.trainable_weights`.\n",
              "  input_spec: Optional (list of) `InputSpec` object(s) specifying the\n",
              "    constraints on inputs that can be accepted by the layer.\n",
              "\n",
              "We recommend that descendants of `Layer` implement the following methods:\n",
              "\n",
              "* `__init__()`: Defines custom layer attributes, and creates layer weights\n",
              "  that do not depend on input shapes, using `add_weight()`, or other state.\n",
              "* `build(self, input_shape)`: This method can be used to create weights that\n",
              "  depend on the shape(s) of the input(s), using `add_weight()`, or other\n",
              "  state. `__call__()` will automatically build the layer (if it has not been\n",
              "  built yet) by calling `build()`.\n",
              "* `call(self, inputs, *args, **kwargs)`: Called in `__call__` after making\n",
              "  sure `build()` has been called. `call()` performs the logic of applying\n",
              "  the layer to the `inputs`. The first invocation may additionally create\n",
              "  state that could not be conveniently created in `build()`; see its\n",
              "  docstring for details.\n",
              "  Two reserved keyword arguments you can optionally use in `call()` are:\n",
              "    - `training` (boolean, whether the call is in inference mode or training\n",
              "      mode). See more details in [the layer/model subclassing guide](\n",
              "      https://www.tensorflow.org/guide/keras/custom_layers_and_models#privileged_training_argument_in_the_call_method)\n",
              "    - `mask` (boolean tensor encoding masked timesteps in the input, used\n",
              "      in RNN layers). See more details in\n",
              "      [the layer/model subclassing guide](\n",
              "      https://www.tensorflow.org/guide/keras/custom_layers_and_models#privileged_mask_argument_in_the_call_method)\n",
              "  A typical signature for this method is `call(self, inputs)`, and user\n",
              "  could optionally add `training` and `mask` if the layer need them. `*args`\n",
              "  and `**kwargs` is only useful for future extension when more input\n",
              "  parameters are planned to be added.\n",
              "* `get_config(self)`: Returns a dictionary containing the configuration used\n",
              "  to initialize this layer. If the keys differ from the arguments\n",
              "  in `__init__`, then override `from_config(self)` as well.\n",
              "  This method is used when saving\n",
              "  the layer or a model that contains this layer.\n",
              "\n",
              "Examples:\n",
              "\n",
              "Here&#x27;s a basic example: a layer with two variables, `w` and `b`,\n",
              "that returns `y = w . x + b`.\n",
              "It shows how to implement `build()` and `call()`.\n",
              "Variables set as attributes of a layer are tracked as weights\n",
              "of the layers (in `layer.weights`).\n",
              "\n",
              "```python\n",
              "class SimpleDense(Layer):\n",
              "\n",
              "  def __init__(self, units=32):\n",
              "      super(SimpleDense, self).__init__()\n",
              "      self.units = units\n",
              "\n",
              "  def build(self, input_shape):  # Create the state of the layer (weights)\n",
              "    w_init = tf.random_normal_initializer()\n",
              "    self.w = tf.Variable(\n",
              "        initial_value=w_init(shape=(input_shape[-1], self.units),\n",
              "                             dtype=&#x27;float32&#x27;),\n",
              "        trainable=True)\n",
              "    b_init = tf.zeros_initializer()\n",
              "    self.b = tf.Variable(\n",
              "        initial_value=b_init(shape=(self.units,), dtype=&#x27;float32&#x27;),\n",
              "        trainable=True)\n",
              "\n",
              "  def call(self, inputs):  # Defines the computation from inputs to outputs\n",
              "      return tf.matmul(inputs, self.w) + self.b\n",
              "\n",
              "# Instantiates the layer.\n",
              "linear_layer = SimpleDense(4)\n",
              "\n",
              "# This will also call `build(input_shape)` and create the weights.\n",
              "y = linear_layer(tf.ones((2, 2)))\n",
              "assert len(linear_layer.weights) == 2\n",
              "\n",
              "# These weights are trainable, so they&#x27;re listed in `trainable_weights`:\n",
              "assert len(linear_layer.trainable_weights) == 2\n",
              "```\n",
              "\n",
              "Note that the method `add_weight()` offers a shortcut to create weights:\n",
              "\n",
              "```python\n",
              "class SimpleDense(Layer):\n",
              "\n",
              "  def __init__(self, units=32):\n",
              "      super(SimpleDense, self).__init__()\n",
              "      self.units = units\n",
              "\n",
              "  def build(self, input_shape):\n",
              "      self.w = self.add_weight(shape=(input_shape[-1], self.units),\n",
              "                               initializer=&#x27;random_normal&#x27;,\n",
              "                               trainable=True)\n",
              "      self.b = self.add_weight(shape=(self.units,),\n",
              "                               initializer=&#x27;random_normal&#x27;,\n",
              "                               trainable=True)\n",
              "\n",
              "  def call(self, inputs):\n",
              "      return tf.matmul(inputs, self.w) + self.b\n",
              "```\n",
              "\n",
              "Besides trainable weights, updated via backpropagation during training,\n",
              "layers can also have non-trainable weights. These weights are meant to\n",
              "be updated manually during `call()`. Here&#x27;s a example layer that computes\n",
              "the running sum of its inputs:\n",
              "\n",
              "```python\n",
              "class ComputeSum(Layer):\n",
              "\n",
              "  def __init__(self, input_dim):\n",
              "      super(ComputeSum, self).__init__()\n",
              "      # Create a non-trainable weight.\n",
              "      self.total = tf.Variable(initial_value=tf.zeros((input_dim,)),\n",
              "                               trainable=False)\n",
              "\n",
              "  def call(self, inputs):\n",
              "      self.total.assign_add(tf.reduce_sum(inputs, axis=0))\n",
              "      return self.total\n",
              "\n",
              "my_sum = ComputeSum(2)\n",
              "x = tf.ones((2, 2))\n",
              "\n",
              "y = my_sum(x)\n",
              "print(y.numpy())  # [2. 2.]\n",
              "\n",
              "y = my_sum(x)\n",
              "print(y.numpy())  # [4. 4.]\n",
              "\n",
              "assert my_sum.weights == [my_sum.total]\n",
              "assert my_sum.non_trainable_weights == [my_sum.total]\n",
              "assert my_sum.trainable_weights == []\n",
              "```\n",
              "\n",
              "For more information about creating layers, see the guide\n",
              "[Making new Layers and Models via subclassing](\n",
              "  https://www.tensorflow.org/guide/keras/custom_layers_and_models)</pre></div>"
            ]
          },
          "metadata": {},
          "execution_count": 122
        }
      ],
      "source": [
        "L1Dist"
      ]
    },
    {
      "cell_type": "code",
      "execution_count": 130,
      "metadata": {
        "id": "EtIH0Pz8ohbw",
        "colab": {
          "base_uri": "https://localhost:8080/"
        },
        "outputId": "2bdba03e-bbc9-46b2-d969-c410cd945fbc"
      },
      "outputs": [
        {
          "output_type": "stream",
          "name": "stderr",
          "text": [
            "WARNING:tensorflow:No training configuration found in save file, so the model was *not* compiled. Compile it manually.\n"
          ]
        }
      ],
      "source": [
        "# Reload model\n",
        "siamese_model = tf.keras.models.load_model('siamesemodelv1.h1',\n",
        "                                   custom_objects={'L1Dist':L1Dist, 'BinaryCrossentropy':tf.losses.BinaryCrossentropy})"
      ]
    },
    {
      "cell_type": "code",
      "execution_count": 131,
      "metadata": {
        "id": "xfe0KjC9ohbx",
        "colab": {
          "base_uri": "https://localhost:8080/"
        },
        "outputId": "970716ff-f08a-458f-eece-622dfc5d2d3a"
      },
      "outputs": [
        {
          "output_type": "stream",
          "name": "stdout",
          "text": [
            "1/1 [==============================] - 0s 184ms/step\n"
          ]
        },
        {
          "output_type": "execute_result",
          "data": {
            "text/plain": [
              "array([[9.9999952e-01],\n",
              "       [2.7074751e-07],\n",
              "       [3.1987150e-07],\n",
              "       [9.9881929e-01],\n",
              "       [3.4031189e-07],\n",
              "       [9.9999595e-01],\n",
              "       [1.0621025e-05],\n",
              "       [6.2192464e-07]], dtype=float32)"
            ]
          },
          "metadata": {},
          "execution_count": 131
        }
      ],
      "source": [
        "# Make predictions with reloaded model\n",
        "siamese_model.predict([test_input, test_val])"
      ]
    },
    {
      "cell_type": "code",
      "execution_count": 132,
      "metadata": {
        "id": "Ea3yJMJLohbx",
        "colab": {
          "base_uri": "https://localhost:8080/"
        },
        "outputId": "ab6b2a8b-4f11-4555-9dd4-687be193576e"
      },
      "outputs": [
        {
          "output_type": "stream",
          "name": "stdout",
          "text": [
            "Model: \"SiameseNetwork\"\n",
            "__________________________________________________________________________________________________\n",
            " Layer (type)                Output Shape                 Param #   Connected to                  \n",
            "==================================================================================================\n",
            " input_img (InputLayer)      [(None, 100, 100, 3)]        0         []                            \n",
            "                                                                                                  \n",
            " validation_img (InputLayer  [(None, 100, 100, 3)]        0         []                            \n",
            " )                                                                                                \n",
            "                                                                                                  \n",
            " embedding (Functional)      (None, 4096)                 3896044   ['input_img[0][0]',           \n",
            "                                                          8          'validation_img[0][0]']      \n",
            "                                                                                                  \n",
            " distance (L1Dist)           (None, 4096)                 0         ['embedding[0][0]',           \n",
            "                                                                     'embedding[1][0]']           \n",
            "                                                                                                  \n",
            " dense_6 (Dense)             (None, 1)                    4097      ['distance[0][0]']            \n",
            "                                                                                                  \n",
            "==================================================================================================\n",
            "Total params: 38964545 (148.64 MB)\n",
            "Trainable params: 38964545 (148.64 MB)\n",
            "Non-trainable params: 0 (0.00 Byte)\n",
            "__________________________________________________________________________________________________\n"
          ]
        }
      ],
      "source": [
        "# View model summary\n",
        "siamese_model.summary()"
      ]
    },
    {
      "cell_type": "markdown",
      "metadata": {
        "id": "88aE4B2iohbx"
      },
      "source": [
        "# 8. Real Time Test"
      ]
    },
    {
      "cell_type": "markdown",
      "metadata": {
        "id": "uyrJCguwohbx"
      },
      "source": [
        "## 8.1 Verification Function"
      ]
    },
    {
      "cell_type": "code",
      "source": [
        "VERIFICATION_IMAGE_PATH=os.path.join('application_data', 'verification_images')\n",
        "INPUT_IMAGE_PATH=os.path.join('application_data', 'input_image')"
      ],
      "metadata": {
        "id": "0QSOSMeOX8UJ"
      },
      "execution_count": 151,
      "outputs": []
    },
    {
      "cell_type": "code",
      "source": [
        "#creating application flfer\n",
        "os.makedirs(VERIFICATION_IMAGE_PATH)\n",
        "os.makedirs(INPUT_IMAGE_PATH)"
      ],
      "metadata": {
        "id": "xPiGlu7eXikM"
      },
      "execution_count": 142,
      "outputs": []
    },
    {
      "cell_type": "code",
      "source": [
        "#copy 50 files from positive to application_data/verification_images\n",
        "import shutil\n",
        "\n",
        "def copy_files(source_folder, destination_folder, num_files):\n",
        "    # Get the list of files in the source folder\n",
        "    files = os.listdir(source_folder)\n",
        "\n",
        "    # Make sure the destination folder exists, create it if not\n",
        "    os.makedirs(destination_folder, exist_ok=True)\n",
        "\n",
        "    # Copy the specified number of files\n",
        "    for i in range(num_files):\n",
        "        # Make sure we don't exceed the number of files available\n",
        "        if i < len(files):\n",
        "            file_to_copy = os.path.join(source_folder, files[i])\n",
        "            shutil.copy(file_to_copy, destination_folder)\n"
      ],
      "metadata": {
        "id": "WgiQi8erbeYd"
      },
      "execution_count": 146,
      "outputs": []
    },
    {
      "cell_type": "code",
      "source": [
        "# Example usage\n",
        "source_folder = \"/content/data/positive\"\n",
        "destination_folder = \"/content/application_data/verification_images\"\n",
        "num_files_to_copy = 50  # Change this to the number of files you want to copy\n",
        "\n",
        "copy_files(source_folder, destination_folder, num_files_to_copy)"
      ],
      "metadata": {
        "id": "-eYvc3sNb1Pu"
      },
      "execution_count": 147,
      "outputs": []
    },
    {
      "cell_type": "code",
      "execution_count": 148,
      "metadata": {
        "id": "RuESnJvHohbx",
        "colab": {
          "base_uri": "https://localhost:8080/"
        },
        "outputId": "afd7d875-ce2b-42b9-a570-1fbd45a2b3ef"
      },
      "outputs": [
        {
          "output_type": "execute_result",
          "data": {
            "text/plain": [
              "['22fd0234-f05f-11ee-b446-0242ac1c000c.jpg',\n",
              " '858e820c-f05e-11ee-b446-0242ac1c000c.jpg',\n",
              " '21ccf018-f05f-11ee-b446-0242ac1c000c.jpg',\n",
              " '221485b8-f05f-11ee-b446-0242ac1c000c.jpg',\n",
              " '23316420-f05f-11ee-b446-0242ac1c000c.jpg',\n",
              " '21554d60-f05f-11ee-b446-0242ac1c000c.jpg',\n",
              " '227d05a2-f05f-11ee-b446-0242ac1c000c.jpg',\n",
              " '227d5fca-f05f-11ee-b446-0242ac1c000c.jpg',\n",
              " '21e05f18-f05f-11ee-b446-0242ac1c000c.jpg',\n",
              " '219a87e0-f05f-11ee-b446-0242ac1c000c.jpg',\n",
              " '2177ca5c-f05f-11ee-b446-0242ac1c000c.jpg',\n",
              " '914c6bc2-f05e-11ee-b446-0242ac1c000c.jpg',\n",
              " '22c6e58c-f05f-11ee-b446-0242ac1c000c.jpg',\n",
              " '23311fe2-f05f-11ee-b446-0242ac1c000c.jpg',\n",
              " '21f28c60-f05f-11ee-b446-0242ac1c000c.jpg',\n",
              " '21315dc4-f05f-11ee-b446-0242ac1c000c.jpg',\n",
              " '21653270-f05f-11ee-b446-0242ac1c000c.jpg',\n",
              " '22027918-f05f-11ee-b446-0242ac1c000c.jpg',\n",
              " '21778948-f05f-11ee-b446-0242ac1c000c.jpg',\n",
              " '22269226-f05f-11ee-b446-0242ac1c000c.jpg',\n",
              " '22ea3db6-f05f-11ee-b446-0242ac1c000c.jpg',\n",
              " 'a69a6f1a-f05e-11ee-b446-0242ac1c000c.jpg',\n",
              " '213119ae-f05f-11ee-b446-0242ac1c000c.jpg',\n",
              " '225abd26-f05f-11ee-b446-0242ac1c000c.jpg',\n",
              " '22483ee4-f05f-11ee-b446-0242ac1c000c.jpg',\n",
              " '22a06e2a-f05f-11ee-b446-0242ac1c000c.jpg',\n",
              " '231fd732-f05f-11ee-b446-0242ac1c000c.jpg',\n",
              " '228f103a-f05f-11ee-b446-0242ac1c000c.jpg',\n",
              " '2143dda0-f05f-11ee-b446-0242ac1c000c.jpg',\n",
              " '21e12e66-f05f-11ee-b446-0242ac1c000c.jpg',\n",
              " 'c7426e2a-f05e-11ee-b446-0242ac1c000c.jpg',\n",
              " '21f06b60-f05f-11ee-b446-0242ac1c000c.jpg',\n",
              " '21e0ead2-f05f-11ee-b446-0242ac1c000c.jpg',\n",
              " '21aa89ce-f05f-11ee-b446-0242ac1c000c.jpg',\n",
              " '2142bde4-f05f-11ee-b446-0242ac1c000c.jpg',\n",
              " '226a789c-f05f-11ee-b446-0242ac1c000c.jpg',\n",
              " '2320660c-f05f-11ee-b446-0242ac1c000c.jpg',\n",
              " '22e89be6-f05f-11ee-b446-0242ac1c000c.jpg',\n",
              " '2178d604-f05f-11ee-b446-0242ac1c000c.jpg',\n",
              " '23322c84-f05f-11ee-b446-0242ac1c000c.jpg',\n",
              " '21ce98be-f05f-11ee-b446-0242ac1c000c.jpg',\n",
              " '2189f326-f05f-11ee-b446-0242ac1c000c.jpg',\n",
              " '211efe5e-f05f-11ee-b446-0242ac1c000c.jpg',\n",
              " '2237dacc-f05f-11ee-b446-0242ac1c000c.jpg',\n",
              " '21543a74-f05f-11ee-b446-0242ac1c000c.jpg',\n",
              " '21f2f11e-f05f-11ee-b446-0242ac1c000c.jpg',\n",
              " '22a1cc20-f05f-11ee-b446-0242ac1c000c.jpg',\n",
              " '23327126-f05f-11ee-b446-0242ac1c000c.jpg',\n",
              " '227e34f4-f05f-11ee-b446-0242ac1c000c.jpg',\n",
              " '211f43d2-f05f-11ee-b446-0242ac1c000c.jpg']"
            ]
          },
          "metadata": {},
          "execution_count": 148
        }
      ],
      "source": [
        "os.listdir(os.path.join('application_data', 'verification_images'))"
      ]
    },
    {
      "cell_type": "code",
      "execution_count": 144,
      "metadata": {
        "id": "b1avPXsaohbx",
        "colab": {
          "base_uri": "https://localhost:8080/",
          "height": 38
        },
        "outputId": "61f461bb-9e40-4263-8e6d-e09192768613"
      },
      "outputs": [
        {
          "output_type": "execute_result",
          "data": {
            "text/plain": [
              "'application_data/input_image/input_image.jpg'"
            ],
            "application/vnd.google.colaboratory.intrinsic+json": {
              "type": "string"
            }
          },
          "metadata": {},
          "execution_count": 144
        }
      ],
      "source": [
        "os.path.join('application_data', 'input_image', 'input_image.jpg')"
      ]
    },
    {
      "cell_type": "code",
      "execution_count": 149,
      "metadata": {
        "id": "qABdC2Sgohbx",
        "colab": {
          "base_uri": "https://localhost:8080/"
        },
        "outputId": "956fd39b-6898-4faf-da4c-d2cf251e8599"
      },
      "outputs": [
        {
          "output_type": "stream",
          "name": "stdout",
          "text": [
            "application_data/verification_images/22fd0234-f05f-11ee-b446-0242ac1c000c.jpg\n",
            "application_data/verification_images/858e820c-f05e-11ee-b446-0242ac1c000c.jpg\n",
            "application_data/verification_images/21ccf018-f05f-11ee-b446-0242ac1c000c.jpg\n",
            "application_data/verification_images/221485b8-f05f-11ee-b446-0242ac1c000c.jpg\n",
            "application_data/verification_images/23316420-f05f-11ee-b446-0242ac1c000c.jpg\n",
            "application_data/verification_images/21554d60-f05f-11ee-b446-0242ac1c000c.jpg\n",
            "application_data/verification_images/227d05a2-f05f-11ee-b446-0242ac1c000c.jpg\n",
            "application_data/verification_images/227d5fca-f05f-11ee-b446-0242ac1c000c.jpg\n",
            "application_data/verification_images/21e05f18-f05f-11ee-b446-0242ac1c000c.jpg\n",
            "application_data/verification_images/219a87e0-f05f-11ee-b446-0242ac1c000c.jpg\n",
            "application_data/verification_images/2177ca5c-f05f-11ee-b446-0242ac1c000c.jpg\n",
            "application_data/verification_images/914c6bc2-f05e-11ee-b446-0242ac1c000c.jpg\n",
            "application_data/verification_images/22c6e58c-f05f-11ee-b446-0242ac1c000c.jpg\n",
            "application_data/verification_images/23311fe2-f05f-11ee-b446-0242ac1c000c.jpg\n",
            "application_data/verification_images/21f28c60-f05f-11ee-b446-0242ac1c000c.jpg\n",
            "application_data/verification_images/21315dc4-f05f-11ee-b446-0242ac1c000c.jpg\n",
            "application_data/verification_images/21653270-f05f-11ee-b446-0242ac1c000c.jpg\n",
            "application_data/verification_images/22027918-f05f-11ee-b446-0242ac1c000c.jpg\n",
            "application_data/verification_images/21778948-f05f-11ee-b446-0242ac1c000c.jpg\n",
            "application_data/verification_images/22269226-f05f-11ee-b446-0242ac1c000c.jpg\n",
            "application_data/verification_images/22ea3db6-f05f-11ee-b446-0242ac1c000c.jpg\n",
            "application_data/verification_images/a69a6f1a-f05e-11ee-b446-0242ac1c000c.jpg\n",
            "application_data/verification_images/213119ae-f05f-11ee-b446-0242ac1c000c.jpg\n",
            "application_data/verification_images/225abd26-f05f-11ee-b446-0242ac1c000c.jpg\n",
            "application_data/verification_images/22483ee4-f05f-11ee-b446-0242ac1c000c.jpg\n",
            "application_data/verification_images/22a06e2a-f05f-11ee-b446-0242ac1c000c.jpg\n",
            "application_data/verification_images/231fd732-f05f-11ee-b446-0242ac1c000c.jpg\n",
            "application_data/verification_images/228f103a-f05f-11ee-b446-0242ac1c000c.jpg\n",
            "application_data/verification_images/2143dda0-f05f-11ee-b446-0242ac1c000c.jpg\n",
            "application_data/verification_images/21e12e66-f05f-11ee-b446-0242ac1c000c.jpg\n",
            "application_data/verification_images/c7426e2a-f05e-11ee-b446-0242ac1c000c.jpg\n",
            "application_data/verification_images/21f06b60-f05f-11ee-b446-0242ac1c000c.jpg\n",
            "application_data/verification_images/21e0ead2-f05f-11ee-b446-0242ac1c000c.jpg\n",
            "application_data/verification_images/21aa89ce-f05f-11ee-b446-0242ac1c000c.jpg\n",
            "application_data/verification_images/2142bde4-f05f-11ee-b446-0242ac1c000c.jpg\n",
            "application_data/verification_images/226a789c-f05f-11ee-b446-0242ac1c000c.jpg\n",
            "application_data/verification_images/2320660c-f05f-11ee-b446-0242ac1c000c.jpg\n",
            "application_data/verification_images/22e89be6-f05f-11ee-b446-0242ac1c000c.jpg\n",
            "application_data/verification_images/2178d604-f05f-11ee-b446-0242ac1c000c.jpg\n",
            "application_data/verification_images/23322c84-f05f-11ee-b446-0242ac1c000c.jpg\n",
            "application_data/verification_images/21ce98be-f05f-11ee-b446-0242ac1c000c.jpg\n",
            "application_data/verification_images/2189f326-f05f-11ee-b446-0242ac1c000c.jpg\n",
            "application_data/verification_images/211efe5e-f05f-11ee-b446-0242ac1c000c.jpg\n",
            "application_data/verification_images/2237dacc-f05f-11ee-b446-0242ac1c000c.jpg\n",
            "application_data/verification_images/21543a74-f05f-11ee-b446-0242ac1c000c.jpg\n",
            "application_data/verification_images/21f2f11e-f05f-11ee-b446-0242ac1c000c.jpg\n",
            "application_data/verification_images/22a1cc20-f05f-11ee-b446-0242ac1c000c.jpg\n",
            "application_data/verification_images/23327126-f05f-11ee-b446-0242ac1c000c.jpg\n",
            "application_data/verification_images/227e34f4-f05f-11ee-b446-0242ac1c000c.jpg\n",
            "application_data/verification_images/211f43d2-f05f-11ee-b446-0242ac1c000c.jpg\n"
          ]
        }
      ],
      "source": [
        "for image in os.listdir(os.path.join('application_data', 'verification_images')):\n",
        "    validation_img = os.path.join('application_data', 'verification_images', image)\n",
        "    print(validation_img)"
      ]
    },
    {
      "cell_type": "code",
      "execution_count": 140,
      "metadata": {
        "id": "ijWeSsLfohbx"
      },
      "outputs": [],
      "source": [
        "def verify(model, detection_threshold, verification_threshold):\n",
        "    # Build results array\n",
        "    results = []\n",
        "    for image in os.listdir(os.path.join('application_data', 'verification_images')):\n",
        "        input_img = preprocess(os.path.join('application_data', 'input_image', 'input_image.jpg'))\n",
        "        validation_img = preprocess(os.path.join('application_data', 'verification_images', image))\n",
        "\n",
        "        # Make Predictions\n",
        "        result = model.predict(list(np.expand_dims([input_img, validation_img], axis=1)))\n",
        "        results.append(result)\n",
        "\n",
        "    # Detection Threshold: Metric above which a prediciton is considered positive\n",
        "    detection = np.sum(np.array(results) > detection_threshold)\n",
        "\n",
        "    # Verification Threshold: Proportion of positive predictions / total positive samples\n",
        "    verification = detection / len(os.listdir(os.path.join('application_data', 'verification_images')))\n",
        "    verified = verification > verification_threshold\n",
        "\n",
        "    return results, verified"
      ]
    },
    {
      "cell_type": "markdown",
      "metadata": {
        "id": "7KXIEujDohbx"
      },
      "source": [
        "## 8.2 OpenCV Real Time Verification"
      ]
    },
    {
      "cell_type": "code",
      "execution_count": null,
      "metadata": {
        "id": "GPdaGQXvohbx"
      },
      "outputs": [],
      "source": [
        "cap = cv2.VideoCapture(4)\n",
        "while cap.isOpened():\n",
        "    ret, frame = cap.read()\n",
        "    frame = frame[120:120+250,200:200+250, :]\n",
        "\n",
        "    cv2.imshow('Verification', frame)\n",
        "\n",
        "    # Verification trigger\n",
        "    if cv2.waitKey(10) & 0xFF == ord('v'):\n",
        "        # Save input image to application_data/input_image folder\n",
        "#         hsv = cv2.cvtColor(frame, cv2.COLOR_BGR2HSV)\n",
        "#         h, s, v = cv2.split(hsv)\n",
        "\n",
        "#         lim = 255 - 10\n",
        "#         v[v > lim] = 255\n",
        "#         v[v <= lim] -= 10\n",
        "\n",
        "#         final_hsv = cv2.merge((h, s, v))\n",
        "#         img = cv2.cvtColor(final_hsv, cv2.COLOR_HSV2BGR)\n",
        "\n",
        "        cv2.imwrite(os.path.join('application_data', 'input_image', 'input_image.jpg'), frame)\n",
        "        # Run verification\n",
        "        results, verified = verify(siamese_model, 0.5, 0.5)\n",
        "        print(verified)\n",
        "\n",
        "    if cv2.waitKey(10) & 0xFF == ord('q'):\n",
        "        break\n",
        "cap.release()\n",
        "cv2.destroyAllWindows()"
      ]
    },
    {
      "cell_type": "code",
      "source": [
        "from IPython.display import Image\n",
        "FOLDER_PATH='/content/application_data/input_image'\n",
        "try:\n",
        "  filename = take_photo(FOLDER_PATH)\n",
        "  os.rename(filename, FOLDER_PATH/'input_image.jpg')\n",
        "  print('Saved to {}'.format(filename))\n",
        "  results, verified = verify(siamese_model, 0.5, 0.5)\n",
        "  print(verified)\n",
        "\n",
        "  # Show the image which was just taken.\n",
        "  display(Image(filename))\n",
        "except Exception as err:\n",
        "  # Errors will be thrown if the user does not have a webcam or if they do not\n",
        "  # grant the page permission to access it.\n",
        "  print(str(err))\n",
        "i +=1"
      ],
      "metadata": {
        "colab": {
          "base_uri": "https://localhost:8080/",
          "height": 35
        },
        "id": "dIyzQQ5bea_5",
        "outputId": "6ac98672-0257-4ce5-c9b1-4e71c61049f1"
      },
      "execution_count": 157,
      "outputs": [
        {
          "output_type": "display_data",
          "data": {
            "text/plain": [
              "<IPython.core.display.Javascript object>"
            ],
            "application/javascript": [
              "\n",
              "    async function takePhoto(quality) {\n",
              "      const div = document.createElement('div');\n",
              "      const capture = document.createElement('button');\n",
              "      capture.textContent = 'Capture';\n",
              "      div.appendChild(capture);\n",
              "\n",
              "      const video = document.createElement('video');\n",
              "      video.style.display = 'block';\n",
              "      const stream = await navigator.mediaDevices.getUserMedia({video: true});\n",
              "\n",
              "      document.body.appendChild(div);\n",
              "      div.appendChild(video);\n",
              "      video.srcObject = stream;\n",
              "      await video.play();\n",
              "\n",
              "      // Resize the output to fit the video element.\n",
              "      google.colab.output.setIframeHeight(document.documentElement.scrollHeight, true);\n",
              "\n",
              "      // Wait for Capture to be clicked.\n",
              "      await new Promise((resolve) => capture.onclick = resolve);\n",
              "\n",
              "      const canvas = document.createElement('canvas');\n",
              "      canvas.width = video.videoWidth;\n",
              "      canvas.height = video.videoHeight;\n",
              "      canvas.getContext('2d').drawImage(video, 0, 0);\n",
              "      stream.getVideoTracks()[0].stop();\n",
              "      div.remove();\n",
              "      return canvas.toDataURL('image/jpeg', quality);\n",
              "    }\n",
              "    "
            ]
          },
          "metadata": {}
        },
        {
          "output_type": "stream",
          "name": "stdout",
          "text": [
            "unsupported operand type(s) for /: 'str' and 'str'\n"
          ]
        }
      ]
    },
    {
      "cell_type": "code",
      "source": [
        "from IPython.display import Image\n",
        "\n",
        "FOLDER_PATH = '/content/application_data/input_image'\n",
        "\n",
        "try:\n",
        "    filename = take_photo(FOLDER_PATH)\n",
        "    new_filename = os.path.join(FOLDER_PATH, 'input_image.jpg')\n",
        "    os.rename(filename, new_filename)\n",
        "    results, verified = verify(siamese_model, 0.5, 0.5)\n",
        "    print(verified)\n",
        "\n",
        "    # Show the image which was just taken.\n",
        "    display(Image(new_filename))\n",
        "except Exception as err:\n",
        "    # Errors will be thrown if the user does not have a webcam or if they do not\n",
        "    # grant the page permission to access it.\n",
        "    print(str(err))\n"
      ],
      "metadata": {
        "colab": {
          "base_uri": "https://localhost:8080/",
          "height": 1000
        },
        "id": "n_fn8Ut6jLfw",
        "outputId": "92178722-ad3c-4505-9770-c938412ede72"
      },
      "execution_count": 159,
      "outputs": [
        {
          "output_type": "display_data",
          "data": {
            "text/plain": [
              "<IPython.core.display.Javascript object>"
            ],
            "application/javascript": [
              "\n",
              "    async function takePhoto(quality) {\n",
              "      const div = document.createElement('div');\n",
              "      const capture = document.createElement('button');\n",
              "      capture.textContent = 'Capture';\n",
              "      div.appendChild(capture);\n",
              "\n",
              "      const video = document.createElement('video');\n",
              "      video.style.display = 'block';\n",
              "      const stream = await navigator.mediaDevices.getUserMedia({video: true});\n",
              "\n",
              "      document.body.appendChild(div);\n",
              "      div.appendChild(video);\n",
              "      video.srcObject = stream;\n",
              "      await video.play();\n",
              "\n",
              "      // Resize the output to fit the video element.\n",
              "      google.colab.output.setIframeHeight(document.documentElement.scrollHeight, true);\n",
              "\n",
              "      // Wait for Capture to be clicked.\n",
              "      await new Promise((resolve) => capture.onclick = resolve);\n",
              "\n",
              "      const canvas = document.createElement('canvas');\n",
              "      canvas.width = video.videoWidth;\n",
              "      canvas.height = video.videoHeight;\n",
              "      canvas.getContext('2d').drawImage(video, 0, 0);\n",
              "      stream.getVideoTracks()[0].stop();\n",
              "      div.remove();\n",
              "      return canvas.toDataURL('image/jpeg', quality);\n",
              "    }\n",
              "    "
            ]
          },
          "metadata": {}
        },
        {
          "output_type": "stream",
          "name": "stdout",
          "text": [
            "1/1 [==============================] - 0s 20ms/step\n",
            "1/1 [==============================] - 0s 20ms/step\n",
            "1/1 [==============================] - 0s 19ms/step\n",
            "1/1 [==============================] - 0s 20ms/step\n",
            "1/1 [==============================] - 0s 20ms/step\n",
            "1/1 [==============================] - 0s 19ms/step\n",
            "1/1 [==============================] - 0s 20ms/step\n",
            "1/1 [==============================] - 0s 20ms/step\n",
            "1/1 [==============================] - 0s 22ms/step\n",
            "1/1 [==============================] - 0s 19ms/step\n",
            "1/1 [==============================] - 0s 18ms/step\n",
            "1/1 [==============================] - 0s 18ms/step\n",
            "1/1 [==============================] - 0s 27ms/step\n",
            "1/1 [==============================] - 0s 19ms/step\n",
            "1/1 [==============================] - 0s 19ms/step\n",
            "1/1 [==============================] - 0s 21ms/step\n",
            "1/1 [==============================] - 0s 20ms/step\n",
            "1/1 [==============================] - 0s 21ms/step\n",
            "1/1 [==============================] - 0s 20ms/step\n",
            "1/1 [==============================] - 0s 20ms/step\n",
            "1/1 [==============================] - 0s 27ms/step\n",
            "1/1 [==============================] - 0s 20ms/step\n",
            "1/1 [==============================] - 0s 20ms/step\n",
            "1/1 [==============================] - 0s 19ms/step\n",
            "1/1 [==============================] - 0s 20ms/step\n",
            "1/1 [==============================] - 0s 20ms/step\n",
            "1/1 [==============================] - 0s 19ms/step\n",
            "1/1 [==============================] - 0s 20ms/step\n",
            "1/1 [==============================] - 0s 19ms/step\n",
            "1/1 [==============================] - 0s 19ms/step\n",
            "1/1 [==============================] - 0s 19ms/step\n",
            "1/1 [==============================] - 0s 17ms/step\n",
            "1/1 [==============================] - 0s 17ms/step\n",
            "1/1 [==============================] - 0s 18ms/step\n",
            "1/1 [==============================] - 0s 18ms/step\n",
            "1/1 [==============================] - 0s 18ms/step\n",
            "1/1 [==============================] - 0s 19ms/step\n",
            "1/1 [==============================] - 0s 18ms/step\n",
            "1/1 [==============================] - 0s 18ms/step\n",
            "1/1 [==============================] - 0s 18ms/step\n",
            "1/1 [==============================] - 0s 19ms/step\n",
            "1/1 [==============================] - 0s 19ms/step\n",
            "1/1 [==============================] - 0s 30ms/step\n",
            "1/1 [==============================] - 0s 33ms/step\n",
            "1/1 [==============================] - 0s 36ms/step\n",
            "1/1 [==============================] - 0s 28ms/step\n",
            "1/1 [==============================] - 0s 32ms/step\n",
            "1/1 [==============================] - 0s 28ms/step\n",
            "1/1 [==============================] - 0s 26ms/step\n",
            "1/1 [==============================] - 0s 31ms/step\n",
            "True\n"
          ]
        },
        {
          "output_type": "display_data",
          "data": {
            "image/jpeg": "[encoded data removed]",
            "text/plain": [
              "<IPython.core.display.Image object>"
            ]
          },
          "metadata": {}
        }
      ]
    },
    {
      "cell_type": "code",
      "source": [],
      "metadata": {
        "id": "CpSr4TeBhDU4"
      },
      "execution_count": 158,
      "outputs": []
    },
    {
      "cell_type": "code",
      "execution_count": 160,
      "metadata": {
        "id": "5C7WyExyohby",
        "colab": {
          "base_uri": "https://localhost:8080/"
        },
        "outputId": "55a5050e-48c8-4975-e082-722c49803d70"
      },
      "outputs": [
        {
          "output_type": "execute_result",
          "data": {
            "text/plain": [
              "40"
            ]
          },
          "metadata": {},
          "execution_count": 160
        }
      ],
      "source": [
        "np.sum(np.squeeze(results) > 0.9)"
      ]
    },
    {
      "cell_type": "code",
      "execution_count": 161,
      "metadata": {
        "id": "0rn6q4MBohby",
        "colab": {
          "base_uri": "https://localhost:8080/"
        },
        "outputId": "cc43e7ac-8794-4b6c-e517-fed72edf54be"
      },
      "outputs": [
        {
          "output_type": "execute_result",
          "data": {
            "text/plain": [
              "[array([[0.99999964]], dtype=float32),\n",
              " array([[0.99946076]], dtype=float32),\n",
              " array([[0.922649]], dtype=float32),\n",
              " array([[0.7577625]], dtype=float32),\n",
              " array([[0.99944705]], dtype=float32),\n",
              " array([[0.95615983]], dtype=float32),\n",
              " array([[0.58189976]], dtype=float32),\n",
              " array([[0.53084743]], dtype=float32),\n",
              " array([[0.99247336]], dtype=float32),\n",
              " array([[0.99730325]], dtype=float32),\n",
              " array([[0.9989453]], dtype=float32),\n",
              " array([[0.9990356]], dtype=float32),\n",
              " array([[0.83046603]], dtype=float32),\n",
              " array([[0.9995906]], dtype=float32),\n",
              " array([[0.99983966]], dtype=float32),\n",
              " array([[0.9999957]], dtype=float32),\n",
              " array([[0.9969887]], dtype=float32),\n",
              " array([[0.99903286]], dtype=float32),\n",
              " array([[0.9997609]], dtype=float32),\n",
              " array([[0.8591275]], dtype=float32),\n",
              " array([[0.9999732]], dtype=float32),\n",
              " array([[0.99977547]], dtype=float32),\n",
              " array([[0.99996984]], dtype=float32),\n",
              " array([[0.9999995]], dtype=float32),\n",
              " array([[0.9794779]], dtype=float32),\n",
              " array([[0.81054914]], dtype=float32),\n",
              " array([[0.9985202]], dtype=float32),\n",
              " array([[0.9477832]], dtype=float32),\n",
              " array([[0.99379987]], dtype=float32),\n",
              " array([[0.99991345]], dtype=float32),\n",
              " array([[0.9583499]], dtype=float32),\n",
              " array([[0.96120155]], dtype=float32),\n",
              " array([[0.99961036]], dtype=float32),\n",
              " array([[0.319202]], dtype=float32),\n",
              " array([[0.99021626]], dtype=float32),\n",
              " array([[0.8074466]], dtype=float32),\n",
              " array([[0.9999713]], dtype=float32),\n",
              " array([[0.2201857]], dtype=float32),\n",
              " array([[0.9999995]], dtype=float32),\n",
              " array([[0.9841493]], dtype=float32),\n",
              " array([[0.9999689]], dtype=float32),\n",
              " array([[0.99999833]], dtype=float32),\n",
              " array([[0.615039]], dtype=float32),\n",
              " array([[0.99999774]], dtype=float32),\n",
              " array([[0.9881953]], dtype=float32),\n",
              " array([[0.9985876]], dtype=float32),\n",
              " array([[0.9999696]], dtype=float32),\n",
              " array([[0.9476916]], dtype=float32),\n",
              " array([[0.9939261]], dtype=float32),\n",
              " array([[0.979646]], dtype=float32)]"
            ]
          },
          "metadata": {},
          "execution_count": 161
        }
      ],
      "source": [
        "results"
      ]
    },
    {
      "cell_type": "code",
      "execution_count": null,
      "metadata": {
        "id": "CQl8E52Iohby"
      },
      "outputs": [],
      "source": []
    },
    {
      "cell_type": "code",
      "execution_count": 162,
      "metadata": {
        "id": "XcjJixPVohby",
        "colab": {
          "base_uri": "https://localhost:8080/"
        },
        "outputId": "ba7144cc-d9cd-4109-c516-9653fe8d1cf5"
      },
      "outputs": [
        {
          "output_type": "stream",
          "name": "stdout",
          "text": [
            "Files zipped and ready for download.\n"
          ]
        }
      ],
      "source": [
        "import shutil\n",
        "import os\n",
        "\n",
        "def download_files_and_folders(directory_path):\n",
        "    try:\n",
        "        # Zip the entire directory\n",
        "        shutil.make_archive(\"/content/files\", 'zip', directory_path)\n",
        "\n",
        "        print(\"Files zipped and ready for download.\")\n",
        "    except Exception as e:\n",
        "        print(f\"Error: {e}\")\n",
        "\n",
        "# Example usage\n",
        "download_files_and_folders(\"/content/application_data\")\n"
      ]
    },
    {
      "cell_type": "code",
      "source": [
        "from google.colab import files\n",
        "\n",
        "files.download('/content/files.zip')\n"
      ],
      "metadata": {
        "colab": {
          "base_uri": "https://localhost:8080/",
          "height": 17
        },
        "id": "yrOuTDX9otGK",
        "outputId": "7e12c83b-896e-4ad1-9a40-b7e25fe4ab0c"
      },
      "execution_count": 163,
      "outputs": [
        {
          "output_type": "display_data",
          "data": {
            "text/plain": [
              "<IPython.core.display.Javascript object>"
            ],
            "application/javascript": [
              "\n",
              "    async function download(id, filename, size) {\n",
              "      if (!google.colab.kernel.accessAllowed) {\n",
              "        return;\n",
              "      }\n",
              "      const div = document.createElement('div');\n",
              "      const label = document.createElement('label');\n",
              "      label.textContent = `Downloading \"${filename}\": `;\n",
              "      div.appendChild(label);\n",
              "      const progress = document.createElement('progress');\n",
              "      progress.max = size;\n",
              "      div.appendChild(progress);\n",
              "      document.body.appendChild(div);\n",
              "\n",
              "      const buffers = [];\n",
              "      let downloaded = 0;\n",
              "\n",
              "      const channel = await google.colab.kernel.comms.open(id);\n",
              "      // Send a message to notify the kernel that we're ready.\n",
              "      channel.send({})\n",
              "\n",
              "      for await (const message of channel.messages) {\n",
              "        // Send a message to notify the kernel that we're ready.\n",
              "        channel.send({})\n",
              "        if (message.buffers) {\n",
              "          for (const buffer of message.buffers) {\n",
              "            buffers.push(buffer);\n",
              "            downloaded += buffer.byteLength;\n",
              "            progress.value = downloaded;\n",
              "          }\n",
              "        }\n",
              "      }\n",
              "      const blob = new Blob(buffers, {type: 'application/binary'});\n",
              "      const a = document.createElement('a');\n",
              "      a.href = window.URL.createObjectURL(blob);\n",
              "      a.download = filename;\n",
              "      div.appendChild(a);\n",
              "      a.click();\n",
              "      div.remove();\n",
              "    }\n",
              "  "
            ]
          },
          "metadata": {}
        },
        {
          "output_type": "display_data",
          "data": {
            "text/plain": [
              "<IPython.core.display.Javascript object>"
            ],
            "application/javascript": [
              "download(\"download_8f2cf799-7d30-4863-8f4c-8efe3fc35649\", \"files.zip\", 751918)"
            ]
          },
          "metadata": {}
        }
      ]
    }
  ],
  "metadata": {
    "kernelspec": {
      "display_name": "Python 3",
      "name": "python3"
    },
    "language_info": {
      "codemirror_mode": {
        "name": "ipython",
        "version": 3
      },
      "file_extension": ".py",
      "mimetype": "text/x-python",
      "name": "python",
      "nbconvert_exporter": "python",
      "pygments_lexer": "ipython3",
      "version": "3.10.12"
    },
    "colab": {
      "provenance": [],
      "gpuType": "T4",
      "include_colab_link": true
    },
    "accelerator": "GPU"
  },
  "nbformat": 4,
  "nbformat_minor": 0
}