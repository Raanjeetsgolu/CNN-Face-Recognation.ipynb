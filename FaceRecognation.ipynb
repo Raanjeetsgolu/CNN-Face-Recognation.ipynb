{
  "cells": [
    {
      "cell_type": "markdown",
      "metadata": {
        "id": "view-in-github",
        "colab_type": "text"
      },
      "source": [
        "<a href=\"https://colab.research.google.com/github/Raanjeetsgolu/CNN-Face-Recognation.ipynb/blob/main/FaceRecognation.ipynb\" target=\"_parent\"><img src=\"https://colab.research.google.com/assets/colab-badge.svg\" alt=\"Open In Colab\"/></a>"
      ]
    },
    {
      "cell_type": "markdown",
      "metadata": {
        "id": "dHocuVuVohbe"
      },
      "source": [
        "# 1. Setup"
      ]
    },
    {
      "cell_type": "markdown",
      "metadata": {
        "id": "ywiwKbNsohbg"
      },
      "source": [
        "## 1.1 Install Dependencies"
      ]
    },
    {
      "cell_type": "code",
      "source": [
        "#getting file\n",
        "from google.colab import drive\n",
        "drive.mount('/content/drive')"
      ],
      "metadata": {
        "id": "g75S67TFzno4",
        "colab": {
          "base_uri": "https://localhost:8080/"
        },
        "outputId": "aa3eabd5-c1e1-4fbe-f176-2f435156bc4c"
      },
      "execution_count": 4,
      "outputs": [
        {
          "output_type": "stream",
          "name": "stdout",
          "text": [
            "Mounted at /content/drive\n"
          ]
        }
      ]
    },
    {
      "cell_type": "code",
      "source": [
        "!cp -r /content/drive/MyDrive/Face-recogniation/data  /content"
      ],
      "metadata": {
        "id": "v5Y1hlwR0TJl"
      },
      "execution_count": 12,
      "outputs": []
    },
    {
      "cell_type": "code",
      "execution_count": 5,
      "metadata": {
        "colab": {
          "base_uri": "https://localhost:8080/"
        },
        "id": "lI36zj0Rohbh",
        "outputId": "7f4e294a-fa80-488a-901f-7806b4e4aee5",
        "collapsed": true
      },
      "outputs": [
        {
          "output_type": "stream",
          "name": "stdout",
          "text": [
            "Requirement already satisfied: tensorflow==2.15.0 in /usr/local/lib/python3.10/dist-packages (2.15.0)\n",
            "Requirement already satisfied: opencv-python in /usr/local/lib/python3.10/dist-packages (4.8.0.76)\n",
            "Requirement already satisfied: matplotlib in /usr/local/lib/python3.10/dist-packages (3.7.1)\n",
            "Requirement already satisfied: absl-py>=1.0.0 in /usr/local/lib/python3.10/dist-packages (from tensorflow==2.15.0) (1.4.0)\n",
            "Requirement already satisfied: astunparse>=1.6.0 in /usr/local/lib/python3.10/dist-packages (from tensorflow==2.15.0) (1.6.3)\n",
            "Requirement already satisfied: flatbuffers>=23.5.26 in /usr/local/lib/python3.10/dist-packages (from tensorflow==2.15.0) (24.3.25)\n",
            "Requirement already satisfied: gast!=0.5.0,!=0.5.1,!=0.5.2,>=0.2.1 in /usr/local/lib/python3.10/dist-packages (from tensorflow==2.15.0) (0.5.4)\n",
            "Requirement already satisfied: google-pasta>=0.1.1 in /usr/local/lib/python3.10/dist-packages (from tensorflow==2.15.0) (0.2.0)\n",
            "Requirement already satisfied: h5py>=2.9.0 in /usr/local/lib/python3.10/dist-packages (from tensorflow==2.15.0) (3.9.0)\n",
            "Requirement already satisfied: libclang>=13.0.0 in /usr/local/lib/python3.10/dist-packages (from tensorflow==2.15.0) (18.1.1)\n",
            "Requirement already satisfied: ml-dtypes~=0.2.0 in /usr/local/lib/python3.10/dist-packages (from tensorflow==2.15.0) (0.2.0)\n",
            "Requirement already satisfied: numpy<2.0.0,>=1.23.5 in /usr/local/lib/python3.10/dist-packages (from tensorflow==2.15.0) (1.25.2)\n",
            "Requirement already satisfied: opt-einsum>=2.3.2 in /usr/local/lib/python3.10/dist-packages (from tensorflow==2.15.0) (3.3.0)\n",
            "Requirement already satisfied: packaging in /usr/local/lib/python3.10/dist-packages (from tensorflow==2.15.0) (24.0)\n",
            "Requirement already satisfied: protobuf!=4.21.0,!=4.21.1,!=4.21.2,!=4.21.3,!=4.21.4,!=4.21.5,<5.0.0dev,>=3.20.3 in /usr/local/lib/python3.10/dist-packages (from tensorflow==2.15.0) (3.20.3)\n",
            "Requirement already satisfied: setuptools in /usr/local/lib/python3.10/dist-packages (from tensorflow==2.15.0) (67.7.2)\n",
            "Requirement already satisfied: six>=1.12.0 in /usr/local/lib/python3.10/dist-packages (from tensorflow==2.15.0) (1.16.0)\n",
            "Requirement already satisfied: termcolor>=1.1.0 in /usr/local/lib/python3.10/dist-packages (from tensorflow==2.15.0) (2.4.0)\n",
            "Requirement already satisfied: typing-extensions>=3.6.6 in /usr/local/lib/python3.10/dist-packages (from tensorflow==2.15.0) (4.11.0)\n",
            "Requirement already satisfied: wrapt<1.15,>=1.11.0 in /usr/local/lib/python3.10/dist-packages (from tensorflow==2.15.0) (1.14.1)\n",
            "Requirement already satisfied: tensorflow-io-gcs-filesystem>=0.23.1 in /usr/local/lib/python3.10/dist-packages (from tensorflow==2.15.0) (0.37.0)\n",
            "Requirement already satisfied: grpcio<2.0,>=1.24.3 in /usr/local/lib/python3.10/dist-packages (from tensorflow==2.15.0) (1.63.0)\n",
            "Requirement already satisfied: tensorboard<2.16,>=2.15 in /usr/local/lib/python3.10/dist-packages (from tensorflow==2.15.0) (2.15.2)\n",
            "Requirement already satisfied: tensorflow-estimator<2.16,>=2.15.0 in /usr/local/lib/python3.10/dist-packages (from tensorflow==2.15.0) (2.15.0)\n",
            "Requirement already satisfied: keras<2.16,>=2.15.0 in /usr/local/lib/python3.10/dist-packages (from tensorflow==2.15.0) (2.15.0)\n",
            "Requirement already satisfied: contourpy>=1.0.1 in /usr/local/lib/python3.10/dist-packages (from matplotlib) (1.2.1)\n",
            "Requirement already satisfied: cycler>=0.10 in /usr/local/lib/python3.10/dist-packages (from matplotlib) (0.12.1)\n",
            "Requirement already satisfied: fonttools>=4.22.0 in /usr/local/lib/python3.10/dist-packages (from matplotlib) (4.51.0)\n",
            "Requirement already satisfied: kiwisolver>=1.0.1 in /usr/local/lib/python3.10/dist-packages (from matplotlib) (1.4.5)\n",
            "Requirement already satisfied: pillow>=6.2.0 in /usr/local/lib/python3.10/dist-packages (from matplotlib) (9.4.0)\n",
            "Requirement already satisfied: pyparsing>=2.3.1 in /usr/local/lib/python3.10/dist-packages (from matplotlib) (3.1.2)\n",
            "Requirement already satisfied: python-dateutil>=2.7 in /usr/local/lib/python3.10/dist-packages (from matplotlib) (2.8.2)\n",
            "Requirement already satisfied: wheel<1.0,>=0.23.0 in /usr/local/lib/python3.10/dist-packages (from astunparse>=1.6.0->tensorflow==2.15.0) (0.43.0)\n",
            "Requirement already satisfied: google-auth<3,>=1.6.3 in /usr/local/lib/python3.10/dist-packages (from tensorboard<2.16,>=2.15->tensorflow==2.15.0) (2.27.0)\n",
            "Requirement already satisfied: google-auth-oauthlib<2,>=0.5 in /usr/local/lib/python3.10/dist-packages (from tensorboard<2.16,>=2.15->tensorflow==2.15.0) (1.2.0)\n",
            "Requirement already satisfied: markdown>=2.6.8 in /usr/local/lib/python3.10/dist-packages (from tensorboard<2.16,>=2.15->tensorflow==2.15.0) (3.6)\n",
            "Requirement already satisfied: requests<3,>=2.21.0 in /usr/local/lib/python3.10/dist-packages (from tensorboard<2.16,>=2.15->tensorflow==2.15.0) (2.31.0)\n",
            "Requirement already satisfied: tensorboard-data-server<0.8.0,>=0.7.0 in /usr/local/lib/python3.10/dist-packages (from tensorboard<2.16,>=2.15->tensorflow==2.15.0) (0.7.2)\n",
            "Requirement already satisfied: werkzeug>=1.0.1 in /usr/local/lib/python3.10/dist-packages (from tensorboard<2.16,>=2.15->tensorflow==2.15.0) (3.0.3)\n",
            "Requirement already satisfied: cachetools<6.0,>=2.0.0 in /usr/local/lib/python3.10/dist-packages (from google-auth<3,>=1.6.3->tensorboard<2.16,>=2.15->tensorflow==2.15.0) (5.3.3)\n",
            "Requirement already satisfied: pyasn1-modules>=0.2.1 in /usr/local/lib/python3.10/dist-packages (from google-auth<3,>=1.6.3->tensorboard<2.16,>=2.15->tensorflow==2.15.0) (0.4.0)\n",
            "Requirement already satisfied: rsa<5,>=3.1.4 in /usr/local/lib/python3.10/dist-packages (from google-auth<3,>=1.6.3->tensorboard<2.16,>=2.15->tensorflow==2.15.0) (4.9)\n",
            "Requirement already satisfied: requests-oauthlib>=0.7.0 in /usr/local/lib/python3.10/dist-packages (from google-auth-oauthlib<2,>=0.5->tensorboard<2.16,>=2.15->tensorflow==2.15.0) (1.3.1)\n",
            "Requirement already satisfied: charset-normalizer<4,>=2 in /usr/local/lib/python3.10/dist-packages (from requests<3,>=2.21.0->tensorboard<2.16,>=2.15->tensorflow==2.15.0) (3.3.2)\n",
            "Requirement already satisfied: idna<4,>=2.5 in /usr/local/lib/python3.10/dist-packages (from requests<3,>=2.21.0->tensorboard<2.16,>=2.15->tensorflow==2.15.0) (3.7)\n",
            "Requirement already satisfied: urllib3<3,>=1.21.1 in /usr/local/lib/python3.10/dist-packages (from requests<3,>=2.21.0->tensorboard<2.16,>=2.15->tensorflow==2.15.0) (2.0.7)\n",
            "Requirement already satisfied: certifi>=2017.4.17 in /usr/local/lib/python3.10/dist-packages (from requests<3,>=2.21.0->tensorboard<2.16,>=2.15->tensorflow==2.15.0) (2024.2.2)\n",
            "Requirement already satisfied: MarkupSafe>=2.1.1 in /usr/local/lib/python3.10/dist-packages (from werkzeug>=1.0.1->tensorboard<2.16,>=2.15->tensorflow==2.15.0) (2.1.5)\n",
            "Requirement already satisfied: pyasn1<0.7.0,>=0.4.6 in /usr/local/lib/python3.10/dist-packages (from pyasn1-modules>=0.2.1->google-auth<3,>=1.6.3->tensorboard<2.16,>=2.15->tensorflow==2.15.0) (0.6.0)\n",
            "Requirement already satisfied: oauthlib>=3.0.0 in /usr/local/lib/python3.10/dist-packages (from requests-oauthlib>=0.7.0->google-auth-oauthlib<2,>=0.5->tensorboard<2.16,>=2.15->tensorflow==2.15.0) (3.2.2)\n"
          ]
        }
      ],
      "source": [
        "#installing the opencv and tensorflow\n",
        "!pip install tensorflow==2.15.0  opencv-python matplotlib"
      ]
    },
    {
      "cell_type": "markdown",
      "metadata": {
        "id": "85YIaqdCohbh"
      },
      "source": [
        "## 1.2 Import Dependencies"
      ]
    },
    {
      "cell_type": "code",
      "execution_count": 6,
      "metadata": {
        "id": "LzdD4GwPohbi"
      },
      "outputs": [],
      "source": [
        "# Import  dependencies\n",
        "import cv2\n",
        "import os\n",
        "import random\n",
        "import numpy as np\n",
        "from matplotlib import pyplot as plt"
      ]
    },
    {
      "cell_type": "code",
      "execution_count": 7,
      "metadata": {
        "id": "hMhybhl1ohbi"
      },
      "outputs": [],
      "source": [
        "# Import tensorflow dependencies - Functional API\n",
        "from tensorflow.keras.models import Model\n",
        "from tensorflow.keras.layers import Layer, Conv2D, Dense, MaxPooling2D, Input, Flatten\n",
        "import tensorflow as tf"
      ]
    },
    {
      "cell_type": "markdown",
      "metadata": {
        "id": "Wn7hrM0dohbi"
      },
      "source": [
        "## 1.3 Set GPU Growth"
      ]
    },
    {
      "cell_type": "code",
      "execution_count": 5,
      "metadata": {
        "id": "gbRZILF1ohbi"
      },
      "outputs": [],
      "source": [
        "# Avoid OOM errors by setting GPU Memory Consumption Growth\n",
        "gpus = tf.config.experimental.list_physical_devices('GPU')\n",
        "for gpu in gpus:\n",
        "    tf.config.experimental.set_memory_growth(gpu, True)"
      ]
    },
    {
      "cell_type": "markdown",
      "metadata": {
        "id": "-LvSeGMWohbi"
      },
      "source": [
        "## 1.4 Create Folder Structures for images"
      ]
    },
    {
      "cell_type": "code",
      "execution_count": 8,
      "metadata": {
        "id": "fwW-3Endohbj"
      },
      "outputs": [],
      "source": [
        "# Setup paths\n",
        "POS_PATH = os.path.join('data', 'positive')\n",
        "NEG_PATH = os.path.join('data', 'negative')\n",
        "ANC_PATH = os.path.join('data', 'anchor')"
      ]
    },
    {
      "cell_type": "code",
      "execution_count": 9,
      "metadata": {
        "id": "4aeaTuW3ohbj"
      },
      "outputs": [],
      "source": [
        "# Make the directories to store images\n",
        "os.makedirs(POS_PATH)\n",
        "os.makedirs(NEG_PATH)\n",
        "os.makedirs(ANC_PATH)"
      ]
    },
    {
      "cell_type": "markdown",
      "metadata": {
        "id": "DjC4WdsLohbj"
      },
      "source": [
        "# 2. Downloading LFW image data and setting images in respective directory"
      ]
    },
    {
      "cell_type": "code",
      "execution_count": 10,
      "metadata": {
        "id": "qYGTEF18ohbj",
        "colab": {
          "base_uri": "https://localhost:8080/"
        },
        "outputId": "89bc194a-589f-4d3c-d195-1426a0072252"
      },
      "outputs": [
        {
          "output_type": "stream",
          "name": "stdout",
          "text": [
            "--2024-05-12 18:45:47--  http://vis-www.cs.umass.edu/lfw/lfw.tgz\n",
            "Resolving vis-www.cs.umass.edu (vis-www.cs.umass.edu)... 128.119.244.95\n",
            "Connecting to vis-www.cs.umass.edu (vis-www.cs.umass.edu)|128.119.244.95|:80... connected.\n",
            "HTTP request sent, awaiting response... 200 OK\n",
            "Length: 180566744 (172M) [application/x-gzip]\n",
            "Saving to: ‘lfw.tgz’\n",
            "\n",
            "lfw.tgz             100%[===================>] 172.20M  2.80MB/s    in 67s     \n",
            "\n",
            "2024-05-12 18:46:54 (2.58 MB/s) - ‘lfw.tgz’ saved [180566744/180566744]\n",
            "\n"
          ]
        }
      ],
      "source": [
        "#Downloading data from the Labeled Faces in the Wild  dataset\n",
        "!wget http://vis-www.cs.umass.edu/lfw/lfw.tgz"
      ]
    },
    {
      "cell_type": "code",
      "execution_count": 11,
      "metadata": {
        "id": "dwpQCr2Cohbk"
      },
      "outputs": [],
      "source": [
        "# Uncompress Tar gz  data from the Labeled Faces in the Wild  dataset that we downloaded before.\n",
        "!tar -xf lfw.tgz"
      ]
    },
    {
      "cell_type": "code",
      "execution_count": 9,
      "metadata": {
        "id": "8ID-Yzw-ohbk"
      },
      "outputs": [],
      "source": [
        "# Move LFW Images to the following repository data/negative\n",
        "for directory in os.listdir('lfw'):\n",
        "    for file in os.listdir(os.path.join('lfw', directory)):\n",
        "        EX_PATH = os.path.join('lfw', directory, file)\n",
        "        NEW_PATH = os.path.join(NEG_PATH, file)\n",
        "        os.replace(EX_PATH, NEW_PATH)"
      ]
    },
    {
      "cell_type": "markdown",
      "metadata": {
        "id": "XG-kxsyoohbk"
      },
      "source": [
        "## 2.2 Collect Positive and Anchor Classes"
      ]
    },
    {
      "cell_type": "code",
      "execution_count": 91,
      "metadata": {
        "id": "T8u8TcVCohbk"
      },
      "outputs": [],
      "source": [
        "# Import uuid library to generate unique image names\n",
        "import uuid"
      ]
    },
    {
      "cell_type": "code",
      "source": [
        "# Function to capture image and crop the image 250*250\n",
        "from IPython.display import display, Javascript\n",
        "from google.colab.output import eval_js\n",
        "from base64 import b64decode\n",
        "\n",
        "def take_photo(output_folder, quality=0.8):\n",
        "  js = Javascript('''\n",
        "    async function takePhoto(quality) {\n",
        "      const div = document.createElement('div');\n",
        "      const capture = document.createElement('button');\n",
        "      capture.textContent = 'Capture';\n",
        "      div.appendChild(capture);\n",
        "\n",
        "      const video = document.createElement('video');\n",
        "      video.style.display = 'block';\n",
        "      const stream = await navigator.mediaDevices.getUserMedia({video: true});\n",
        "\n",
        "      document.body.appendChild(div);\n",
        "      div.appendChild(video);\n",
        "      video.srcObject = stream;\n",
        "      await video.play();\n",
        "\n",
        "      // Resize the output to fit the video element.\n",
        "      google.colab.output.setIframeHeight(document.documentElement.scrollHeight, true);\n",
        "\n",
        "      // Wait for Capture to be clicked.\n",
        "      await new Promise((resolve) => capture.onclick = resolve);\n",
        "\n",
        "      const canvas = document.createElement('canvas');\n",
        "      canvas.width = video.videoWidth;\n",
        "      canvas.height = video.videoHeight;\n",
        "      canvas.getContext('2d').drawImage(video, 0, 0);\n",
        "      stream.getVideoTracks()[0].stop();\n",
        "      div.remove();\n",
        "      return canvas.toDataURL('image/jpeg', quality);\n",
        "    }\n",
        "    ''')\n",
        "  display(js)\n",
        "  data = eval_js('takePhoto({})'.format(quality))\n",
        "  # filename = str(uuid.uuid1()) + '.jpg'\n",
        "  filename = os.path.join(output_folder, '{}.jpg'.format(uuid.uuid1()))\n",
        "  binary = b64decode(data.split(',')[1])\n",
        "  with open(filename, 'wb') as f:\n",
        "    f.write(binary)\n",
        "  # return filename\n",
        "\n",
        "\n",
        "  frame = cv2.imread(filename)\n",
        "\n",
        "  # Crop the image to 250x250 pixels\n",
        "  cropped_frame = frame[120:370, 200:450, :]  # Adjust the slicing indices as needed\n",
        "\n",
        "  # Save the cropped image\n",
        "  cv2.imwrite(filename, cropped_frame)\n",
        "\n",
        "  return filename"
      ],
      "metadata": {
        "id": "huJ8rjx78zUp"
      },
      "execution_count": 92,
      "outputs": []
    },
    {
      "cell_type": "code",
      "source": [
        "from IPython.display import Image\n",
        "def saveImages(number_of_image, path_to_store):\n",
        "  for  i in range(number_of_image):\n",
        "    try:\n",
        "\n",
        "      filename = take_photo(path_to_store)\n",
        "      print('Saved to {}'.format(filename))\n",
        "\n",
        "      # Show the image which was just taken.\n",
        "      display(Image(filename))\n",
        "    except Exception as err:\n",
        "      print(str(err))\n",
        "    i +=1"
      ],
      "metadata": {
        "id": "FafYaSBq8zUy",
        "collapsed": true
      },
      "execution_count": 14,
      "outputs": []
    },
    {
      "cell_type": "code",
      "source": [
        "#Capture and store  positive images\n",
        "saveImages(50,POS_PATH)"
      ],
      "metadata": {
        "id": "fxFKxBYYjJ0r"
      },
      "execution_count": null,
      "outputs": []
    },
    {
      "cell_type": "code",
      "source": [
        "#Capture and store anchor image\n",
        "saveImages(50,ANC_PATH)"
      ],
      "metadata": {
        "id": "XJj0JalvkFtl"
      },
      "execution_count": null,
      "outputs": []
    },
    {
      "cell_type": "markdown",
      "metadata": {
        "id": "z9shoNFEohbl"
      },
      "source": [
        "# 3. Load and Preprocess Images"
      ]
    },
    {
      "cell_type": "markdown",
      "metadata": {
        "id": "gtd_gEf3ohbl"
      },
      "source": [
        "## 3.1 Getting Image Directories"
      ]
    },
    {
      "cell_type": "code",
      "execution_count": 15,
      "metadata": {
        "id": "hjOqpy8zohbl"
      },
      "outputs": [],
      "source": [
        "anchor = tf.data.Dataset.list_files(ANC_PATH+'/*.jpg').take(35)\n",
        "positive = tf.data.Dataset.list_files(POS_PATH+'/*.jpg').take(35)\n",
        "negative = tf.data.Dataset.list_files(NEG_PATH+'/*.jpg').take(35)"
      ]
    },
    {
      "cell_type": "code",
      "execution_count": 16,
      "metadata": {
        "id": "9cNPbGDDohbl"
      },
      "outputs": [],
      "source": [
        "dir_test = anchor.as_numpy_iterator()"
      ]
    },
    {
      "cell_type": "markdown",
      "metadata": {
        "id": "FEobUNCdohbl"
      },
      "source": [
        "## 3.2 Preprocessing images - Scale and Resize\n",
        "\n",
        "---\n",
        "\n"
      ]
    },
    {
      "cell_type": "code",
      "execution_count": 17,
      "metadata": {
        "id": "71BL7xlYohbm"
      },
      "outputs": [],
      "source": [
        "def preprocess(file_path):\n",
        "\n",
        "    # Read in image from file path\n",
        "    byte_img = tf.io.read_file(file_path)\n",
        "    # Load in the image\n",
        "    img = tf.io.decode_jpeg(byte_img)\n",
        "\n",
        "    # Preprocessing steps - resizing the image to be 100x100x3\n",
        "    img = tf.image.resize(img, (100,100))\n",
        "    # Scale image to be between 0 and 1\n",
        "    img = img / 255.0\n",
        "\n",
        "    # Return image\n",
        "    return img"
      ]
    },
    {
      "cell_type": "code",
      "execution_count": 19,
      "metadata": {
        "scrolled": true,
        "tags": [],
        "id": "Flg8h_kaohbm"
      },
      "outputs": [],
      "source": [
        "#for a example\n",
        "img = preprocess('/content/data/anchor/1c3fa7bc-f05f-11ee-b446-0242ac1c000c.jpg')"
      ]
    },
    {
      "cell_type": "code",
      "source": [
        "plt.imshow(img)"
      ],
      "metadata": {
        "id": "Qqmg1ugZNmuC"
      },
      "execution_count": null,
      "outputs": []
    },
    {
      "cell_type": "markdown",
      "metadata": {
        "id": "0qtvZo7hohbm"
      },
      "source": [
        "## 3.3 Create Labelled Dataset"
      ]
    },
    {
      "cell_type": "code",
      "execution_count": null,
      "metadata": {
        "id": "TJujdIW8ohbp"
      },
      "outputs": [],
      "source": [
        "# (anchor, positive) => 1,1,1,1,1\n",
        "# (anchor, negative) => 0,0,0,0,0"
      ]
    },
    {
      "cell_type": "code",
      "execution_count": 20,
      "metadata": {
        "id": "kGgAvZVvohbp"
      },
      "outputs": [],
      "source": [
        "positives = tf.data.Dataset.zip((anchor, positive, tf.data.Dataset.from_tensor_slices(tf.ones(len(anchor)))))\n",
        "negatives = tf.data.Dataset.zip((anchor, negative, tf.data.Dataset.from_tensor_slices(tf.zeros(len(anchor)))))\n",
        "data = positives.concatenate(negatives)"
      ]
    },
    {
      "cell_type": "code",
      "source": [
        "data"
      ],
      "metadata": {
        "colab": {
          "base_uri": "https://localhost:8080/"
        },
        "id": "CB8loAnrO0u6",
        "outputId": "94cf581c-a720-4ced-d13f-98d523755e5d"
      },
      "execution_count": 21,
      "outputs": [
        {
          "output_type": "execute_result",
          "data": {
            "text/plain": [
              "<_ConcatenateDataset element_spec=(TensorSpec(shape=(), dtype=tf.string, name=None), TensorSpec(shape=(), dtype=tf.string, name=None), TensorSpec(shape=(), dtype=tf.float32, name=None))>"
            ]
          },
          "metadata": {},
          "execution_count": 21
        }
      ]
    },
    {
      "cell_type": "code",
      "execution_count": 22,
      "metadata": {
        "id": "jxiFeHWpohbp"
      },
      "outputs": [],
      "source": [
        "#one sample of our data\n",
        "samples = data.as_numpy_iterator()"
      ]
    },
    {
      "cell_type": "code",
      "execution_count": 23,
      "metadata": {
        "id": "Nf7gEXZLohbp"
      },
      "outputs": [],
      "source": [
        "example = samples.next()"
      ]
    },
    {
      "cell_type": "code",
      "execution_count": 24,
      "metadata": {
        "tags": [],
        "id": "5SKFuhK1ohbq",
        "colab": {
          "base_uri": "https://localhost:8080/"
        },
        "outputId": "bc58dcec-311c-4cf5-eddf-3750a8a3c2f9"
      },
      "outputs": [
        {
          "output_type": "execute_result",
          "data": {
            "text/plain": [
              "(b'data/anchor/be8c376c-f05d-11ee-b446-0242ac1c000c.jpg',\n",
              " b'data/positive/59ea1ee4-f433-11ee-ba4e-0242ac1c000c.jpg',\n",
              " 1.0)"
            ]
          },
          "metadata": {},
          "execution_count": 24
        }
      ],
      "source": [
        "example"
      ]
    },
    {
      "cell_type": "markdown",
      "metadata": {
        "id": "7HwWhwjAohbq"
      },
      "source": [
        "## 3.4 Build Train and Test Partition"
      ]
    },
    {
      "cell_type": "code",
      "execution_count": 25,
      "metadata": {
        "id": "wHjMMqgCohbq"
      },
      "outputs": [],
      "source": [
        "def preprocess_twin(input_img, validation_img, label):\n",
        "    return(preprocess(input_img), preprocess(validation_img), label)"
      ]
    },
    {
      "cell_type": "code",
      "execution_count": 26,
      "metadata": {
        "id": "Q5DQV8wcohbq"
      },
      "outputs": [],
      "source": [
        "res = preprocess_twin(*example)"
      ]
    },
    {
      "cell_type": "code",
      "execution_count": 27,
      "metadata": {
        "id": "7HmF-eFIohbq",
        "colab": {
          "base_uri": "https://localhost:8080/",
          "height": 451
        },
        "outputId": "04d797e9-9515-459b-d37b-a92c6579fbe1",
        "collapsed": true
      },
      "outputs": [
        {
          "output_type": "execute_result",
          "data": {
            "text/plain": [
              "<matplotlib.image.AxesImage at 0x7db8f4f33eb0>"
            ]
          },
          "metadata": {},
          "execution_count": 27
        },
        {
          "output_type": "display_data",
          "data": {
            "text/plain": [
              "<Figure size 640x480 with 1 Axes>"
            ],
            "image/png": "[encoded data removed]"
          },
          "metadata": {}
        }
      ],
      "source": [
        "plt.imshow(res[0])"
      ]
    },
    {
      "cell_type": "code",
      "execution_count": 45,
      "metadata": {
        "id": "mJMgQkFpohbq",
        "outputId": "91b290d3-0ee0-4fc2-c9f6-559035c71241",
        "colab": {
          "base_uri": "https://localhost:8080/"
        }
      },
      "outputs": [
        {
          "output_type": "execute_result",
          "data": {
            "text/plain": [
              "1.0"
            ]
          },
          "metadata": {},
          "execution_count": 45
        }
      ],
      "source": [
        "res[2]"
      ]
    },
    {
      "cell_type": "code",
      "execution_count": 28,
      "metadata": {
        "id": "XY3cKAwrohbq"
      },
      "outputs": [],
      "source": [
        "# Build dataloader pipeline\n",
        "data = data.map(preprocess_twin)\n",
        "data = data.cache()\n",
        "data = data.shuffle(buffer_size=10000)"
      ]
    },
    {
      "cell_type": "code",
      "execution_count": 29,
      "metadata": {
        "id": "jx_vFL4Qohbq"
      },
      "outputs": [],
      "source": [
        "# Training partition\n",
        "train_data = data.take(round(len(data)*.7))\n",
        "train_data = train_data.batch(16)\n",
        "train_data = train_data.prefetch(8)"
      ]
    },
    {
      "cell_type": "code",
      "execution_count": 30,
      "metadata": {
        "id": "vYzpZorWohbq"
      },
      "outputs": [],
      "source": [
        "# Testing partition\n",
        "test_data = data.skip(round(len(data)*.7))\n",
        "test_data = test_data.take(round(len(data)*.3))\n",
        "test_data = test_data.batch(10)\n",
        "test_data = test_data.prefetch(5)"
      ]
    },
    {
      "cell_type": "markdown",
      "metadata": {
        "id": "DIP5MiQjohbq"
      },
      "source": [
        "# 4. Model Engineering"
      ]
    },
    {
      "cell_type": "markdown",
      "metadata": {
        "id": "8SrfLnlCohbr"
      },
      "source": [
        "## 4.1 Build Embedding Layer"
      ]
    },
    {
      "cell_type": "code",
      "execution_count": 31,
      "metadata": {
        "id": "qMlRPuOrohbr"
      },
      "outputs": [],
      "source": [
        "def make_embedding():\n",
        "    inp = Input(shape=(100,100,3), name='input_image')\n",
        "\n",
        "    # First block\n",
        "    c1 = Conv2D(64, (10,10), activation='relu')(inp)\n",
        "    m1 = MaxPooling2D(64, (2,2), padding='same')(c1)\n",
        "\n",
        "    # Second block\n",
        "    c2 = Conv2D(128, (7,7), activation='relu')(m1)\n",
        "    m2 = MaxPooling2D(64, (2,2), padding='same')(c2)\n",
        "\n",
        "    # Third block\n",
        "    c3 = Conv2D(128, (4,4), activation='relu')(m2)\n",
        "    m3 = MaxPooling2D(64, (2,2), padding='same')(c3)\n",
        "\n",
        "    # Final embedding block\n",
        "    c4 = Conv2D(256, (4,4), activation='relu')(m3)\n",
        "    f1 = Flatten()(c4)\n",
        "    d1 = Dense(4096, activation='sigmoid')(f1)\n",
        "\n",
        "\n",
        "    return Model(inputs=[inp], outputs=[d1], name='embedding')"
      ]
    },
    {
      "cell_type": "code",
      "execution_count": 32,
      "metadata": {
        "id": "lVLceyaNohbs"
      },
      "outputs": [],
      "source": [
        "embedding = make_embedding()"
      ]
    },
    {
      "cell_type": "code",
      "execution_count": 33,
      "metadata": {
        "id": "Mf7mWFEUohbs",
        "colab": {
          "base_uri": "https://localhost:8080/"
        },
        "outputId": "42555760-bcc5-4998-ae3b-c8881f4800a5",
        "collapsed": true
      },
      "outputs": [
        {
          "output_type": "stream",
          "name": "stdout",
          "text": [
            "Model: \"embedding\"\n",
            "_________________________________________________________________\n",
            " Layer (type)                Output Shape              Param #   \n",
            "=================================================================\n",
            " input_image (InputLayer)    [(None, 100, 100, 3)]     0         \n",
            "                                                                 \n",
            " conv2d (Conv2D)             (None, 91, 91, 64)        19264     \n",
            "                                                                 \n",
            " max_pooling2d (MaxPooling2  (None, 46, 46, 64)        0         \n",
            " D)                                                              \n",
            "                                                                 \n",
            " conv2d_1 (Conv2D)           (None, 40, 40, 128)       401536    \n",
            "                                                                 \n",
            " max_pooling2d_1 (MaxPoolin  (None, 20, 20, 128)       0         \n",
            " g2D)                                                            \n",
            "                                                                 \n",
            " conv2d_2 (Conv2D)           (None, 17, 17, 128)       262272    \n",
            "                                                                 \n",
            " max_pooling2d_2 (MaxPoolin  (None, 9, 9, 128)         0         \n",
            " g2D)                                                            \n",
            "                                                                 \n",
            " conv2d_3 (Conv2D)           (None, 6, 6, 256)         524544    \n",
            "                                                                 \n",
            " flatten (Flatten)           (None, 9216)              0         \n",
            "                                                                 \n",
            " dense (Dense)               (None, 4096)              37752832  \n",
            "                                                                 \n",
            "=================================================================\n",
            "Total params: 38960448 (148.62 MB)\n",
            "Trainable params: 38960448 (148.62 MB)\n",
            "Non-trainable params: 0 (0.00 Byte)\n",
            "_________________________________________________________________\n"
          ]
        }
      ],
      "source": [
        "embedding.summary()"
      ]
    },
    {
      "cell_type": "markdown",
      "metadata": {
        "id": "o8j1Pk7Pohbs"
      },
      "source": [
        "## 4.2 Build Distance Layer"
      ]
    },
    {
      "cell_type": "code",
      "execution_count": 34,
      "metadata": {
        "id": "UnzNTYlMohbs"
      },
      "outputs": [],
      "source": [
        "# Siamese L1 Distance class\n",
        "class L1Dist(Layer):\n",
        "\n",
        "    # Init method - inheritance\n",
        "    def __init__(self, **kwargs):\n",
        "        super().__init__()\n",
        "\n",
        "    # calculating similarity\n",
        "    def call(self, input_embedding, validation_embedding):\n",
        "        return tf.math.abs(input_embedding - validation_embedding)"
      ]
    },
    {
      "cell_type": "code",
      "execution_count": 79,
      "metadata": {
        "id": "Xh_OF1R8ohbs"
      },
      "outputs": [],
      "source": [
        "l1 = L1Dist()"
      ]
    },
    {
      "cell_type": "code",
      "source": [
        "l1"
      ],
      "metadata": {
        "colab": {
          "base_uri": "https://localhost:8080/"
        },
        "id": "XCQmQNbOUKvC",
        "outputId": "2bfea86a-262f-4e20-853b-a353bdb3f47d"
      },
      "execution_count": 80,
      "outputs": [
        {
          "output_type": "execute_result",
          "data": {
            "text/plain": [
              "<__main__.L1Dist at 0x7db8ece26bf0>"
            ]
          },
          "metadata": {},
          "execution_count": 80
        }
      ]
    },
    {
      "cell_type": "markdown",
      "metadata": {
        "id": "Yzly7jTzohbs"
      },
      "source": [
        "## 4.3 Make Siamese Model"
      ]
    },
    {
      "cell_type": "code",
      "execution_count": 37,
      "metadata": {
        "id": "t6eHx3Kcohbt"
      },
      "outputs": [],
      "source": [
        "def make_siamese_model():\n",
        "\n",
        "    # Anchor image input in the network\n",
        "    input_image = Input(name='input_img', shape=(100,100,3))\n",
        "\n",
        "    # Validation image in the network\n",
        "    validation_image = Input(name='validation_img', shape=(100,100,3))\n",
        "\n",
        "    # Combine siamese distance components\n",
        "    siamese_layer = L1Dist()\n",
        "    siamese_layer._name = 'distance'\n",
        "    distances = siamese_layer(embedding(input_image), embedding(validation_image))\n",
        "\n",
        "    # Classification layer\n",
        "    classifier = Dense(1, activation='sigmoid')(distances)\n",
        "\n",
        "    return Model(inputs=[input_image, validation_image], outputs=classifier, name='SiameseNetwork')"
      ]
    },
    {
      "cell_type": "code",
      "execution_count": 38,
      "metadata": {
        "id": "5EXib3Coohbt"
      },
      "outputs": [],
      "source": [
        "siamese_model = make_siamese_model()"
      ]
    },
    {
      "cell_type": "code",
      "execution_count": 39,
      "metadata": {
        "tags": [],
        "id": "j-4XjOneohbt",
        "colab": {
          "base_uri": "https://localhost:8080/"
        },
        "outputId": "f774a94b-efbb-46d3-b9d6-eaa1e23ce78c",
        "collapsed": true
      },
      "outputs": [
        {
          "output_type": "stream",
          "name": "stdout",
          "text": [
            "Model: \"SiameseNetwork\"\n",
            "__________________________________________________________________________________________________\n",
            " Layer (type)                Output Shape                 Param #   Connected to                  \n",
            "==================================================================================================\n",
            " input_img (InputLayer)      [(None, 100, 100, 3)]        0         []                            \n",
            "                                                                                                  \n",
            " validation_img (InputLayer  [(None, 100, 100, 3)]        0         []                            \n",
            " )                                                                                                \n",
            "                                                                                                  \n",
            " embedding (Functional)      (None, 4096)                 3896044   ['input_img[0][0]',           \n",
            "                                                          8          'validation_img[0][0]']      \n",
            "                                                                                                  \n",
            " distance (L1Dist)           (None, 4096)                 0         ['embedding[0][0]',           \n",
            "                                                                     'embedding[1][0]']           \n",
            "                                                                                                  \n",
            " dense_1 (Dense)             (None, 1)                    4097      ['distance[0][0]']            \n",
            "                                                                                                  \n",
            "==================================================================================================\n",
            "Total params: 38964545 (148.64 MB)\n",
            "Trainable params: 38964545 (148.64 MB)\n",
            "Non-trainable params: 0 (0.00 Byte)\n",
            "__________________________________________________________________________________________________\n"
          ]
        }
      ],
      "source": [
        "siamese_model.summary()"
      ]
    },
    {
      "cell_type": "markdown",
      "metadata": {
        "id": "Fbf1M0baohbt"
      },
      "source": [
        "# 5. Training"
      ]
    },
    {
      "cell_type": "markdown",
      "metadata": {
        "id": "vq-_rEZNohbt"
      },
      "source": [
        "## 5.1 Setup Loss and Optimizer"
      ]
    },
    {
      "cell_type": "code",
      "execution_count": 40,
      "metadata": {
        "id": "JszwqAYfohbt"
      },
      "outputs": [],
      "source": [
        "binary_cross_loss = tf.losses.BinaryCrossentropy()"
      ]
    },
    {
      "cell_type": "code",
      "execution_count": 41,
      "metadata": {
        "id": "WKlz-jExohbu"
      },
      "outputs": [],
      "source": [
        "opt = tf.keras.optimizers.Adam(1e-4) # 0.0001"
      ]
    },
    {
      "cell_type": "markdown",
      "metadata": {
        "id": "2XruuRC0ohbu"
      },
      "source": [
        "## 5.2 Establish Checkpoints"
      ]
    },
    {
      "cell_type": "code",
      "source": [
        "# creating a directory\n",
        "!mkdir 'training_checkpoints'"
      ],
      "metadata": {
        "id": "W3-DqDcTEuNe"
      },
      "execution_count": 42,
      "outputs": []
    },
    {
      "cell_type": "code",
      "execution_count": 43,
      "metadata": {
        "id": "6cqeHEeLohbu"
      },
      "outputs": [],
      "source": [
        "checkpoint_dir = '/content/training_checkpoints'\n",
        "checkpoint_prefix = os.path.join(checkpoint_dir, 'ckpt')\n",
        "checkpoint = tf.train.Checkpoint(opt=opt, siamese_model=siamese_model)"
      ]
    },
    {
      "cell_type": "markdown",
      "metadata": {
        "id": "kUD291ZLohbu"
      },
      "source": [
        "## 5.3 Build Train Step Function"
      ]
    },
    {
      "cell_type": "code",
      "execution_count": 44,
      "metadata": {
        "tags": [],
        "id": "acdsvHdDohbu"
      },
      "outputs": [],
      "source": [
        "@tf.function\n",
        "def train_step(batch):\n",
        "\n",
        "    # Record all of our operations\n",
        "    with tf.GradientTape() as tape:\n",
        "        # Get anchor and positive/negative image\n",
        "        X = batch[:2]\n",
        "        # Get label\n",
        "        y = batch[2]\n",
        "\n",
        "        # Forward pass\n",
        "        yhat = siamese_model(X, training=True)\n",
        "        # Calculate loss\n",
        "        loss = binary_cross_loss(y, yhat)\n",
        "    print(loss)\n",
        "\n",
        "    # Calculate gradients\n",
        "    grad = tape.gradient(loss, siamese_model.trainable_variables)\n",
        "\n",
        "    # Calculate updated weights and apply to siamese model\n",
        "    opt.apply_gradients(zip(grad, siamese_model.trainable_variables))\n",
        "\n",
        "    # Return loss\n",
        "    return loss"
      ]
    },
    {
      "cell_type": "markdown",
      "metadata": {
        "id": "FZbhic3eohbu"
      },
      "source": [
        "## 5.4 Build Training Loop"
      ]
    },
    {
      "cell_type": "code",
      "execution_count": 45,
      "metadata": {
        "id": "qc60787Johbu"
      },
      "outputs": [],
      "source": [
        "# Import metric calculations\n",
        "from tensorflow.keras.metrics import Precision, Recall"
      ]
    },
    {
      "cell_type": "code",
      "execution_count": 46,
      "metadata": {
        "id": "63vrFSWmohbv"
      },
      "outputs": [],
      "source": [
        "def train(data, EPOCHS):\n",
        "    # Loop through epochs\n",
        "    for epoch in range(1, EPOCHS+1):\n",
        "        print('\\n Epoch {}/{}'.format(epoch, EPOCHS))\n",
        "        progbar = tf.keras.utils.Progbar(len(data))\n",
        "\n",
        "        # Creating a metric object\n",
        "        r = Recall()\n",
        "        p = Precision()\n",
        "\n",
        "        # Loop through each batch\n",
        "        for idx, batch in enumerate(data):\n",
        "            # Run train step here\n",
        "            loss = train_step(batch)\n",
        "            yhat = siamese_model.predict(batch[:2])\n",
        "            r.update_state(batch[2], yhat)\n",
        "            p.update_state(batch[2], yhat)\n",
        "            progbar.update(idx+1)\n",
        "        print(loss.numpy(), r.result().numpy(), p.result().numpy())\n",
        "\n",
        "        # Save checkpoints\n",
        "        if epoch % 10 == 0:\n",
        "            checkpoint.save(file_prefix=checkpoint_prefix)"
      ]
    },
    {
      "cell_type": "markdown",
      "metadata": {
        "id": "c8fsVvLoohbv"
      },
      "source": [
        "## 5.5 Train the model"
      ]
    },
    {
      "cell_type": "code",
      "execution_count": 47,
      "metadata": {
        "id": "DVPgyNl3ohbv"
      },
      "outputs": [],
      "source": [
        "EPOCHS = 28"
      ]
    },
    {
      "cell_type": "code",
      "execution_count": 48,
      "metadata": {
        "scrolled": true,
        "tags": [],
        "id": "06NLz53fohbv",
        "colab": {
          "base_uri": "https://localhost:8080/"
        },
        "outputId": "ae2b141c-052f-4475-83c2-7bd8a843d7bc",
        "collapsed": true
      },
      "outputs": [
        {
          "output_type": "stream",
          "name": "stdout",
          "text": [
            "\n",
            " Epoch 1/28\n",
            "Tensor(\"binary_crossentropy/weighted_loss/value:0\", shape=(), dtype=float32)\n",
            "Tensor(\"binary_crossentropy/weighted_loss/value:0\", shape=(), dtype=float32)\n",
            "1/1 [==============================] - 4s 4s/step\n",
            "1/1 [==============================] - 3s 3s/step\n",
            "1/1 [==============================] - 8s 8s/step\n",
            "3/4 [=====================>........] - ETA: 49s Tensor(\"binary_crossentropy/weighted_loss/value:0\", shape=(), dtype=float32)\n",
            "1/1 [==============================] - 0s 270ms/step\n",
            "4/4 [==============================] - 153s 34s/step\n",
            "0.68080974 0.8076923 1.0\n",
            "\n",
            " Epoch 2/28\n",
            "1/1 [==============================] - 5s 5s/step\n",
            "1/1 [==============================] - 3s 3s/step\n",
            "1/1 [==============================] - 3s 3s/step\n",
            "1/1 [==============================] - 0s 238ms/step\n",
            "4/4 [==============================] - 139s 31s/step\n",
            "0.68297756 1.0 1.0\n",
            "\n",
            " Epoch 3/28\n",
            "1/1 [==============================] - 3s 3s/step\n",
            "1/1 [==============================] - 5s 5s/step\n",
            "1/1 [==============================] - 3s 3s/step\n",
            "1/1 [==============================] - 0s 319ms/step\n",
            "4/4 [==============================] - 141s 32s/step\n",
            "0.59179944 0.92 1.0\n",
            "\n",
            " Epoch 4/28\n",
            "1/1 [==============================] - 4s 4s/step\n",
            "1/1 [==============================] - 3s 3s/step\n",
            "1/1 [==============================] - 3s 3s/step\n",
            "1/1 [==============================] - 0s 271ms/step\n",
            "4/4 [==============================] - 139s 31s/step\n",
            "0.14601417 0.9130435 1.0\n",
            "\n",
            " Epoch 5/28\n",
            "1/1 [==============================] - 4s 4s/step\n",
            "1/1 [==============================] - 3s 3s/step\n",
            "1/1 [==============================] - 5s 5s/step\n",
            "1/1 [==============================] - 0s 259ms/step\n",
            "4/4 [==============================] - 142s 33s/step\n",
            "0.033441395 0.9 1.0\n",
            "\n",
            " Epoch 6/28\n",
            "1/1 [==============================] - 4s 4s/step\n",
            "1/1 [==============================] - 3s 3s/step\n",
            "1/1 [==============================] - 3s 3s/step\n",
            "1/1 [==============================] - 0s 257ms/step\n",
            "4/4 [==============================] - 137s 31s/step\n",
            "0.055731766 0.9285714 1.0\n",
            "\n",
            " Epoch 7/28\n",
            "1/1 [==============================] - 4s 4s/step\n",
            "1/1 [==============================] - 3s 3s/step\n",
            "1/1 [==============================] - 3s 3s/step\n",
            "1/1 [==============================] - 0s 407ms/step\n",
            "4/4 [==============================] - 139s 32s/step\n",
            "0.033060398 1.0 0.95652175\n",
            "\n",
            " Epoch 8/28\n",
            "1/1 [==============================] - 3s 3s/step\n",
            "1/1 [==============================] - 4s 4s/step\n",
            "1/1 [==============================] - 3s 3s/step\n",
            "1/1 [==============================] - 0s 235ms/step\n",
            "4/4 [==============================] - 141s 32s/step\n",
            "0.07775123 0.9583333 1.0\n",
            "\n",
            " Epoch 9/28\n",
            "1/1 [==============================] - 5s 5s/step\n",
            "1/1 [==============================] - 3s 3s/step\n",
            "1/1 [==============================] - 4s 4s/step\n",
            "1/1 [==============================] - 0s 459ms/step\n",
            "4/4 [==============================] - 135s 30s/step\n",
            "0.11901586 0.9583333 1.0\n",
            "\n",
            " Epoch 10/28\n",
            "1/1 [==============================] - 5s 5s/step\n",
            "1/1 [==============================] - 3s 3s/step\n",
            "1/1 [==============================] - 4s 4s/step\n",
            "1/1 [==============================] - 0s 256ms/step\n",
            "4/4 [==============================] - 139s 30s/step\n",
            "0.07976418 1.0 1.0\n",
            "\n",
            " Epoch 11/28\n",
            "1/1 [==============================] - 5s 5s/step\n",
            "1/1 [==============================] - 4s 4s/step\n",
            "1/1 [==============================] - 5s 5s/step\n",
            "1/1 [==============================] - 0s 255ms/step\n",
            "4/4 [==============================] - 139s 31s/step\n",
            "0.017768068 0.9583333 1.0\n",
            "\n",
            " Epoch 12/28\n",
            "1/1 [==============================] - 3s 3s/step\n",
            "1/1 [==============================] - 5s 5s/step\n",
            "1/1 [==============================] - 3s 3s/step\n",
            "1/1 [==============================] - 0s 247ms/step\n",
            "4/4 [==============================] - 132s 30s/step\n",
            "0.0013118642 1.0 1.0\n",
            "\n",
            " Epoch 13/28\n",
            "1/1 [==============================] - 4s 4s/step\n",
            "1/1 [==============================] - 3s 3s/step\n",
            "1/1 [==============================] - 5s 5s/step\n",
            "1/1 [==============================] - 0s 258ms/step\n",
            "4/4 [==============================] - 144s 32s/step\n",
            "0.0022381537 1.0 1.0\n",
            "\n",
            " Epoch 14/28\n",
            "1/1 [==============================] - 3s 3s/step\n",
            "1/1 [==============================] - 3s 3s/step\n",
            "1/1 [==============================] - 3s 3s/step\n",
            "1/1 [==============================] - 0s 427ms/step\n",
            "4/4 [==============================] - 143s 33s/step\n",
            "0.0013575824 1.0 1.0\n",
            "\n",
            " Epoch 15/28\n",
            "1/1 [==============================] - 3s 3s/step\n",
            "1/1 [==============================] - 4s 4s/step\n",
            "1/1 [==============================] - 3s 3s/step\n",
            "1/1 [==============================] - 0s 448ms/step\n",
            "4/4 [==============================] - 136s 31s/step\n",
            "4.4406446e-05 1.0 1.0\n",
            "\n",
            " Epoch 16/28\n",
            "1/1 [==============================] - 3s 3s/step\n",
            "1/1 [==============================] - 5s 5s/step\n",
            "1/1 [==============================] - 3s 3s/step\n",
            "1/1 [==============================] - 0s 261ms/step\n",
            "4/4 [==============================] - 139s 30s/step\n",
            "1.3530346e-05 1.0 1.0\n",
            "\n",
            " Epoch 17/28\n",
            "1/1 [==============================] - 5s 5s/step\n",
            "1/1 [==============================] - 3s 3s/step\n",
            "1/1 [==============================] - 4s 4s/step\n",
            "1/1 [==============================] - 0s 238ms/step\n",
            "4/4 [==============================] - 141s 32s/step\n",
            "0.00013453673 1.0 1.0\n",
            "\n",
            " Epoch 18/28\n",
            "1/1 [==============================] - 4s 4s/step\n",
            "1/1 [==============================] - 3s 3s/step\n",
            "1/1 [==============================] - 4s 4s/step\n",
            "1/1 [==============================] - 0s 251ms/step\n",
            "4/4 [==============================] - 142s 33s/step\n",
            "7.421053e-05 1.0 1.0\n",
            "\n",
            " Epoch 19/28\n",
            "1/1 [==============================] - 3s 3s/step\n",
            "1/1 [==============================] - 3s 3s/step\n",
            "1/1 [==============================] - 3s 3s/step\n",
            "1/1 [==============================] - 0s 432ms/step\n",
            "4/4 [==============================] - 137s 31s/step\n",
            "1.6093267e-06 1.0 1.0\n",
            "\n",
            " Epoch 20/28\n",
            "1/1 [==============================] - 3s 3s/step\n",
            "1/1 [==============================] - 5s 5s/step\n",
            "1/1 [==============================] - 3s 3s/step\n",
            "1/1 [==============================] - 0s 383ms/step\n",
            "4/4 [==============================] - 141s 32s/step\n",
            "7.1525596e-07 1.0 1.0\n",
            "\n",
            " Epoch 21/28\n",
            "1/1 [==============================] - 3s 3s/step\n",
            "1/1 [==============================] - 5s 5s/step\n",
            "1/1 [==============================] - 3s 3s/step\n",
            "1/1 [==============================] - 0s 419ms/step\n",
            "4/4 [==============================] - 143s 32s/step\n",
            "6.556513e-07 1.0 1.0\n",
            "\n",
            " Epoch 22/28\n",
            "1/1 [==============================] - 3s 3s/step\n",
            "1/1 [==============================] - 5s 5s/step\n",
            "1/1 [==============================] - 3s 3s/step\n",
            "1/1 [==============================] - 0s 474ms/step\n",
            "4/4 [==============================] - 137s 31s/step\n",
            "0.0045781466 1.0 1.0\n",
            "\n",
            " Epoch 23/28\n",
            "1/1 [==============================] - 3s 3s/step\n",
            "1/1 [==============================] - 4s 4s/step\n",
            "1/1 [==============================] - 3s 3s/step\n",
            "1/1 [==============================] - 0s 261ms/step\n",
            "4/4 [==============================] - 135s 31s/step\n",
            "1.2755475e-05 1.0 1.0\n",
            "\n",
            " Epoch 24/28\n",
            "1/1 [==============================] - 5s 5s/step\n",
            "1/1 [==============================] - 3s 3s/step\n",
            "1/1 [==============================] - 4s 4s/step\n",
            "1/1 [==============================] - 0s 313ms/step\n",
            "4/4 [==============================] - 141s 32s/step\n",
            "2.1457695e-06 1.0 1.0\n",
            "\n",
            " Epoch 25/28\n",
            "1/1 [==============================] - 3s 3s/step\n",
            "1/1 [==============================] - 3s 3s/step\n",
            "1/1 [==============================] - 4s 4s/step\n",
            "1/1 [==============================] - 0s 273ms/step\n",
            "4/4 [==============================] - 142s 32s/step\n",
            "-0.0 1.0 1.0\n",
            "\n",
            " Epoch 26/28\n",
            "1/1 [==============================] - 3s 3s/step\n",
            "1/1 [==============================] - 5s 5s/step\n",
            "1/1 [==============================] - 3s 3s/step\n",
            "1/1 [==============================] - 0s 257ms/step\n",
            "4/4 [==============================] - 133s 30s/step\n",
            "-0.0 1.0 1.0\n",
            "\n",
            " Epoch 27/28\n",
            "1/1 [==============================] - 3s 3s/step\n",
            "1/1 [==============================] - 3s 3s/step\n",
            "1/1 [==============================] - 3s 3s/step\n",
            "1/1 [==============================] - 0s 253ms/step\n",
            "4/4 [==============================] - 141s 31s/step\n",
            "-0.0 1.0 1.0\n",
            "\n",
            " Epoch 28/28\n",
            "1/1 [==============================] - 3s 3s/step\n",
            "1/1 [==============================] - 5s 5s/step\n",
            "1/1 [==============================] - 3s 3s/step\n",
            "1/1 [==============================] - 0s 420ms/step\n",
            "4/4 [==============================] - 141s 33s/step\n",
            "5.9604645e-08 1.0 1.0\n"
          ]
        }
      ],
      "source": [
        "train(train_data, EPOCHS)"
      ]
    },
    {
      "cell_type": "markdown",
      "metadata": {
        "tags": [],
        "id": "wvfT_R_zohbv"
      },
      "source": [
        "# 6. Evaluate Model"
      ]
    },
    {
      "cell_type": "markdown",
      "metadata": {
        "id": "6dD5J1RGohbv"
      },
      "source": [
        "## 6.1 Import Metrics"
      ]
    },
    {
      "cell_type": "code",
      "execution_count": 49,
      "metadata": {
        "id": "AaA8nr5fohbv"
      },
      "outputs": [],
      "source": [
        "# Import metric calculations\n",
        "from tensorflow.keras.metrics import Precision, Recall"
      ]
    },
    {
      "cell_type": "markdown",
      "metadata": {
        "id": "PnZg1l3Nohbv"
      },
      "source": [
        "## 6.2 Make Predictions"
      ]
    },
    {
      "cell_type": "code",
      "execution_count": 66,
      "metadata": {
        "id": "S28373nCohbv"
      },
      "outputs": [],
      "source": [
        "# Get a batch of test data\n",
        "test_input, test_val, y_true = test_data.as_numpy_iterator().next()"
      ]
    },
    {
      "cell_type": "code",
      "source": [
        "test_input"
      ],
      "metadata": {
        "colab": {
          "base_uri": "https://localhost:8080/"
        },
        "id": "O8dNL3uKyhTj",
        "outputId": "8c4a3906-f428-4651-a92b-f46e975ad19e",
        "collapsed": true
      },
      "execution_count": 67,
      "outputs": [
        {
          "output_type": "execute_result",
          "data": {
            "text/plain": [
              "array([[[[1.        , 1.        , 0.8257353 ],\n",
              "         [0.9796569 , 0.98357844, 0.83112746],\n",
              "         [0.7316176 , 0.7289216 , 0.6389706 ],\n",
              "         ...,\n",
              "         [0.65392154, 0.5127451 , 0.34901962],\n",
              "         [0.65686274, 0.50392157, 0.34313726],\n",
              "         [0.65612745, 0.5110294 , 0.34632352]],\n",
              "\n",
              "        [[1.        , 1.        , 0.8487745 ],\n",
              "         [0.97132355, 0.9703431 , 0.839951  ],\n",
              "         [0.58455884, 0.57965684, 0.4987745 ],\n",
              "         ...,\n",
              "         [0.6911765 , 0.5441176 , 0.37892157],\n",
              "         [0.6767157 , 0.5237745 , 0.3629902 ],\n",
              "         [0.67156863, 0.5264706 , 0.3617647 ]],\n",
              "\n",
              "        [[0.9997549 , 0.9997549 , 0.8727941 ],\n",
              "         [0.8723039 , 0.86740196, 0.7625    ],\n",
              "         [0.45931372, 0.44607842, 0.39142156],\n",
              "         ...,\n",
              "         [0.69411767, 0.5470588 , 0.3759804 ],\n",
              "         [0.6840686 , 0.5355392 , 0.37107843],\n",
              "         [0.67009807, 0.5264706 , 0.3617647 ]],\n",
              "\n",
              "        ...,\n",
              "\n",
              "        [[0.70906866, 0.6012255 , 0.43357843],\n",
              "         [0.71666664, 0.60882354, 0.4377451 ],\n",
              "         [0.7115196 , 0.6036765 , 0.42818627],\n",
              "         ...,\n",
              "         [0.62647057, 0.50490195, 0.32647058],\n",
              "         [0.62941176, 0.5034314 , 0.3257353 ],\n",
              "         [0.63529414, 0.5137255 , 0.3392157 ]],\n",
              "\n",
              "        [[0.70980394, 0.59607846, 0.4254902 ],\n",
              "         [0.7144608 , 0.6007353 , 0.42818627],\n",
              "         [0.71887255, 0.60514706, 0.43259802],\n",
              "         ...,\n",
              "         [0.6191176 , 0.5012255 , 0.33529413],\n",
              "         [0.6257353 , 0.5012255 , 0.3375    ],\n",
              "         [0.6313726 , 0.50759804, 0.34117648]],\n",
              "\n",
              "        [[0.72745097, 0.60588235, 0.43333334],\n",
              "         [0.722549  , 0.6009804 , 0.42843136],\n",
              "         [0.71568626, 0.59411764, 0.42156863],\n",
              "         ...,\n",
              "         [0.6112745 , 0.49362746, 0.34607843],\n",
              "         [0.6259804 , 0.5090686 , 0.35857844],\n",
              "         [0.627451  , 0.5137255 , 0.35686275]]],\n",
              "\n",
              "\n",
              "       [[[0.99509805, 0.9990196 , 0.94215685],\n",
              "         [0.99313724, 0.9892157 , 0.972549  ],\n",
              "         [1.        , 1.        , 0.9627451 ],\n",
              "         ...,\n",
              "         [0.1870098 , 0.17818627, 0.1497549 ],\n",
              "         [0.18431373, 0.18431373, 0.14705883],\n",
              "         [0.19803922, 0.19803922, 0.15882353]],\n",
              "\n",
              "        [[0.99509805, 0.9990196 , 0.94215685],\n",
              "         [0.99313724, 0.9892157 , 0.972549  ],\n",
              "         [1.        , 1.        , 0.9627451 ],\n",
              "         ...,\n",
              "         [0.19117647, 0.18235295, 0.1504902 ],\n",
              "         [0.19142157, 0.19142157, 0.15220588],\n",
              "         [0.19215687, 0.19411765, 0.15392157]],\n",
              "\n",
              "        [[0.99509805, 0.9990196 , 0.9406863 ],\n",
              "         [0.99313724, 0.9892157 , 0.972549  ],\n",
              "         [1.        , 1.        , 0.9583333 ],\n",
              "         ...,\n",
              "         [0.19044118, 0.1882353 , 0.1497549 ],\n",
              "         [0.19583334, 0.19583334, 0.15661764],\n",
              "         [0.19607843, 0.2009804 , 0.16666667]],\n",
              "\n",
              "        ...,\n",
              "\n",
              "        [[0.42230392, 0.32328433, 0.20612745],\n",
              "         [0.48406863, 0.389951  , 0.2625    ],\n",
              "         [0.57867646, 0.48455882, 0.35710785],\n",
              "         ...,\n",
              "         [0.34877452, 0.25931373, 0.22254902],\n",
              "         [0.35514706, 0.26127452, 0.21813725],\n",
              "         [0.3735294 , 0.28333333, 0.22058824]],\n",
              "\n",
              "        [[0.5183824 , 0.4154412 , 0.34485295],\n",
              "         [0.5833333 , 0.4862745 , 0.40392157],\n",
              "         [0.6254902 , 0.53210783, 0.45563725],\n",
              "         ...,\n",
              "         [0.31813726, 0.23455882, 0.20882353],\n",
              "         [0.32916668, 0.23308824, 0.20661765],\n",
              "         [0.33406863, 0.24019608, 0.19264705]],\n",
              "\n",
              "        [[0.5240196 , 0.42034313, 0.37279412],\n",
              "         [0.5357843 , 0.43676472, 0.38039216],\n",
              "         [0.5487745 , 0.45784312, 0.40441176],\n",
              "         ...,\n",
              "         [0.3254902 , 0.2529412 , 0.21470588],\n",
              "         [0.32156864, 0.23504902, 0.20049019],\n",
              "         [0.33529413, 0.24215686, 0.19313726]]],\n",
              "\n",
              "\n",
              "       [[[0.9911765 , 0.9911765 , 0.85588235],\n",
              "         [0.9980392 , 0.9990196 , 0.90931374],\n",
              "         [0.99313724, 1.        , 0.95392156],\n",
              "         ...,\n",
              "         [0.17745098, 0.18921569, 0.16176471],\n",
              "         [0.18431373, 0.19607843, 0.16862746],\n",
              "         [0.19142157, 0.21102941, 0.18357843]],\n",
              "\n",
              "        [[0.9911765 , 0.9911765 , 0.85588235],\n",
              "         [0.99215686, 0.9990196 , 0.9107843 ],\n",
              "         [0.99215686, 1.        , 0.95416665],\n",
              "         ...,\n",
              "         [0.1764706 , 0.1882353 , 0.15490197],\n",
              "         [0.18137255, 0.19901961, 0.17230392],\n",
              "         [0.19044118, 0.21004902, 0.18848039]],\n",
              "\n",
              "        [[0.9911765 , 0.9889706 , 0.8617647 ],\n",
              "         [0.99215686, 0.9990196 , 0.9127451 ],\n",
              "         [0.99215686, 1.        , 0.95490193],\n",
              "         ...,\n",
              "         [0.1629902 , 0.1747549 , 0.14142157],\n",
              "         [0.17892157, 0.18995099, 0.16764706],\n",
              "         [0.1889706 , 0.20833333, 0.19338235]],\n",
              "\n",
              "        ...,\n",
              "\n",
              "        [[0.5448529 , 0.42083332, 0.31862745],\n",
              "         [0.5735294 , 0.45196077, 0.34901962],\n",
              "         [0.63039213, 0.50980395, 0.40098038],\n",
              "         ...,\n",
              "         [0.32205883, 0.2367647 , 0.18088235],\n",
              "         [0.3272059 , 0.22598039, 0.1629902 ],\n",
              "         [0.40882352, 0.30759802, 0.24019608]],\n",
              "\n",
              "        [[0.48161766, 0.36593136, 0.30710784],\n",
              "         [0.56102943, 0.44534314, 0.3865196 ],\n",
              "         [0.6095588 , 0.49509802, 0.43480393],\n",
              "         ...,\n",
              "         [0.30588236, 0.2254902 , 0.18235295],\n",
              "         [0.32058823, 0.22573529, 0.17867647],\n",
              "         [0.31789216, 0.22254902, 0.17254902]],\n",
              "\n",
              "        [[0.4884804 , 0.37696078, 0.3389706 ],\n",
              "         [0.51715684, 0.40612745, 0.36789215],\n",
              "         [0.52892154, 0.42303923, 0.38039216],\n",
              "         ...,\n",
              "         [0.32083333, 0.23112746, 0.19705883],\n",
              "         [0.30490196, 0.21078432, 0.16568628],\n",
              "         [0.29803923, 0.21176471, 0.16078432]]],\n",
              "\n",
              "\n",
              "       ...,\n",
              "\n",
              "\n",
              "       [[[0.99607843, 1.        , 0.82303923],\n",
              "         [0.9889706 , 0.9968137 , 0.8061274 ],\n",
              "         [0.99019605, 0.99215686, 0.7916667 ],\n",
              "         ...,\n",
              "         [0.78995097, 0.6487745 , 0.50759804],\n",
              "         [0.79289216, 0.6546569 , 0.50759804],\n",
              "         [0.79901963, 0.6617647 , 0.5127451 ]],\n",
              "\n",
              "        [[0.9941176 , 0.9990196 , 0.8137255 ],\n",
              "         [0.9911765 , 0.9990196 , 0.80588233],\n",
              "         [0.99191177, 0.99485296, 0.78995097],\n",
              "         ...,\n",
              "         [0.7875    , 0.6480392 , 0.5034314 ],\n",
              "         [0.7882353 , 0.6509804 , 0.5019608 ],\n",
              "         [0.8009804 , 0.6647059 , 0.5156863 ]],\n",
              "\n",
              "        [[0.9970588 , 0.99607843, 0.80196077],\n",
              "         [0.99509805, 0.9970588 , 0.79901963],\n",
              "         [0.9965686 , 0.9970588 , 0.7872549 ],\n",
              "         ...,\n",
              "         [0.78431374, 0.64705884, 0.49803922],\n",
              "         [0.7852941 , 0.6502451 , 0.5012255 ],\n",
              "         [0.7911765 , 0.6578431 , 0.5088235 ]],\n",
              "\n",
              "        ...,\n",
              "\n",
              "        [[0.3529412 , 0.25882354, 0.24313726],\n",
              "         [0.33553922, 0.24313726, 0.2240196 ],\n",
              "         [0.34019607, 0.25      , 0.22647059],\n",
              "         ...,\n",
              "         [0.42843136, 0.31593138, 0.2764706 ],\n",
              "         [0.42843136, 0.3137255 , 0.28235295],\n",
              "         [0.42156863, 0.30686274, 0.2754902 ]],\n",
              "\n",
              "        [[0.34607843, 0.25490198, 0.23333333],\n",
              "         [0.3362745 , 0.24607843, 0.22254902],\n",
              "         [0.34632352, 0.25612745, 0.23259804],\n",
              "         ...,\n",
              "         [0.43137255, 0.3137255 , 0.2764706 ],\n",
              "         [0.43137255, 0.3137255 , 0.28235295],\n",
              "         [0.43063724, 0.3129902 , 0.28161764]],\n",
              "\n",
              "        [[0.35      , 0.25196078, 0.23235294],\n",
              "         [0.34117648, 0.2509804 , 0.22745098],\n",
              "         [0.35490197, 0.2647059 , 0.24117647],\n",
              "         ...,\n",
              "         [0.4362745 , 0.31862745, 0.28137255],\n",
              "         [0.43235293, 0.31470588, 0.28333333],\n",
              "         [0.4343137 , 0.31666666, 0.28529412]]],\n",
              "\n",
              "\n",
              "       [[[0.16666667, 0.19803922, 0.20588236],\n",
              "         [0.16764706, 0.19901961, 0.20686275],\n",
              "         [0.17352942, 0.19607843, 0.20980392],\n",
              "         ...,\n",
              "         [0.6931372 , 0.5529412 , 0.3970588 ],\n",
              "         [0.67941177, 0.53039217, 0.37892157],\n",
              "         [0.6901961 , 0.53333336, 0.39215687]],\n",
              "\n",
              "        [[0.15220588, 0.18357843, 0.19240196],\n",
              "         [0.15220588, 0.17843138, 0.18970588],\n",
              "         [0.15514706, 0.1747549 , 0.19044118],\n",
              "         ...,\n",
              "         [0.70367646, 0.5629902 , 0.39632353],\n",
              "         [0.6968137 , 0.5502451 , 0.38578433],\n",
              "         [0.69509804, 0.5421569 , 0.3872549 ]],\n",
              "\n",
              "        [[0.16740195, 0.18995099, 0.20465687],\n",
              "         [0.1637255 , 0.18333334, 0.19901961],\n",
              "         [0.15686275, 0.1764706 , 0.19215687],\n",
              "         ...,\n",
              "         [0.7223039 , 0.5772059 , 0.4105392 ],\n",
              "         [0.70661765, 0.55563724, 0.39338234],\n",
              "         [0.70416665, 0.5512255 , 0.39044118]],\n",
              "\n",
              "        ...,\n",
              "\n",
              "        [[0.71666664, 0.6009804 , 0.42647058],\n",
              "         [0.7257353 , 0.6105392 , 0.4379902 ],\n",
              "         [0.7242647 , 0.61151963, 0.4360294 ],\n",
              "         ...,\n",
              "         [0.64362746, 0.53186274, 0.50147057],\n",
              "         [0.65563726, 0.5497549 , 0.51642156],\n",
              "         [0.61813724, 0.5144608 , 0.4745098 ]],\n",
              "\n",
              "        [[0.7235294 , 0.6107843 , 0.42647058],\n",
              "         [0.7242647 , 0.61151963, 0.4360294 ],\n",
              "         [0.7267157 , 0.61985296, 0.44142157],\n",
              "         ...,\n",
              "         [0.53186274, 0.42205882, 0.40857843],\n",
              "         [0.54534316, 0.44436276, 0.4257353 ],\n",
              "         [0.6968137 , 0.5987745 , 0.5772059 ]],\n",
              "\n",
              "        [[0.714951  , 0.61151963, 0.47034314],\n",
              "         [0.7370098 , 0.6340686 , 0.50171566],\n",
              "         [0.7223039 , 0.6193628 , 0.4870098 ],\n",
              "         ...,\n",
              "         [0.53406864, 0.42034313, 0.39681372],\n",
              "         [0.5992647 , 0.49289215, 0.4642157 ],\n",
              "         [0.7029412 , 0.59705883, 0.5661765 ]]],\n",
              "\n",
              "\n",
              "       [[[0.99215686, 1.        , 0.95686275],\n",
              "         [0.99215686, 0.9990196 , 0.9588235 ],\n",
              "         [0.99215686, 0.99607843, 0.9647059 ],\n",
              "         ...,\n",
              "         [0.23039216, 0.21568628, 0.18235295],\n",
              "         [0.18921569, 0.18333334, 0.16176471],\n",
              "         [0.16642156, 0.1625    , 0.14681372]],\n",
              "\n",
              "        [[0.99215686, 0.9990196 , 0.9588235 ],\n",
              "         [0.99215686, 0.99607843, 0.9647059 ],\n",
              "         [0.99215686, 0.99607843, 0.9647059 ],\n",
              "         ...,\n",
              "         [0.2245098 , 0.20980392, 0.1764706 ],\n",
              "         [0.19289216, 0.1870098 , 0.16544117],\n",
              "         [0.16960785, 0.16568628, 0.14901961]],\n",
              "\n",
              "        [[0.99509805, 0.99313724, 0.9705882 ],\n",
              "         [0.99215686, 0.99607843, 0.96911764],\n",
              "         [0.99215686, 0.99607843, 0.9647059 ],\n",
              "         ...,\n",
              "         [0.22352941, 0.20882353, 0.1754902 ],\n",
              "         [0.18995099, 0.18627451, 0.15808824],\n",
              "         [0.17254902, 0.16862746, 0.14901961]],\n",
              "\n",
              "        ...,\n",
              "\n",
              "        [[0.35465688, 0.26446077, 0.24093138],\n",
              "         [0.3529412 , 0.2627451 , 0.23921569],\n",
              "         [0.35196078, 0.2617647 , 0.2382353 ],\n",
              "         ...,\n",
              "         [0.33431372, 0.26960784, 0.21372549],\n",
              "         [0.28014705, 0.20588236, 0.15367647],\n",
              "         [0.3019608 , 0.21568628, 0.16666667]],\n",
              "\n",
              "        [[0.3509804 , 0.26078433, 0.2372549 ],\n",
              "         [0.34534314, 0.25514707, 0.23161764],\n",
              "         [0.33995098, 0.2497549 , 0.2262255 ],\n",
              "         ...,\n",
              "         [0.33529413, 0.27058825, 0.22058824],\n",
              "         [0.28112745, 0.20906863, 0.1627451 ],\n",
              "         [0.2990196 , 0.21862745, 0.1754902 ]],\n",
              "\n",
              "        [[0.34607843, 0.25588235, 0.23235294],\n",
              "         [0.3362745 , 0.24607843, 0.22254902],\n",
              "         [0.33333334, 0.24313726, 0.21960784],\n",
              "         ...,\n",
              "         [0.3156863 , 0.2529412 , 0.20196079],\n",
              "         [0.28235295, 0.21372549, 0.16568628],\n",
              "         [0.30392158, 0.2254902 , 0.18235295]]]], dtype=float32)"
            ]
          },
          "metadata": {},
          "execution_count": 67
        }
      ]
    },
    {
      "cell_type": "code",
      "source": [
        "test_var =  test_data.as_numpy_iterator().next()"
      ],
      "metadata": {
        "id": "o7GeT-DEw-sk"
      },
      "execution_count": 68,
      "outputs": []
    },
    {
      "cell_type": "code",
      "execution_count": 69,
      "metadata": {
        "tags": [],
        "id": "2aqWZz5Oohbv",
        "colab": {
          "base_uri": "https://localhost:8080/"
        },
        "outputId": "c1063274-5649-4747-a7a8-af1092941241"
      },
      "outputs": [
        {
          "output_type": "stream",
          "name": "stdout",
          "text": [
            "1/1 [==============================] - 2s 2s/step\n"
          ]
        }
      ],
      "source": [
        "y_hat = siamese_model.predict([test_input, test_val])"
      ]
    },
    {
      "cell_type": "code",
      "source": [
        "y_hat"
      ],
      "metadata": {
        "colab": {
          "base_uri": "https://localhost:8080/"
        },
        "id": "KNC17PDgy2Jb",
        "outputId": "23c8c785-e741-4f76-ec87-081b544c461e"
      },
      "execution_count": 70,
      "outputs": [
        {
          "output_type": "execute_result",
          "data": {
            "text/plain": [
              "array([[7.0325994e-05],\n",
              "       [9.9999994e-01],\n",
              "       [6.1866854e-06],\n",
              "       [2.5542204e-07],\n",
              "       [9.9999940e-01],\n",
              "       [1.0565318e-03],\n",
              "       [9.9999738e-01],\n",
              "       [9.9999666e-01],\n",
              "       [2.4900130e-05],\n",
              "       [4.6043176e-08]], dtype=float32)"
            ]
          },
          "metadata": {},
          "execution_count": 70
        }
      ]
    },
    {
      "cell_type": "code",
      "execution_count": 71,
      "metadata": {
        "tags": [],
        "id": "CKIfB0xSohbw",
        "colab": {
          "base_uri": "https://localhost:8080/"
        },
        "outputId": "403b97db-acc0-4720-b4e9-b718a1b4ac5f"
      },
      "outputs": [
        {
          "output_type": "execute_result",
          "data": {
            "text/plain": [
              "[0, 1, 0, 0, 1, 0, 1, 1, 0, 0]"
            ]
          },
          "metadata": {},
          "execution_count": 71
        }
      ],
      "source": [
        "# Post processing the results\n",
        "[1 if prediction > 0.5 else 0 for prediction in y_hat ]"
      ]
    },
    {
      "cell_type": "code",
      "execution_count": 72,
      "metadata": {
        "tags": [],
        "id": "fxuKyDg5ohbw",
        "colab": {
          "base_uri": "https://localhost:8080/"
        },
        "outputId": "f8c41627-65ca-4422-c095-5ee764b4b374"
      },
      "outputs": [
        {
          "output_type": "execute_result",
          "data": {
            "text/plain": [
              "array([0., 1., 0., 0., 1., 0., 1., 1., 0., 0.], dtype=float32)"
            ]
          },
          "metadata": {},
          "execution_count": 72
        }
      ],
      "source": [
        "y_true"
      ]
    },
    {
      "cell_type": "markdown",
      "metadata": {
        "id": "3cVh4I8cohbw"
      },
      "source": [
        "## 6.3 Calculate Metrics"
      ]
    },
    {
      "cell_type": "code",
      "execution_count": 73,
      "metadata": {
        "id": "aAuYdb_Wohbw",
        "colab": {
          "base_uri": "https://localhost:8080/"
        },
        "outputId": "98639640-fe23-4c8d-e0b7-cc08472af895"
      },
      "outputs": [
        {
          "output_type": "execute_result",
          "data": {
            "text/plain": [
              "1.0"
            ]
          },
          "metadata": {},
          "execution_count": 73
        }
      ],
      "source": [
        "# Creating a metric object\n",
        "m = Recall()\n",
        "\n",
        "# Calculating the recall value\n",
        "m.update_state(y_true, y_hat)\n",
        "\n",
        "# Return Recall Result\n",
        "m.result().numpy()"
      ]
    },
    {
      "cell_type": "code",
      "execution_count": 74,
      "metadata": {
        "id": "gXJ8Mg3aohbw",
        "colab": {
          "base_uri": "https://localhost:8080/"
        },
        "outputId": "f753149c-c157-4161-925e-45464f1f56af"
      },
      "outputs": [
        {
          "output_type": "execute_result",
          "data": {
            "text/plain": [
              "1.0"
            ]
          },
          "metadata": {},
          "execution_count": 74
        }
      ],
      "source": [
        "# Creating a metric object\n",
        "m = Precision()\n",
        "\n",
        "# Calculating the recall value\n",
        "m.update_state(y_true, y_hat)\n",
        "\n",
        "# Return Recall Result\n",
        "m.result().numpy()"
      ]
    },
    {
      "cell_type": "code",
      "execution_count": 59,
      "metadata": {
        "id": "1d3FQCQSohbw",
        "colab": {
          "base_uri": "https://localhost:8080/"
        },
        "outputId": "a67d774e-15ef-484c-ef74-9c11760ad203"
      },
      "outputs": [
        {
          "output_type": "stream",
          "name": "stdout",
          "text": [
            "1/1 [==============================] - 2s 2s/step\n",
            "1/1 [==============================] - 2s 2s/step\n",
            "1/1 [==============================] - 0s 235ms/step\n",
            "1.0 1.0\n"
          ]
        }
      ],
      "source": [
        "r = Recall()\n",
        "p = Precision()\n",
        "\n",
        "for test_input, test_val, y_true in test_data.as_numpy_iterator():\n",
        "    yhat = siamese_model.predict([test_input, test_val])\n",
        "    r.update_state(y_true, yhat)\n",
        "    p.update_state(y_true,yhat)\n",
        "\n",
        "print(r.result().numpy(), p.result().numpy())"
      ]
    },
    {
      "cell_type": "markdown",
      "metadata": {
        "id": "5KAZsA15ohbw"
      },
      "source": [
        "## 6.4 Viz Results"
      ]
    },
    {
      "cell_type": "code",
      "execution_count": 76,
      "metadata": {
        "id": "S8YBlss3ohbw",
        "colab": {
          "base_uri": "https://localhost:8080/",
          "height": 416
        },
        "outputId": "0d928b57-9462-4d70-9018-28497a4ec7ff",
        "collapsed": true
      },
      "outputs": [
        {
          "output_type": "display_data",
          "data": {
            "text/plain": [
              "<Figure size 1000x800 with 2 Axes>"
            ],
            "image/png": "[encoded data removed]"
          },
          "metadata": {}
        }
      ],
      "source": [
        "# Set plot size\n",
        "plt.figure(figsize=(10,8))\n",
        "\n",
        "# Set first subplot\n",
        "plt.subplot(1,2,1)\n",
        "plt.imshow(test_input[1])\n",
        "\n",
        "# Set second subplot\n",
        "plt.subplot(1,2,2)\n",
        "plt.imshow(test_val[1])\n",
        "\n",
        "# Renders cleanly\n",
        "plt.show()"
      ]
    },
    {
      "cell_type": "markdown",
      "metadata": {
        "id": "nL4jx73dohbw"
      },
      "source": [
        "# 7. Save Model"
      ]
    },
    {
      "cell_type": "code",
      "execution_count": 77,
      "metadata": {
        "id": "qwBnC3lGohbw",
        "colab": {
          "base_uri": "https://localhost:8080/"
        },
        "outputId": "15080a9f-361a-4d6c-bc53-66237d78772f"
      },
      "outputs": [
        {
          "output_type": "stream",
          "name": "stderr",
          "text": [
            "/usr/local/lib/python3.10/dist-packages/keras/src/engine/training.py:3103: UserWarning: You are saving your model as an HDF5 file via `model.save()`. This file format is considered legacy. We recommend using instead the native Keras format, e.g. `model.save('my_model.keras')`.\n",
            "  saving_api.save_model(\n",
            "WARNING:tensorflow:Compiled the loaded model, but the compiled metrics have yet to be built. `model.compile_metrics` will be empty until you train or evaluate the model.\n"
          ]
        }
      ],
      "source": [
        "# Save weights\n",
        "siamese_model.save('siamesemodelv1.h5')"
      ]
    },
    {
      "cell_type": "code",
      "execution_count": 82,
      "metadata": {
        "id": "EtIH0Pz8ohbw",
        "colab": {
          "base_uri": "https://localhost:8080/"
        },
        "outputId": "f238ea03-99f2-4892-8db7-8f122b250721"
      },
      "outputs": [
        {
          "output_type": "stream",
          "name": "stderr",
          "text": [
            "WARNING:tensorflow:No training configuration found in the save file, so the model was *not* compiled. Compile it manually.\n"
          ]
        }
      ],
      "source": [
        "# Reload model\n",
        "siamese_model = tf.keras.models.load_model('siamesemodelv1.h5',\n",
        "                                   custom_objects={'L1Dist':L1Dist, 'BinaryCrossentropy':tf.losses.BinaryCrossentropy})"
      ]
    },
    {
      "cell_type": "code",
      "execution_count": 83,
      "metadata": {
        "id": "xfe0KjC9ohbx",
        "colab": {
          "base_uri": "https://localhost:8080/"
        },
        "outputId": "b5009fef-4e67-4948-8e41-31d76c501371"
      },
      "outputs": [
        {
          "output_type": "stream",
          "name": "stdout",
          "text": [
            "1/1 [==============================] - 2s 2s/step\n"
          ]
        },
        {
          "output_type": "execute_result",
          "data": {
            "text/plain": [
              "array([[7.0325994e-05],\n",
              "       [9.9999994e-01],\n",
              "       [6.1866854e-06],\n",
              "       [2.5542204e-07],\n",
              "       [9.9999940e-01],\n",
              "       [1.0565318e-03],\n",
              "       [9.9999738e-01],\n",
              "       [9.9999666e-01],\n",
              "       [2.4900130e-05],\n",
              "       [4.6043176e-08]], dtype=float32)"
            ]
          },
          "metadata": {},
          "execution_count": 83
        }
      ],
      "source": [
        "# Make predictions with reloaded model\n",
        "siamese_model.predict([test_input, test_val])"
      ]
    },
    {
      "cell_type": "code",
      "execution_count": null,
      "metadata": {
        "id": "Ea3yJMJLohbx",
        "colab": {
          "base_uri": "https://localhost:8080/"
        },
        "outputId": "ab6b2a8b-4f11-4555-9dd4-687be193576e"
      },
      "outputs": [
        {
          "output_type": "stream",
          "name": "stdout",
          "text": [
            "Model: \"SiameseNetwork\"\n",
            "__________________________________________________________________________________________________\n",
            " Layer (type)                Output Shape                 Param #   Connected to                  \n",
            "==================================================================================================\n",
            " input_img (InputLayer)      [(None, 100, 100, 3)]        0         []                            \n",
            "                                                                                                  \n",
            " validation_img (InputLayer  [(None, 100, 100, 3)]        0         []                            \n",
            " )                                                                                                \n",
            "                                                                                                  \n",
            " embedding (Functional)      (None, 4096)                 3896044   ['input_img[0][0]',           \n",
            "                                                          8          'validation_img[0][0]']      \n",
            "                                                                                                  \n",
            " distance (L1Dist)           (None, 4096)                 0         ['embedding[0][0]',           \n",
            "                                                                     'embedding[1][0]']           \n",
            "                                                                                                  \n",
            " dense_6 (Dense)             (None, 1)                    4097      ['distance[0][0]']            \n",
            "                                                                                                  \n",
            "==================================================================================================\n",
            "Total params: 38964545 (148.64 MB)\n",
            "Trainable params: 38964545 (148.64 MB)\n",
            "Non-trainable params: 0 (0.00 Byte)\n",
            "__________________________________________________________________________________________________\n"
          ]
        }
      ],
      "source": [
        "# View model summary\n",
        "siamese_model.summary()"
      ]
    },
    {
      "cell_type": "markdown",
      "metadata": {
        "id": "88aE4B2iohbx"
      },
      "source": [
        "# 8. Real Time Test"
      ]
    },
    {
      "cell_type": "markdown",
      "metadata": {
        "id": "uyrJCguwohbx"
      },
      "source": [
        "## 8.1 Verification Function"
      ]
    },
    {
      "cell_type": "code",
      "source": [
        "VERIFICATION_IMAGE_PATH=os.path.join('application_data', 'verification_images')\n",
        "INPUT_IMAGE_PATH=os.path.join('application_data', 'input_image')"
      ],
      "metadata": {
        "id": "0QSOSMeOX8UJ"
      },
      "execution_count": 84,
      "outputs": []
    },
    {
      "cell_type": "code",
      "source": [
        "#creating application flfer\n",
        "os.makedirs(VERIFICATION_IMAGE_PATH)\n",
        "os.makedirs(INPUT_IMAGE_PATH)"
      ],
      "metadata": {
        "id": "xPiGlu7eXikM"
      },
      "execution_count": 85,
      "outputs": []
    },
    {
      "cell_type": "code",
      "source": [
        "!cp -r /content/drive/MyDrive/Face-recogniation/data/positive  /content/application_data/"
      ],
      "metadata": {
        "id": "3mdhVEVTjQOM"
      },
      "execution_count": 86,
      "outputs": []
    },
    {
      "cell_type": "code",
      "execution_count": 87,
      "metadata": {
        "id": "ijWeSsLfohbx"
      },
      "outputs": [],
      "source": [
        "def verify(model, detection_threshold, verification_threshold):\n",
        "    # Build results array\n",
        "    results = []\n",
        "    for image in os.listdir(os.path.join('application_data', 'verification_images')):\n",
        "        input_img = preprocess(os.path.join('application_data', 'input_image', 'input_image.jpg'))\n",
        "        validation_img = preprocess(os.path.join('application_data', 'verification_images', image))\n",
        "\n",
        "        # Make Predictions\n",
        "        result = model.predict(list(np.expand_dims([input_img, validation_img], axis=1)))\n",
        "        results.append(result)\n",
        "\n",
        "    # Detection Threshold: Metric above which a prediciton is considered positive\n",
        "    detection = np.sum(np.array(results) > detection_threshold)\n",
        "\n",
        "    # Verification Threshold: Proportion of positive predictions / total positive samples\n",
        "    verification = detection / len(os.listdir(os.path.join('application_data', 'verification_images')))\n",
        "    verified = verification > verification_threshold\n",
        "\n",
        "    return results, verified"
      ]
    },
    {
      "cell_type": "markdown",
      "metadata": {
        "id": "7KXIEujDohbx"
      },
      "source": [
        "## 8.2  Real Time Verification\n",
        "\n",
        "---\n",
        "\n"
      ]
    },
    {
      "cell_type": "code",
      "source": [
        "from IPython.display import Image\n",
        "\n",
        "FOLDER_PATH = '/content/application_data/input_image'\n",
        "\n",
        "try:\n",
        "    filename = take_photo(FOLDER_PATH)\n",
        "    new_filename = os.path.join(FOLDER_PATH, 'input_image.jpg')\n",
        "    os.rename(filename, new_filename)\n",
        "    results, verified = verify(siamese_model, 0.9, 0.7)\n",
        "    print(verified)\n",
        "\n",
        "    # Show the image which was just taken.\n",
        "    display(Image(new_filename))\n",
        "except Exception as err:\n",
        "    # Errors will be thrown if the user does not have a webcam or if they do not\n",
        "    # grant the page permission to access it.\n",
        "    print(str(err))\n"
      ],
      "metadata": {
        "id": "n_fn8Ut6jLfw",
        "collapsed": true
      },
      "execution_count": null,
      "outputs": []
    }
  ],
  "metadata": {
    "kernelspec": {
      "display_name": "Python 3",
      "name": "python3"
    },
    "language_info": {
      "codemirror_mode": {
        "name": "ipython",
        "version": 3
      },
      "file_extension": ".py",
      "mimetype": "text/x-python",
      "name": "python",
      "nbconvert_exporter": "python",
      "pygments_lexer": "ipython3",
      "version": "3.10.12"
    },
    "colab": {
      "provenance": [],
      "gpuType": "T4",
      "include_colab_link": true
    },
    "accelerator": "GPU"
  },
  "nbformat": 4,
  "nbformat_minor": 0
}